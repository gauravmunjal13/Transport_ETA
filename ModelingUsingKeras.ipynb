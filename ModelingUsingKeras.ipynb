{
 "cells": [
  {
   "cell_type": "markdown",
   "metadata": {},
   "source": [
    "## Import Libraries"
   ]
  },
  {
   "cell_type": "code",
   "execution_count": null,
   "metadata": {
    "collapsed": true
   },
   "outputs": [],
   "source": [
    "# Loading libraries\n",
    "import pandas as pd\n",
    "import numpy as np\n",
    "import matplotlib.pyplot as plt\n",
    "import seaborn as sns\n",
    "import datetime as dt\n",
    "\n",
    "# For display\n",
    "%matplotlib inline\n",
    "\n",
    "# Setting format for not to display in scientific notation \n",
    "pd.options.display.float_format = '{:.2f}'.format"
   ]
  },
  {
   "cell_type": "markdown",
   "metadata": {},
   "source": [
    "## Load the Pre-Processed data"
   ]
  },
  {
   "cell_type": "code",
   "execution_count": 2,
   "metadata": {
    "collapsed": true
   },
   "outputs": [],
   "source": [
    "raw_df = pd.read_csv(\"PreProcessed.csv\")"
   ]
  },
  {
   "cell_type": "code",
   "execution_count": 3,
   "metadata": {},
   "outputs": [
    {
     "data": {
      "text/plain": [
       "(42185, 196)"
      ]
     },
     "execution_count": 3,
     "metadata": {},
     "output_type": "execute_result"
    }
   ],
   "source": [
    "raw_df.shape"
   ]
  },
  {
   "cell_type": "markdown",
   "metadata": {},
   "source": [
    "## Eploring the dataset"
   ]
  },
  {
   "cell_type": "code",
   "execution_count": 4,
   "metadata": {},
   "outputs": [
    {
     "data": {
      "text/html": [
       "<div>\n",
       "<style>\n",
       "    .dataframe thead tr:only-child th {\n",
       "        text-align: right;\n",
       "    }\n",
       "\n",
       "    .dataframe thead th {\n",
       "        text-align: left;\n",
       "    }\n",
       "\n",
       "    .dataframe tbody tr th {\n",
       "        vertical-align: top;\n",
       "    }\n",
       "</style>\n",
       "<table border=\"1\" class=\"dataframe\">\n",
       "  <thead>\n",
       "    <tr style=\"text-align: right;\">\n",
       "      <th></th>\n",
       "      <th>0</th>\n",
       "      <th>1</th>\n",
       "      <th>2</th>\n",
       "      <th>3</th>\n",
       "      <th>4</th>\n",
       "      <th>5</th>\n",
       "      <th>6</th>\n",
       "      <th>7</th>\n",
       "      <th>8</th>\n",
       "      <th>9</th>\n",
       "      <th>...</th>\n",
       "      <th>186</th>\n",
       "      <th>187</th>\n",
       "      <th>188</th>\n",
       "      <th>189</th>\n",
       "      <th>190</th>\n",
       "      <th>191</th>\n",
       "      <th>192</th>\n",
       "      <th>193</th>\n",
       "      <th>actual_time_to_travel</th>\n",
       "      <th>time_taken_sofar</th>\n",
       "    </tr>\n",
       "  </thead>\n",
       "  <tbody>\n",
       "    <tr>\n",
       "      <th>0</th>\n",
       "      <td>1.00</td>\n",
       "      <td>0.00</td>\n",
       "      <td>0.00</td>\n",
       "      <td>0.00</td>\n",
       "      <td>0.00</td>\n",
       "      <td>0.00</td>\n",
       "      <td>1.00</td>\n",
       "      <td>0.00</td>\n",
       "      <td>0.00</td>\n",
       "      <td>0.00</td>\n",
       "      <td>...</td>\n",
       "      <td>0.00</td>\n",
       "      <td>0.00</td>\n",
       "      <td>0.00</td>\n",
       "      <td>0.00</td>\n",
       "      <td>0.00</td>\n",
       "      <td>0.00</td>\n",
       "      <td>0.00</td>\n",
       "      <td>0.00</td>\n",
       "      <td>nan</td>\n",
       "      <td>nan</td>\n",
       "    </tr>\n",
       "    <tr>\n",
       "      <th>1</th>\n",
       "      <td>1.00</td>\n",
       "      <td>0.00</td>\n",
       "      <td>0.00</td>\n",
       "      <td>0.00</td>\n",
       "      <td>0.00</td>\n",
       "      <td>0.00</td>\n",
       "      <td>1.00</td>\n",
       "      <td>0.00</td>\n",
       "      <td>0.00</td>\n",
       "      <td>0.00</td>\n",
       "      <td>...</td>\n",
       "      <td>0.00</td>\n",
       "      <td>0.00</td>\n",
       "      <td>0.00</td>\n",
       "      <td>0.00</td>\n",
       "      <td>0.00</td>\n",
       "      <td>0.00</td>\n",
       "      <td>0.00</td>\n",
       "      <td>0.00</td>\n",
       "      <td>10.00</td>\n",
       "      <td>0.00</td>\n",
       "    </tr>\n",
       "    <tr>\n",
       "      <th>2</th>\n",
       "      <td>1.00</td>\n",
       "      <td>0.00</td>\n",
       "      <td>0.00</td>\n",
       "      <td>0.00</td>\n",
       "      <td>0.00</td>\n",
       "      <td>0.00</td>\n",
       "      <td>1.00</td>\n",
       "      <td>0.00</td>\n",
       "      <td>0.00</td>\n",
       "      <td>0.00</td>\n",
       "      <td>...</td>\n",
       "      <td>0.00</td>\n",
       "      <td>0.00</td>\n",
       "      <td>0.00</td>\n",
       "      <td>0.00</td>\n",
       "      <td>0.00</td>\n",
       "      <td>0.00</td>\n",
       "      <td>0.00</td>\n",
       "      <td>0.00</td>\n",
       "      <td>51.00</td>\n",
       "      <td>10.00</td>\n",
       "    </tr>\n",
       "    <tr>\n",
       "      <th>3</th>\n",
       "      <td>1.00</td>\n",
       "      <td>0.00</td>\n",
       "      <td>0.00</td>\n",
       "      <td>0.00</td>\n",
       "      <td>0.00</td>\n",
       "      <td>0.00</td>\n",
       "      <td>1.00</td>\n",
       "      <td>0.00</td>\n",
       "      <td>0.00</td>\n",
       "      <td>0.00</td>\n",
       "      <td>...</td>\n",
       "      <td>0.00</td>\n",
       "      <td>0.00</td>\n",
       "      <td>0.00</td>\n",
       "      <td>0.00</td>\n",
       "      <td>0.00</td>\n",
       "      <td>0.00</td>\n",
       "      <td>0.00</td>\n",
       "      <td>0.00</td>\n",
       "      <td>20.00</td>\n",
       "      <td>61.00</td>\n",
       "    </tr>\n",
       "    <tr>\n",
       "      <th>4</th>\n",
       "      <td>1.00</td>\n",
       "      <td>0.00</td>\n",
       "      <td>0.00</td>\n",
       "      <td>0.00</td>\n",
       "      <td>0.00</td>\n",
       "      <td>0.00</td>\n",
       "      <td>1.00</td>\n",
       "      <td>0.00</td>\n",
       "      <td>0.00</td>\n",
       "      <td>0.00</td>\n",
       "      <td>...</td>\n",
       "      <td>0.00</td>\n",
       "      <td>0.00</td>\n",
       "      <td>0.00</td>\n",
       "      <td>0.00</td>\n",
       "      <td>0.00</td>\n",
       "      <td>0.00</td>\n",
       "      <td>0.00</td>\n",
       "      <td>0.00</td>\n",
       "      <td>10.00</td>\n",
       "      <td>81.00</td>\n",
       "    </tr>\n",
       "  </tbody>\n",
       "</table>\n",
       "<p>5 rows × 196 columns</p>\n",
       "</div>"
      ],
      "text/plain": [
       "     0    1    2    3    4    5    6    7    8    9        ...         186  \\\n",
       "0 1.00 0.00 0.00 0.00 0.00 0.00 1.00 0.00 0.00 0.00        ...        0.00   \n",
       "1 1.00 0.00 0.00 0.00 0.00 0.00 1.00 0.00 0.00 0.00        ...        0.00   \n",
       "2 1.00 0.00 0.00 0.00 0.00 0.00 1.00 0.00 0.00 0.00        ...        0.00   \n",
       "3 1.00 0.00 0.00 0.00 0.00 0.00 1.00 0.00 0.00 0.00        ...        0.00   \n",
       "4 1.00 0.00 0.00 0.00 0.00 0.00 1.00 0.00 0.00 0.00        ...        0.00   \n",
       "\n",
       "   187  188  189  190  191  192  193  actual_time_to_travel  time_taken_sofar  \n",
       "0 0.00 0.00 0.00 0.00 0.00 0.00 0.00                    nan               nan  \n",
       "1 0.00 0.00 0.00 0.00 0.00 0.00 0.00                  10.00              0.00  \n",
       "2 0.00 0.00 0.00 0.00 0.00 0.00 0.00                  51.00             10.00  \n",
       "3 0.00 0.00 0.00 0.00 0.00 0.00 0.00                  20.00             61.00  \n",
       "4 0.00 0.00 0.00 0.00 0.00 0.00 0.00                  10.00             81.00  \n",
       "\n",
       "[5 rows x 196 columns]"
      ]
     },
     "execution_count": 4,
     "metadata": {},
     "output_type": "execute_result"
    }
   ],
   "source": [
    "raw_df.head()"
   ]
  },
  {
   "cell_type": "markdown",
   "metadata": {},
   "source": [
    "### Explore the response variable: Actual time to travel between the bus stops"
   ]
  },
  {
   "cell_type": "code",
   "execution_count": 5,
   "metadata": {},
   "outputs": [
    {
     "data": {
      "text/plain": [
       "<matplotlib.axes._subplots.AxesSubplot at 0x7f1dc4ba74a8>"
      ]
     },
     "execution_count": 5,
     "metadata": {},
     "output_type": "execute_result"
    },
    {
     "data": {
      "image/png": "[encoded data removed]",
      "text/plain": [
       "<matplotlib.figure.Figure at 0x7f1dc4ba7e80>"
      ]
     },
     "metadata": {},
     "output_type": "display_data"
    }
   ],
   "source": [
    "# Plot the historam\n",
    "raw_df['actual_time_to_travel'].hist(bins = 50)"
   ]
  },
  {
   "cell_type": "code",
   "execution_count": 6,
   "metadata": {},
   "outputs": [
    {
     "data": {
      "text/plain": [
       "count   36566.00\n",
       "mean      149.20\n",
       "std       141.02\n",
       "min         9.00\n",
       "25%        70.00\n",
       "50%       110.00\n",
       "75%       189.00\n",
       "max      1495.00\n",
       "Name: actual_time_to_travel, dtype: float64"
      ]
     },
     "execution_count": 6,
     "metadata": {},
     "output_type": "execute_result"
    }
   ],
   "source": [
    "raw_df['actual_time_to_travel'].describe()"
   ]
  },
  {
   "cell_type": "code",
   "execution_count": 7,
   "metadata": {},
   "outputs": [
    {
     "data": {
      "text/plain": [
       "True"
      ]
     },
     "execution_count": 7,
     "metadata": {},
     "output_type": "execute_result"
    }
   ],
   "source": [
    "# Check for Null Values\n",
    "raw_df['actual_time_to_travel'].hasnans"
   ]
  },
  {
   "cell_type": "code",
   "execution_count": 8,
   "metadata": {
    "collapsed": true
   },
   "outputs": [],
   "source": [
    "# Drop Nan values\n",
    "filtered_df = raw_df.dropna(subset=['actual_time_to_travel'])"
   ]
  },
  {
   "cell_type": "code",
   "execution_count": 9,
   "metadata": {},
   "outputs": [
    {
     "data": {
      "text/plain": [
       "(36566, 196)"
      ]
     },
     "execution_count": 9,
     "metadata": {},
     "output_type": "execute_result"
    }
   ],
   "source": [
    "filtered_df.shape"
   ]
  },
  {
   "cell_type": "markdown",
   "metadata": {},
   "source": [
    "### Split into Train and Test datasets"
   ]
  },
  {
   "cell_type": "code",
   "execution_count": 10,
   "metadata": {
    "collapsed": true
   },
   "outputs": [],
   "source": [
    "X = filtered_df.loc[:,filtered_df.columns != 'actual_time_to_travel']\n",
    "Y = filtered_df.actual_time_to_travel"
   ]
  },
  {
   "cell_type": "code",
   "execution_count": 11,
   "metadata": {},
   "outputs": [
    {
     "data": {
      "text/plain": [
       "(36566, 195)"
      ]
     },
     "execution_count": 11,
     "metadata": {},
     "output_type": "execute_result"
    }
   ],
   "source": [
    "X.shape"
   ]
  },
  {
   "cell_type": "code",
   "execution_count": 12,
   "metadata": {},
   "outputs": [
    {
     "data": {
      "text/plain": [
       "(36566,)"
      ]
     },
     "execution_count": 12,
     "metadata": {},
     "output_type": "execute_result"
    }
   ],
   "source": [
    "Y.shape"
   ]
  },
  {
   "cell_type": "code",
   "execution_count": 72,
   "metadata": {
    "collapsed": true
   },
   "outputs": [],
   "source": [
    "# Import `train_test_split` from `sklearn.model_selection`\n",
    "from sklearn.model_selection import train_test_split\n",
    "\n",
    "# Split the data up in train and test sets\n",
    "X_train, X_test, Y_train, Y_test = train_test_split(X, Y, test_size=0.25, random_state=42)"
   ]
  },
  {
   "cell_type": "code",
   "execution_count": 73,
   "metadata": {},
   "outputs": [
    {
     "data": {
      "text/html": [
       "<div>\n",
       "<style>\n",
       "    .dataframe thead tr:only-child th {\n",
       "        text-align: right;\n",
       "    }\n",
       "\n",
       "    .dataframe thead th {\n",
       "        text-align: left;\n",
       "    }\n",
       "\n",
       "    .dataframe tbody tr th {\n",
       "        vertical-align: top;\n",
       "    }\n",
       "</style>\n",
       "<table border=\"1\" class=\"dataframe\">\n",
       "  <thead>\n",
       "    <tr style=\"text-align: right;\">\n",
       "      <th></th>\n",
       "      <th>0</th>\n",
       "      <th>1</th>\n",
       "      <th>2</th>\n",
       "      <th>3</th>\n",
       "      <th>4</th>\n",
       "      <th>5</th>\n",
       "      <th>6</th>\n",
       "      <th>7</th>\n",
       "      <th>8</th>\n",
       "      <th>9</th>\n",
       "      <th>...</th>\n",
       "      <th>185</th>\n",
       "      <th>186</th>\n",
       "      <th>187</th>\n",
       "      <th>188</th>\n",
       "      <th>189</th>\n",
       "      <th>190</th>\n",
       "      <th>191</th>\n",
       "      <th>192</th>\n",
       "      <th>193</th>\n",
       "      <th>time_taken_sofar</th>\n",
       "    </tr>\n",
       "  </thead>\n",
       "  <tbody>\n",
       "    <tr>\n",
       "      <th>1964</th>\n",
       "      <td>1.00</td>\n",
       "      <td>0.00</td>\n",
       "      <td>0.00</td>\n",
       "      <td>0.00</td>\n",
       "      <td>0.00</td>\n",
       "      <td>0.00</td>\n",
       "      <td>1.00</td>\n",
       "      <td>0.00</td>\n",
       "      <td>0.00</td>\n",
       "      <td>0.00</td>\n",
       "      <td>...</td>\n",
       "      <td>0.00</td>\n",
       "      <td>0.00</td>\n",
       "      <td>0.00</td>\n",
       "      <td>0.00</td>\n",
       "      <td>0.00</td>\n",
       "      <td>0.00</td>\n",
       "      <td>0.00</td>\n",
       "      <td>0.00</td>\n",
       "      <td>0.00</td>\n",
       "      <td>2181.00</td>\n",
       "    </tr>\n",
       "    <tr>\n",
       "      <th>29453</th>\n",
       "      <td>0.00</td>\n",
       "      <td>0.00</td>\n",
       "      <td>0.00</td>\n",
       "      <td>1.00</td>\n",
       "      <td>0.00</td>\n",
       "      <td>0.00</td>\n",
       "      <td>0.00</td>\n",
       "      <td>1.00</td>\n",
       "      <td>0.00</td>\n",
       "      <td>0.00</td>\n",
       "      <td>...</td>\n",
       "      <td>0.00</td>\n",
       "      <td>0.00</td>\n",
       "      <td>0.00</td>\n",
       "      <td>0.00</td>\n",
       "      <td>0.00</td>\n",
       "      <td>0.00</td>\n",
       "      <td>0.00</td>\n",
       "      <td>0.00</td>\n",
       "      <td>0.00</td>\n",
       "      <td>4831.00</td>\n",
       "    </tr>\n",
       "    <tr>\n",
       "      <th>14442</th>\n",
       "      <td>1.00</td>\n",
       "      <td>0.00</td>\n",
       "      <td>0.00</td>\n",
       "      <td>0.00</td>\n",
       "      <td>0.00</td>\n",
       "      <td>0.00</td>\n",
       "      <td>0.00</td>\n",
       "      <td>0.00</td>\n",
       "      <td>0.00</td>\n",
       "      <td>0.00</td>\n",
       "      <td>...</td>\n",
       "      <td>0.00</td>\n",
       "      <td>0.00</td>\n",
       "      <td>0.00</td>\n",
       "      <td>0.00</td>\n",
       "      <td>0.00</td>\n",
       "      <td>0.00</td>\n",
       "      <td>0.00</td>\n",
       "      <td>0.00</td>\n",
       "      <td>0.00</td>\n",
       "      <td>1922.00</td>\n",
       "    </tr>\n",
       "    <tr>\n",
       "      <th>20591</th>\n",
       "      <td>1.00</td>\n",
       "      <td>0.00</td>\n",
       "      <td>0.00</td>\n",
       "      <td>0.00</td>\n",
       "      <td>0.00</td>\n",
       "      <td>0.00</td>\n",
       "      <td>0.00</td>\n",
       "      <td>0.00</td>\n",
       "      <td>0.00</td>\n",
       "      <td>0.00</td>\n",
       "      <td>...</td>\n",
       "      <td>0.00</td>\n",
       "      <td>0.00</td>\n",
       "      <td>0.00</td>\n",
       "      <td>0.00</td>\n",
       "      <td>0.00</td>\n",
       "      <td>0.00</td>\n",
       "      <td>0.00</td>\n",
       "      <td>1.00</td>\n",
       "      <td>0.00</td>\n",
       "      <td>1196.00</td>\n",
       "    </tr>\n",
       "    <tr>\n",
       "      <th>39011</th>\n",
       "      <td>0.00</td>\n",
       "      <td>0.00</td>\n",
       "      <td>0.00</td>\n",
       "      <td>1.00</td>\n",
       "      <td>0.00</td>\n",
       "      <td>0.00</td>\n",
       "      <td>0.00</td>\n",
       "      <td>0.00</td>\n",
       "      <td>0.00</td>\n",
       "      <td>1.00</td>\n",
       "      <td>...</td>\n",
       "      <td>0.00</td>\n",
       "      <td>0.00</td>\n",
       "      <td>0.00</td>\n",
       "      <td>0.00</td>\n",
       "      <td>0.00</td>\n",
       "      <td>0.00</td>\n",
       "      <td>1.00</td>\n",
       "      <td>0.00</td>\n",
       "      <td>0.00</td>\n",
       "      <td>1584.00</td>\n",
       "    </tr>\n",
       "  </tbody>\n",
       "</table>\n",
       "<p>5 rows × 195 columns</p>\n",
       "</div>"
      ],
      "text/plain": [
       "         0    1    2    3    4    5    6    7    8    9        ...         \\\n",
       "1964  1.00 0.00 0.00 0.00 0.00 0.00 1.00 0.00 0.00 0.00        ...          \n",
       "29453 0.00 0.00 0.00 1.00 0.00 0.00 0.00 1.00 0.00 0.00        ...          \n",
       "14442 1.00 0.00 0.00 0.00 0.00 0.00 0.00 0.00 0.00 0.00        ...          \n",
       "20591 1.00 0.00 0.00 0.00 0.00 0.00 0.00 0.00 0.00 0.00        ...          \n",
       "39011 0.00 0.00 0.00 1.00 0.00 0.00 0.00 0.00 0.00 1.00        ...          \n",
       "\n",
       "       185  186  187  188  189  190  191  192  193  time_taken_sofar  \n",
       "1964  0.00 0.00 0.00 0.00 0.00 0.00 0.00 0.00 0.00           2181.00  \n",
       "29453 0.00 0.00 0.00 0.00 0.00 0.00 0.00 0.00 0.00           4831.00  \n",
       "14442 0.00 0.00 0.00 0.00 0.00 0.00 0.00 0.00 0.00           1922.00  \n",
       "20591 0.00 0.00 0.00 0.00 0.00 0.00 0.00 1.00 0.00           1196.00  \n",
       "39011 0.00 0.00 0.00 0.00 0.00 0.00 1.00 0.00 0.00           1584.00  \n",
       "\n",
       "[5 rows x 195 columns]"
      ]
     },
     "execution_count": 73,
     "metadata": {},
     "output_type": "execute_result"
    }
   ],
   "source": [
    "X_train.head()"
   ]
  },
  {
   "cell_type": "markdown",
   "metadata": {},
   "source": [
    "### Standardize The Data"
   ]
  },
  {
   "cell_type": "code",
   "execution_count": 74,
   "metadata": {
    "collapsed": true
   },
   "outputs": [],
   "source": [
    "# Import `StandardScaler` from `sklearn.preprocessing`\n",
    "from sklearn.preprocessing import StandardScaler\n",
    "\n",
    "# Define the scaler \n",
    "scaler = StandardScaler().fit(X_train)\n",
    "# Scale the train set\n",
    "X_train = scaler.transform(X_train)\n",
    "# Scale the test set\n",
    "X_test = scaler.transform(X_test)"
   ]
  },
  {
   "cell_type": "markdown",
   "metadata": {},
   "source": [
    "### Build the model"
   ]
  },
  {
   "cell_type": "code",
   "execution_count": 75,
   "metadata": {
    "collapsed": true
   },
   "outputs": [],
   "source": [
    "def plot_train_val_loss(hist):\n",
    "    plt.plot(hist['loss'])\n",
    "    plt.plot(hist['val_loss'])\n",
    "    plt.title('model loss')\n",
    "    plt.ylabel('loss')\n",
    "    plt.xlabel('epoch')\n",
    "    plt.legend(['train', 'test'], loc='upper left')\n",
    "    plt.show()"
   ]
  },
  {
   "cell_type": "code",
   "execution_count": 76,
   "metadata": {},
   "outputs": [
    {
     "data": {
      "text/plain": [
       "(27424, 195)"
      ]
     },
     "execution_count": 76,
     "metadata": {},
     "output_type": "execute_result"
    }
   ],
   "source": [
    "X_train.shape"
   ]
  },
  {
   "cell_type": "code",
   "execution_count": 109,
   "metadata": {
    "collapsed": true
   },
   "outputs": [],
   "source": [
    "# Import `Sequential` from `keras.models`\n",
    "from keras.models import Sequential\n",
    "\n",
    "# Import `Dense` from `keras.layers`\n",
    "from keras.layers import Dense\n",
    "\n",
    "# Initialize the constructor\n",
    "model = Sequential()\n",
    "\n",
    "# Add an input layer: Same as input_dim with additional one for the bias term \n",
    "model.add(Dense(256, activation='relu', input_dim=195))\n",
    "\n",
    "# Add one hidden layer: One hidden layer is sufficient for majority of the problems\n",
    "# The optimal size of the hidden layer is usually between the size of the input and size of the output layers\n",
    "model.add(Dense(128, activation='relu'))\n",
    "model.add(Dense(128, activation='relu'))\n",
    "model.add(Dense(64, activation='relu'))\n",
    "model.add(Dense(64, activation='relu'))\n",
    "model.add(Dense(32, activation='relu'))\n",
    "model.add(Dense(32, activation='relu'))\n",
    "model.add(Dense(16, activation='relu'))\n",
    "model.add(Dense(16, activation='relu'))\n",
    "\n",
    "# Add an output layer \n",
    "model.add(Dense(1, activation='linear'))"
   ]
  },
  {
   "cell_type": "code",
   "execution_count": 114,
   "metadata": {},
   "outputs": [
    {
     "name": "stdout",
     "output_type": "stream",
     "text": [
      "Train on 27424 samples, validate on 9142 samples\n",
      "Epoch 1/50\n",
      "27424/27424 [==============================] - 2s 70us/step - loss: 6059.7903 - val_loss: 28212.8097\n",
      "Epoch 2/50\n",
      "27424/27424 [==============================] - 1s 51us/step - loss: 5856.0499 - val_loss: 27101.8420\n",
      "Epoch 3/50\n",
      "27424/27424 [==============================] - 1s 51us/step - loss: 5578.2037 - val_loss: 25345.9063\n",
      "Epoch 4/50\n",
      "27424/27424 [==============================] - 1s 50us/step - loss: 5453.6020 - val_loss: 24685.3463\n",
      "Epoch 5/50\n",
      "27424/27424 [==============================] - 1s 51us/step - loss: 5303.3863 - val_loss: 24295.6396\n",
      "Epoch 6/50\n",
      "27424/27424 [==============================] - 1s 51us/step - loss: 5235.1181 - val_loss: 26362.0369\n",
      "Epoch 7/50\n",
      "27424/27424 [==============================] - 1s 50us/step - loss: 5118.2377 - val_loss: 26899.9012\n",
      "Epoch 8/50\n",
      "27424/27424 [==============================] - 1s 51us/step - loss: 5016.4877 - val_loss: 25065.7264\n",
      "Epoch 9/50\n",
      "27424/27424 [==============================] - 1s 50us/step - loss: 4846.3601 - val_loss: 27802.2097\n",
      "Epoch 10/50\n",
      "27424/27424 [==============================] - 1s 51us/step - loss: 4798.3169 - val_loss: 26551.8083\n",
      "Epoch 11/50\n",
      "27424/27424 [==============================] - 1s 51us/step - loss: 4597.5109 - val_loss: 27832.3409\n",
      "Epoch 12/50\n",
      "27424/27424 [==============================] - 1s 51us/step - loss: 4558.5965 - val_loss: 26393.4676\n",
      "Epoch 13/50\n",
      "27424/27424 [==============================] - 1s 50us/step - loss: 4381.7438 - val_loss: 30704.1988\n",
      "Epoch 14/50\n",
      "27424/27424 [==============================] - 1s 51us/step - loss: 4246.1496 - val_loss: 28073.6050\n",
      "Epoch 15/50\n",
      "27424/27424 [==============================] - 1s 50us/step - loss: 4058.3353 - val_loss: 27595.5510\n",
      "Epoch 16/50\n",
      "27424/27424 [==============================] - 1s 50us/step - loss: 3991.1210 - val_loss: 32930.9040\n",
      "Epoch 17/50\n",
      "27424/27424 [==============================] - 1s 51us/step - loss: 3932.4452 - val_loss: 29536.1436\n",
      "Epoch 18/50\n",
      "27424/27424 [==============================] - 1s 50us/step - loss: 3669.9023 - val_loss: 35157.7956\n",
      "Epoch 19/50\n",
      "27424/27424 [==============================] - 1s 50us/step - loss: 3544.6470 - val_loss: 28195.6798\n",
      "Epoch 20/50\n",
      "27424/27424 [==============================] - 1s 50us/step - loss: 3390.5031 - val_loss: 27750.1632\n",
      "Epoch 21/50\n",
      "27424/27424 [==============================] - 1s 50us/step - loss: 3288.3030 - val_loss: 28061.6771\n",
      "Epoch 22/50\n",
      "27424/27424 [==============================] - 1s 50us/step - loss: 3178.9018 - val_loss: 33403.6591\n",
      "Epoch 23/50\n",
      "27424/27424 [==============================] - 1s 50us/step - loss: 3025.1845 - val_loss: 32550.3515\n",
      "Epoch 24/50\n",
      "27424/27424 [==============================] - 1s 50us/step - loss: 2974.7305 - val_loss: 30863.6668\n",
      "Epoch 25/50\n",
      "27424/27424 [==============================] - 1s 50us/step - loss: 2864.4213 - val_loss: 30918.6849\n",
      "Epoch 26/50\n",
      "27424/27424 [==============================] - 1s 50us/step - loss: 2683.2497 - val_loss: 29456.9732\n",
      "Epoch 27/50\n",
      "27424/27424 [==============================] - 1s 50us/step - loss: 2609.8984 - val_loss: 31816.7389\n",
      "Epoch 28/50\n",
      "27424/27424 [==============================] - 1s 50us/step - loss: 2531.0065 - val_loss: 31647.2580\n",
      "Epoch 29/50\n",
      "27424/27424 [==============================] - 1s 50us/step - loss: 2341.1980 - val_loss: 34700.1394\n",
      "Epoch 30/50\n",
      "27424/27424 [==============================] - 1s 50us/step - loss: 2373.1233 - val_loss: 30205.9290\n",
      "Epoch 31/50\n",
      "27424/27424 [==============================] - 1s 50us/step - loss: 2290.5459 - val_loss: 32451.4165\n",
      "Epoch 32/50\n",
      "27424/27424 [==============================] - 1s 51us/step - loss: 2240.9073 - val_loss: 29421.5256\n",
      "Epoch 33/50\n",
      "27424/27424 [==============================] - 1s 51us/step - loss: 2148.5513 - val_loss: 30952.9463\n",
      "Epoch 34/50\n",
      "27424/27424 [==============================] - 1s 51us/step - loss: 2112.5574 - val_loss: 32219.7870\n",
      "Epoch 35/50\n",
      "27424/27424 [==============================] - 1s 50us/step - loss: 1984.4980 - val_loss: 35017.8071\n",
      "Epoch 36/50\n",
      "27424/27424 [==============================] - 1s 50us/step - loss: 2008.9834 - val_loss: 28733.3904\n",
      "Epoch 37/50\n",
      "27424/27424 [==============================] - ETA: 0s - loss: 1946.52 - 1s 50us/step - loss: 1949.2911 - val_loss: 35377.1838\n",
      "Epoch 38/50\n",
      "27424/27424 [==============================] - 1s 50us/step - loss: 1818.9607 - val_loss: 31604.3182\n",
      "Epoch 39/50\n",
      "27424/27424 [==============================] - 1s 50us/step - loss: 1806.6870 - val_loss: 29104.1006\n",
      "Epoch 40/50\n",
      "27424/27424 [==============================] - 1s 50us/step - loss: 1762.5738 - val_loss: 31055.3639\n",
      "Epoch 41/50\n",
      "27424/27424 [==============================] - 1s 50us/step - loss: 1707.6688 - val_loss: 32901.9325\n",
      "Epoch 42/50\n",
      "27424/27424 [==============================] - 1s 50us/step - loss: 1787.3028 - val_loss: 34865.8696\n",
      "Epoch 43/50\n",
      "27424/27424 [==============================] - 1s 50us/step - loss: 1805.3039 - val_loss: 32799.8907\n",
      "Epoch 44/50\n",
      "27424/27424 [==============================] - 1s 50us/step - loss: 1645.8524 - val_loss: 30121.4489\n",
      "Epoch 45/50\n",
      "27424/27424 [==============================] - 1s 50us/step - loss: 1662.8259 - val_loss: 32285.9791\n",
      "Epoch 46/50\n",
      "27424/27424 [==============================] - 1s 50us/step - loss: 1561.6941 - val_loss: 32189.4561\n",
      "Epoch 47/50\n",
      "27424/27424 [==============================] - 1s 51us/step - loss: 1578.9671 - val_loss: 31463.9854\n",
      "Epoch 48/50\n",
      "27424/27424 [==============================] - 1s 50us/step - loss: 1533.1245 - val_loss: 30722.6808\n",
      "Epoch 49/50\n",
      "27424/27424 [==============================] - 1s 50us/step - loss: 1511.6079 - val_loss: 29539.1335\n",
      "Epoch 50/50\n",
      "27424/27424 [==============================] - 1s 50us/step - loss: 1457.1738 - val_loss: 30385.8483\n"
     ]
    }
   ],
   "source": [
    "# Compile and fit the model\n",
    "model.compile(optimizer='Adadelta',\n",
    "              loss='mean_squared_error')\n",
    "\n",
    "BATCH_SIZE = 128\n",
    "EPOCHS = 50\n",
    "\n",
    "history = model.fit(\n",
    "    X_train, Y_train,\n",
    "    epochs=EPOCHS, \n",
    "    batch_size=BATCH_SIZE,\n",
    "    validation_data=(X_test,Y_test),\n",
    "    verbose=1)"
   ]
  },
  {
   "cell_type": "code",
   "execution_count": 115,
   "metadata": {},
   "outputs": [
    {
     "name": "stdout",
     "output_type": "stream",
     "text": [
      "Train R-Square: 0.925656893231\n",
      "Test R-Square: -0.598702586612\n"
     ]
    }
   ],
   "source": [
    "from sklearn.metrics import r2_score\n",
    "\n",
    "Y_pred_train = model.predict(X_train)\n",
    "r2Score = r2_score(Y_train, Y_pred_train) \n",
    "print('Train R-Square:',r2Score)\n",
    "\n",
    "Y_pred_test = model.predict(X_test)\n",
    "r2Score = r2_score(Y_test, Y_pred_test) \n",
    "print('Test R-Square:',r2Score)"
   ]
  },
  {
   "cell_type": "code",
   "execution_count": 116,
   "metadata": {},
   "outputs": [
    {
     "name": "stdout",
     "output_type": "stream",
     "text": [
      "Train MSE: 1500.29630162\n",
      "Test MSE: 30385.8484008\n"
     ]
    }
   ],
   "source": [
    "from sklearn.metrics import mean_squared_error\n",
    "\n",
    "mse_train = mean_squared_error(Y_train, Y_pred_train)\n",
    "mse_test = mean_squared_error(Y_test, Y_pred_test)\n",
    "\n",
    "print('Train MSE:',mse_train)\n",
    "print('Test MSE:',mse_test)"
   ]
  },
  {
   "cell_type": "code",
   "execution_count": 117,
   "metadata": {},
   "outputs": [
    {
     "data": {
      "image/png": "[encoded data removed]",
      "text/plain": [
       "<matplotlib.figure.Figure at 0x7f1d0234c518>"
      ]
     },
     "metadata": {},
     "output_type": "display_data"
    }
   ],
   "source": [
    "plot_train_val_loss(history.history)"
   ]
  },
  {
   "cell_type": "markdown",
   "metadata": {},
   "source": [
    "### Building  models"
   ]
  },
  {
   "cell_type": "code",
   "execution_count": 120,
   "metadata": {},
   "outputs": [
    {
     "name": "stdout",
     "output_type": "stream",
     "text": [
      "Features: (36566, 195) Response: (36566,)\n"
     ]
    }
   ],
   "source": [
    "print('Features:',X.shape, 'Response:',Y.shape)"
   ]
  },
  {
   "cell_type": "code",
   "execution_count": 121,
   "metadata": {},
   "outputs": [
    {
     "data": {
      "text/plain": [
       "Index(['0', '1', '2', '3', '4', '5', '6', '7', '8', '9',\n",
       "       ...\n",
       "       '185', '186', '187', '188', '189', '190', '191', '192', '193',\n",
       "       'time_taken_sofar'],\n",
       "      dtype='object', length=195)"
      ]
     },
     "execution_count": 121,
     "metadata": {},
     "output_type": "execute_result"
    }
   ],
   "source": [
    "X.columns"
   ]
  },
  {
   "cell_type": "code",
   "execution_count": null,
   "metadata": {
    "collapsed": true
   },
   "outputs": [],
   "source": []
  }
 ],
 "metadata": {
  "kernelspec": {
   "display_name": "Python 3",
   "language": "python",
   "name": "python3"
  },
  "language_info": {
   "codemirror_mode": {
    "name": "ipython",
    "version": 3
   },
   "file_extension": ".py",
   "mimetype": "text/x-python",
   "name": "python",
   "nbconvert_exporter": "python",
   "pygments_lexer": "ipython3",
   "version": "3.6.3"
  }
 },
 "nbformat": 4,
 "nbformat_minor": 2
}
