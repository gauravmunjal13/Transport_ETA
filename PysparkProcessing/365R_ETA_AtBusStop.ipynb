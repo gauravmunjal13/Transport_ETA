{
 "cells": [
  {
   "cell_type": "code",
   "execution_count": 2,
   "metadata": {
    "collapsed": false
   },
   "outputs": [
    {
     "data": {
      "text/plain": [
       "<pyspark.context.SparkContext at 0x7f16fef41e10>"
      ]
     },
     "execution_count": 2,
     "metadata": {},
     "output_type": "execute_result"
    }
   ],
   "source": [
    "sc"
   ]
  },
  {
   "cell_type": "code",
   "execution_count": 76,
   "metadata": {
    "collapsed": false
   },
   "outputs": [
    {
     "data": {
      "text/plain": [
       "u'application_1522648856070_0188'"
      ]
     },
     "execution_count": 76,
     "metadata": {},
     "output_type": "execute_result"
    }
   ],
   "source": [
    "sc.applicationId"
   ]
  },
  {
   "cell_type": "code",
   "execution_count": 4,
   "metadata": {
    "collapsed": true
   },
   "outputs": [],
   "source": [
    "import sys\n",
    "sys.path.append(\"/usr/lib/python2.7/site-packages\")\n",
    "\n",
    "import matplotlib.pyplot as plt\n",
    "import numpy as np\n",
    "import pandas as pd\n",
    "import datetime\n",
    "from pyspark.sql.functions import year, month, dayofmonth\n",
    "from pyspark.sql.functions import col, asc, desc,log"
   ]
  },
  {
   "cell_type": "code",
   "execution_count": 5,
   "metadata": {
    "collapsed": true
   },
   "outputs": [],
   "source": [
    "# For displaying multiple outputs\n",
    "from IPython.core.interactiveshell import InteractiveShell\n",
    "InteractiveShell.ast_node_interactivity = \"all\""
   ]
  },
  {
   "cell_type": "markdown",
   "metadata": {},
   "source": [
    "## Load the VTS data for the 365R/1-All Days schedule"
   ]
  },
  {
   "cell_type": "code",
   "execution_count": 8,
   "metadata": {
    "collapsed": false
   },
   "outputs": [
    {
     "data": {
      "text/plain": [
       "DataFrame[]"
      ]
     },
     "execution_count": 8,
     "metadata": {},
     "output_type": "execute_result"
    },
    {
     "name": "stdout",
     "output_type": "stream",
     "text": [
      "+-----------------+-----------+\n",
      "|        tableName|isTemporary|\n",
      "+-----------------+-----------+\n",
      "|         vts_365r|      false|\n",
      "|vts_365r_filtered|      false|\n",
      "+-----------------+-----------+\n",
      "\n"
     ]
    }
   ],
   "source": [
    "sqlContext.sql(\"use bmtc_eta_default\")\n",
    "sqlContext.sql(\"show tables\").show()"
   ]
  },
  {
   "cell_type": "code",
   "execution_count": 7,
   "metadata": {
    "collapsed": true
   },
   "outputs": [],
   "source": [
    "vts_365r_df = sqlContext.sql(\"select * from vts_365r_filtered\")"
   ]
  },
  {
   "cell_type": "code",
   "execution_count": 9,
   "metadata": {
    "collapsed": false
   },
   "outputs": [
    {
     "name": "stdout",
     "output_type": "stream",
     "text": [
      "+----------+---------+----------+------------+--------------------+---------+---------+-----------------+-------------+-------+\n",
      "|        id|device_id|ign_status|acc_distance|            ist_date|      lat|longitude|vehicle_direction|ist_date_part|isvalid|\n",
      "+----------+---------+----------+------------+--------------------+---------+---------+-----------------+-------------+-------+\n",
      "|5867192541|150814730|         0|     9201134|2016-07-01 00:12:...|12.790125|77.706451|             40.0|   2016-07-01|      1|\n",
      "|5867355190|150814730|         0|     9201134|2016-07-01 00:27:...|12.790125|77.706451|             40.0|   2016-07-01|      1|\n",
      "+----------+---------+----------+------------+--------------------+---------+---------+-----------------+-------------+-------+\n",
      "only showing top 2 rows\n",
      "\n"
     ]
    }
   ],
   "source": [
    "vts_365r_df.show(2)"
   ]
  },
  {
   "cell_type": "markdown",
   "metadata": {},
   "source": [
    "### Load static data into Spark data frames"
   ]
  },
  {
   "cell_type": "code",
   "execution_count": 10,
   "metadata": {
    "collapsed": false
   },
   "outputs": [
    {
     "data": {
      "text/plain": [
       "DataFrame[]"
      ]
     },
     "execution_count": 10,
     "metadata": {},
     "output_type": "execute_result"
    }
   ],
   "source": [
    "sqlContext.sql(\"use bmtc\")\n",
    "\n",
    "# Get the route map\n",
    "route_map_df = sqlContext.sql(\"select route_id,start_bus_stop_id,end_bus_stop_id,\\\n",
    "                                      distance,time_to_travel,bus_stop_order,status \\\n",
    "                               from route_map\")\n",
    "\n",
    "# Get the route_point\n",
    "route_point_df = sqlContext.sql(\"select route_id, route_order, \\\n",
    "                                bus_stop_id from route_point\")\n",
    "\n",
    "bus_stop_df = sqlContext.sql(\"select bus_stop_id, bus_stop_name, \\\n",
    "                              latitude_current,longitude_current from bus_stop\")\n",
    "\n",
    "# Drop corrupted locations\n",
    "bus_stop_df = bus_stop_df.na.drop(subset=[\"latitude_current\"])\n",
    "bus_stop_df = bus_stop_df.na.drop(subset=[\"longitude_current\"])\n",
    "\n",
    "# Join the bus stop ID with lat,long\n",
    "route_point_joined_df = route_point_df.join(bus_stop_df,\\\n",
    "                                            [\"bus_stop_id\"],\\\n",
    "                                            \"left_outer\")\n",
    "\n",
    "form_four_df = sqlContext.sql(\"select form_four_id,form_four_name,schedule_number_id,\\\n",
    "                                      schedule_number_name,no_of_trips,start_time,\\\n",
    "                                      route_id,route_number,toll_zone,\\\n",
    "                                      area_limit,total_km,total_dead_km,\\\n",
    "                                      actual_km,total_running_time,total_break_time,\\\n",
    "                                      total_steering_time,spread_over_hours,ot_hours \\\n",
    "                               from form_four\")\n",
    "\n",
    "schedule_df = sqlContext.sql('select * from schedule')\n",
    "\n",
    "schedule_df = schedule_df.select(\"schedule_id\",\"schedule_number\", \\\n",
    "                                 \"depot_id\",\"route_id\",\"schedule_type\")\n",
    "\n",
    "schedule_details_df = sqlContext.sql('select * from schedule_details')\n",
    "\n",
    "schedule_details_df = schedule_details_df.select(\"schedule_details_id\", \\\n",
    "                                                 \"form_four_id\",\"schedule_number\",\"number_of_trips\",\\\n",
    "                                                 \"trip_number\",\"trip_type\",\"start_point\",\"end_point\", \\\n",
    "                                                 \"route_number_id\", \"route_number\",\"route_direction\",\\\n",
    "                                                 \"distance\",\"start_time\",\"end_time\",\\\n",
    "                                                 \"running_time\",\"break_type_id\",\"shift_type_id\",\"is_dread_trip\")"
   ]
  },
  {
   "cell_type": "code",
   "execution_count": 11,
   "metadata": {
    "collapsed": false
   },
   "outputs": [
    {
     "data": {
      "text/plain": [
       "DataFrame[]"
      ]
     },
     "execution_count": 11,
     "metadata": {},
     "output_type": "execute_result"
    }
   ],
   "source": [
    "sqlContext.sql(\"use bmtcwaybill\")\n",
    "\n",
    "# Get the waybill details, and clean it\n",
    "waybill_trip_details_df = sqlContext.sql(\"select id,waybill_id,duty_dt,device_id,\\\n",
    "                                          status,schedule_type_id,schedule_no,schedule_name,\\\n",
    "                                          service_type,service_name,trip_number,\\\n",
    "                                          start_point,start_bus_stop_name,end_point,end_bus_stop_name,\\\n",
    "                                          route_id,route_no,distance,start_time,\\\n",
    "                                          act_start_time,etm_start_time,end_time,act_end_time,\\\n",
    "                                          etm_end_time,running_time,is_dread_trip \\\n",
    "                                          from waybill_trip_details\")\n",
    "\n",
    "waybill_trip_details_filtered_df = waybill_trip_details_df.filter(((year(waybill_trip_details_df.duty_dt) == 2016) & \n",
    "                                                                   (month(waybill_trip_details_df.duty_dt) >= 6)) |\n",
    "                                                                  (year(waybill_trip_details_df.duty_dt) == 2017))\n",
    "\n",
    "waybill_trip_details_filtered_365_df = waybill_trip_details_filtered_df.filter(col('schedule_no')==3037)"
   ]
  },
  {
   "cell_type": "markdown",
   "metadata": {},
   "source": [
    "## Explore the 365R/1-All Days schedule"
   ]
  },
  {
   "cell_type": "code",
   "execution_count": 12,
   "metadata": {
    "collapsed": false
   },
   "outputs": [
    {
     "name": "stdout",
     "output_type": "stream",
     "text": [
      "+-----------+\n",
      "|schedule_no|\n",
      "+-----------+\n",
      "|       3037|\n",
      "+-----------+\n",
      "\n"
     ]
    }
   ],
   "source": [
    "# Take schedule 365R/1-All Days, and we see that it takes two schedule no, which corresponds to two form four IDs\n",
    "waybill_trip_details_filtered_365_df.filter(col('schedule_name')=='365R/1-All Days').\\\n",
    "select(\"schedule_no\").distinct().show()"
   ]
  },
  {
   "cell_type": "code",
   "execution_count": 13,
   "metadata": {
    "collapsed": false
   },
   "outputs": [
    {
     "name": "stdout",
     "output_type": "stream",
     "text": [
      "+------------+--------------+------------------+--------------------+-----------+----------+--------+------------+---------+----------+--------+-------------+---------+------------------+----------------+-------------------+-----------------+--------+\n",
      "|form_four_id|form_four_name|schedule_number_id|schedule_number_name|no_of_trips|start_time|route_id|route_number|toll_zone|area_limit|total_km|total_dead_km|actual_km|total_running_time|total_break_time|total_steering_time|spread_over_hours|ot_hours|\n",
      "+------------+--------------+------------------+--------------------+-----------+----------+--------+------------+---------+----------+--------+-------------+---------+------------------+----------------+-------------------+-----------------+--------+\n",
      "|        3037|             1|              2828|     365R/1-All Days|         13|  07:45:00|   20239|        null|        0|         0|   185.4|          0.4|    185.0|              9:55|            null|               11:0|             12:0|     3:0|\n",
      "+------------+--------------+------------------+--------------------+-----------+----------+--------+------------+---------+----------+--------+-------------+---------+------------------+----------------+-------------------+-----------------+--------+\n",
      "\n"
     ]
    }
   ],
   "source": [
    "form_four_df.filter(col('form_four_id').isin([3037])).show()"
   ]
  },
  {
   "cell_type": "code",
   "execution_count": 14,
   "metadata": {
    "collapsed": false
   },
   "outputs": [
    {
     "name": "stdout",
     "output_type": "stream",
     "text": [
      "+-----------+-----------+-----------+--------------------+---------+--------------------+--------+-------------+\n",
      "|schedule_no|trip_number|start_point| start_bus_stop_name|end_point|   end_bus_stop_name|route_id|is_dread_trip|\n",
      "+-----------+-----------+-----------+--------------------+---------+--------------------+--------+-------------+\n",
      "|       3037|          1|       1291| Depot-34 (Kottanur)|    10793|       Depot-34 Gate|    9197|            1|\n",
      "|       3037|          1|       1291| Depot-34 (Kottanur)|    10793|       Depot-34 Gate|    9197|            1|\n",
      "|       3037|          2|      10793|       Depot-34 Gate|    10094| Basavanapura Church|   20240|            0|\n",
      "|       3037|          3|      10093| Basavanapura Church|     8456|Kempegowda Bus St...|   29325|            0|\n",
      "|       3037|          4|        160|Kempegowda Bus St...|    10094| Basavanapura Church|   20239|            0|\n",
      "|       3037|          5|      10093| Basavanapura Church|     8456|Kempegowda Bus St...|   29325|            0|\n",
      "|       3037|          6|        160|Kempegowda Bus St...|    10094| Basavanapura Church|   20239|            0|\n",
      "|       3037|          7|      10093| Basavanapura Church|     8456|Kempegowda Bus St...|   29325|            0|\n",
      "|       3037|          8|        160|Kempegowda Bus St...|    10094| Basavanapura Church|   20239|            0|\n",
      "|       3037|          9|      10093| Basavanapura Church|     8456|Kempegowda Bus St...|   29325|            0|\n",
      "|       3037|         10|        160|Kempegowda Bus St...|    10094| Basavanapura Church|   20239|            0|\n",
      "|       3037|         11|      10093| Basavanapura Church|      778|MICO Layout Check...|   29325|            0|\n",
      "|       3037|         12|         80|MICO Layout Check...|    10795|       Depot-34 Gate|   20241|            0|\n",
      "|       3037|         13|      10795|       Depot-34 Gate|     1291| Depot-34 (Kottanur)|    9196|            1|\n",
      "+-----------+-----------+-----------+--------------------+---------+--------------------+--------+-------------+\n",
      "\n"
     ]
    }
   ],
   "source": [
    "# Check the waybill data having schedule no listed above\n",
    "waybill_trip_details_filtered_365_df.filter((col('schedule_no')==3037) & (col('duty_dt') == '2017-01-02')).\\\n",
    "                                                        select('schedule_no','trip_number',\\\n",
    "                                                             'start_point','start_bus_stop_name',\\\n",
    "                                                             'end_point','end_bus_stop_name',\\\n",
    "                                                             'route_id','is_dread_trip').orderBy('trip_number').show()"
   ]
  },
  {
   "cell_type": "code",
   "execution_count": 15,
   "metadata": {
    "collapsed": false
   },
   "outputs": [
    {
     "name": "stdout",
     "output_type": "stream",
     "text": [
      "+-------------------+------------+---------------+---------------+-----------+---------+-----------+---------+---------------+------------+---------------+--------+----------+--------+------------+-------------+-------------+-------------+\n",
      "|schedule_details_id|form_four_id|schedule_number|number_of_trips|trip_number|trip_type|start_point|end_point|route_number_id|route_number|route_direction|distance|start_time|end_time|running_time|break_type_id|shift_type_id|is_dread_trip|\n",
      "+-------------------+------------+---------------+---------------+-----------+---------+-----------+---------+---------------+------------+---------------+--------+----------+--------+------------+-------------+-------------+-------------+\n",
      "|              41110|        3037|           2828|             13|          1|        3|       1291|    10793|           9197|        null|           null|     0.2|  07:45:00|07:47:00|    00:02:00|            3|            1|            1|\n",
      "|              41111|        3037|           2828|             13|          2|        2|      10793|    10094|          20240|        null|           null|     3.6|  07:47:00|07:55:00|    00:08:00|            3|            1|            0|\n",
      "|              41112|        3037|           2828|             13|          3|        2|      10093|     8456|          29325|        null|           null|    20.8|  08:00:00|09:10:00|    01:10:00|            3|            1|            0|\n",
      "|              41113|        3037|           2828|             13|          4|        2|        160|    10094|          20239|        null|           null|    20.8|  09:15:00|10:25:00|    01:10:00|            3|            1|            0|\n",
      "|              41114|        3037|           2828|             13|          5|        2|      10093|     8456|          29325|        null|           null|    20.8|  10:30:00|11:40:00|    01:10:00|            3|            1|            0|\n",
      "|              41115|        3037|           2828|             13|          6|        2|        160|    10094|          20239|        null|           null|    20.8|  11:45:00|12:50:00|    01:05:00|            5|            1|            0|\n",
      "|              41116|        3037|           2828|             13|          7|        2|      10093|     8456|          29325|        null|           null|    20.8|  13:20:00|14:25:00|    01:05:00|            3|            1|            0|\n",
      "|              41117|        3037|           2828|             13|          8|        2|        160|    10094|          20239|        null|           null|    20.8|  14:30:00|15:40:00|    01:10:00|            7|            1|            0|\n",
      "|              41118|        3037|           2828|             13|          9|        2|      10093|     8456|          29325|        null|           null|    20.8|  16:10:00|17:20:00|    01:10:00|            3|            1|            0|\n",
      "|              41119|        3037|           2828|             13|         10|        2|        160|    10094|          20239|        null|           null|    20.8|  17:25:00|18:35:00|    01:10:00|            3|            1|            0|\n",
      "|              41120|        3037|           2828|             13|         11|        2|      10093|      778|          29325|        null|           null|     8.8|  18:40:00|19:00:00|    00:20:00|            3|            1|            0|\n",
      "|              41121|        3037|           2828|             13|         12|        2|         80|    10795|          20241|        null|           null|     6.2|  19:00:00|19:13:00|    00:13:00|            3|            1|            0|\n",
      "|              41122|        3037|           2828|             13|         13|        3|      10795|     1291|           9196|        null|           null|     0.2|  19:13:00|19:15:00|    00:02:00|            3|            1|            1|\n",
      "+-------------------+------------+---------------+---------------+-----------+---------+-----------+---------+---------------+------------+---------------+--------+----------+--------+------------+-------------+-------------+-------------+\n",
      "\n"
     ]
    }
   ],
   "source": [
    "# Get the schedule details\n",
    "schedule_details_df.filter((col(\"schedule_number\")==2828) & (col('form_four_id')==3037) ).show()"
   ]
  },
  {
   "cell_type": "markdown",
   "metadata": {},
   "source": [
    "## Feature Extraction"
   ]
  },
  {
   "cell_type": "markdown",
   "metadata": {},
   "source": [
    "### Extract the route ID as part of 365R/1-All Days"
   ]
  },
  {
   "cell_type": "code",
   "execution_count": 16,
   "metadata": {
    "collapsed": false
   },
   "outputs": [
    {
     "data": {
      "text/plain": [
       "[20240, 20241, 29325, 9196, 9197, 20239]"
      ]
     },
     "execution_count": 16,
     "metadata": {},
     "output_type": "execute_result"
    }
   ],
   "source": [
    "schedule_365_route_ids_list = schedule_details_df.filter((col(\"schedule_number\")==2828) & (col('form_four_id')==3037)). \\\n",
    "select('route_number_id').rdd.map(lambda x: x[0]).distinct().collect()\n",
    "schedule_365_route_ids_list"
   ]
  },
  {
   "cell_type": "markdown",
   "metadata": {},
   "source": [
    "### Select all the bus stops on the above selected routes for 365R/1-All Days"
   ]
  },
  {
   "cell_type": "code",
   "execution_count": 17,
   "metadata": {
    "collapsed": true
   },
   "outputs": [],
   "source": [
    "bus_stops_on_365R_df = route_point_df.where(col('route_id').isin(schedule_365_route_ids_list))"
   ]
  },
  {
   "cell_type": "code",
   "execution_count": 18,
   "metadata": {
    "collapsed": false
   },
   "outputs": [
    {
     "data": {
      "text/plain": [
       "128"
      ]
     },
     "execution_count": 18,
     "metadata": {},
     "output_type": "execute_result"
    },
    {
     "name": "stdout",
     "output_type": "stream",
     "text": [
      "+--------+-----------+-----------+\n",
      "|route_id|route_order|bus_stop_id|\n",
      "+--------+-----------+-----------+\n",
      "|    9196|          1|      10795|\n",
      "|    9196|          2|      10381|\n",
      "|    9196|          3|      10380|\n",
      "|    9196|          4|       1291|\n",
      "|    9197|          1|       1291|\n",
      "|    9197|          2|      10380|\n",
      "|    9197|          3|      10381|\n",
      "|    9197|          4|      10793|\n",
      "|   20239|          1|        160|\n",
      "|   20239|          2|       5841|\n",
      "|   20239|          3|         33|\n",
      "|   20239|          4|       5840|\n",
      "|   20239|          5|       8455|\n",
      "|   20239|          6|        124|\n",
      "|   20239|          7|         61|\n",
      "|   20239|          8|        126|\n",
      "|   20239|          9|        158|\n",
      "|   20239|         10|        159|\n",
      "|   20239|         11|        353|\n",
      "|   20239|         12|       8579|\n",
      "+--------+-----------+-----------+\n",
      "only showing top 20 rows\n",
      "\n"
     ]
    }
   ],
   "source": [
    "bus_stops_on_365R_df.count()\n",
    "bus_stops_on_365R_df.show()"
   ]
  },
  {
   "cell_type": "code",
   "execution_count": 19,
   "metadata": {
    "collapsed": false
   },
   "outputs": [
    {
     "name": "stdout",
     "output_type": "stream",
     "text": [
      "+-----------+--------+-----------+--------------------+----------------+-----------------+\n",
      "|bus_stop_id|route_id|route_order|       bus_stop_name|latitude_current|longitude_current|\n",
      "+-----------+--------+-----------+--------------------+----------------+-----------------+\n",
      "|      10795|    9196|          1|       Depot-34 Gate|     12.87021282|       77.5857047|\n",
      "|      10381|    9196|          2|               Dummy|     12.87132242|      77.58583613|\n",
      "|      10380|    9196|          3|           Connector|     12.87155318|       77.5860849|\n",
      "|       1291|    9196|          4| Depot-34 (Kottanur)|     12.87193846|      77.58619537|\n",
      "|       1291|    9197|          1| Depot-34 (Kottanur)|     12.87193846|      77.58619537|\n",
      "|      10380|    9197|          2|           Connector|     12.87155318|       77.5860849|\n",
      "|      10381|    9197|          3|               Dummy|     12.87132242|      77.58583613|\n",
      "|      10793|    9197|          4|       Depot-34 Gate|     12.87018994|      77.58574426|\n",
      "|        160|   20239|          1|Kempegowda Bus St...|     12.97751447|      77.57178022|\n",
      "|       5841|   20239|          2|       KBS Connector|     12.97752049|      77.57099145|\n",
      "|         33|   20239|          3|      KBS Connector2|     12.97944962|      77.57116351|\n",
      "|       5840|   20239|          4|      KBS connector3|     12.97989895|      77.57139177|\n",
      "|       8455|   20239|          5| KBS Dummy Bus Stand|       12.980274|      77.57191479|\n",
      "|        124|   20239|          6|   Maharanis College|     12.97705906|      77.58594229|\n",
      "|         61|   20239|          7|           KR Circle|     12.97472667|         77.58691|\n",
      "|        126|   20239|          8| St Marthas Hospital|     12.96962529|      77.58719475|\n",
      "|        158|   20239|          9|         Corporation|     12.96483149|      77.58802933|\n",
      "|        159|   20239|         10|     Subbaiah Circle|       12.962654|      77.59096469|\n",
      "|        353|   20239|         11|             KH Road|     12.95772479|       77.5931178|\n",
      "|       8579|   20239|         12|      SNT Dummy Stop|     12.95578074|      77.59218692|\n",
      "+-----------+--------+-----------+--------------------+----------------+-----------------+\n",
      "only showing top 20 rows\n",
      "\n"
     ]
    },
    {
     "data": {
      "text/plain": [
       "128"
      ]
     },
     "execution_count": 19,
     "metadata": {},
     "output_type": "execute_result"
    }
   ],
   "source": [
    "bus_stops_on_365R_joined_df = bus_stops_on_365R_df.join(bus_stop_df,\\\n",
    "                                            [\"bus_stop_id\"],\\\n",
    "                                            \"left_outer\")\n",
    "bus_stops_on_365R_joined_df.show()\n",
    "bus_stops_on_365R_joined_df.count()"
   ]
  },
  {
   "cell_type": "markdown",
   "metadata": {},
   "source": [
    "## We now inflate the vts_365r_filtered table with the joined bus stop table we have built"
   ]
  },
  {
   "cell_type": "code",
   "execution_count": 47,
   "metadata": {
    "collapsed": false
   },
   "outputs": [],
   "source": [
    "# Finall!! \n",
    "# Enable cross joins\n",
    "spark.conf.set(\"spark.sql.crossJoin.enabled\", \"true\")"
   ]
  },
  {
   "cell_type": "code",
   "execution_count": 50,
   "metadata": {
    "collapsed": false
   },
   "outputs": [],
   "source": [
    "vts_365r_joined_df = vts_365r_df.join(bus_stops_on_365R_joined_df)"
   ]
  },
  {
   "cell_type": "markdown",
   "metadata": {},
   "source": [
    "### Figure out which row is within the geo-fence of one of the bus stops"
   ]
  },
  {
   "cell_type": "code",
   "execution_count": 51,
   "metadata": {
    "collapsed": false
   },
   "outputs": [],
   "source": [
    "from math import *\n",
    "\n",
    "pi_broabcast = sc.broadcast(pi)"
   ]
  },
  {
   "cell_type": "code",
   "execution_count": 52,
   "metadata": {
    "collapsed": false
   },
   "outputs": [
    {
     "data": {
      "text/plain": [
       "3.141592653589793"
      ]
     },
     "execution_count": 52,
     "metadata": {},
     "output_type": "execute_result"
    }
   ],
   "source": [
    "pi_broabcast.value"
   ]
  },
  {
   "cell_type": "code",
   "execution_count": 53,
   "metadata": {
    "collapsed": false
   },
   "outputs": [],
   "source": [
    "# Return the Haversine distance between two geo-points\n",
    "# The returned value is in metres\n",
    "def distBetweenGeoPoints(lat1, long1, lat2, long2):\n",
    "    dist =  ((acos(sin((lat1*pi_broabcast.value/180)) * \n",
    "                   sin((lat2*pi_broabcast.value/180))+cos((lat1*pi_broabcast.value/180)) * \n",
    "                   cos((lat2*pi_broabcast.value/180)) * cos(((long1 - long2)* \n",
    "                                               pi_broabcast.value/180))))*180/pi_broabcast.value*60*1.1515*1.60934)*1000\n",
    "    return dist\n",
    "\n",
    "# The returned value is in metres"
   ]
  },
  {
   "cell_type": "code",
   "execution_count": 68,
   "metadata": {
    "collapsed": false
   },
   "outputs": [
    {
     "data": {
      "text/plain": [
       "549.1280124617311"
      ]
     },
     "execution_count": 68,
     "metadata": {},
     "output_type": "execute_result"
    },
    {
     "data": {
      "text/plain": [
       "float"
      ]
     },
     "execution_count": 68,
     "metadata": {},
     "output_type": "execute_result"
    }
   ],
   "source": [
    "# Test if this is working well\n",
    "# Copying coordinates from https://andrew.hedges.name/experiments/haversine/\n",
    "# and verifying\n",
    "ret = distBetweenGeoPoints(38.898556, -77.037852, 38.897147, -77.043934)\n",
    "ret\n",
    "type(ret)\n",
    "# We expect a distance of 549 metres"
   ]
  },
  {
   "cell_type": "code",
   "execution_count": 55,
   "metadata": {
    "collapsed": true
   },
   "outputs": [],
   "source": [
    "from pyspark.sql.functions import udf\n",
    "\n",
    "distBetweenGeoPointsUDF = udf(distBetweenGeoPoints)"
   ]
  },
  {
   "cell_type": "code",
   "execution_count": 56,
   "metadata": {
    "collapsed": false
   },
   "outputs": [],
   "source": [
    "vts_365r_joined_with_dist_df = vts_365r_joined_df.withColumn(\"distance\", \n",
    "                                                             distBetweenGeoPointsUDF(vts_365r_joined_df.lat, \n",
    "                                                                                     vts_365r_joined_df.longitude,\n",
    "                                                                                     vts_365r_joined_df.latitude_current, \n",
    "                                                                                     vts_365r_joined_df.longitude_current))"
   ]
  },
  {
   "cell_type": "code",
   "execution_count": 71,
   "metadata": {
    "collapsed": false
   },
   "outputs": [
    {
     "name": "stdout",
     "output_type": "stream",
     "text": [
      "+----------+---------+----------+------------+--------------------+---------+---------+-----------------+-------------+-------+-----------+--------+-----------+-------------+----------------+-----------------+------------------+\n",
      "|        id|device_id|ign_status|acc_distance|            ist_date|      lat|longitude|vehicle_direction|ist_date_part|isvalid|bus_stop_id|route_id|route_order|bus_stop_name|latitude_current|longitude_current|          distance|\n",
      "+----------+---------+----------+------------+--------------------+---------+---------+-----------------+-------------+-------+-----------+--------+-----------+-------------+----------------+-----------------+------------------+\n",
      "|5867192541|150814730|         0|     9201134|2016-07-01 00:12:...|12.790125|77.706451|             40.0|   2016-07-01|      1|      10795|    9196|          1|Depot-34 Gate|     12.87021282|       77.5857047|15832.192804946722|\n",
      "|5867192541|150814730|         0|     9201134|2016-07-01 00:12:...|12.790125|77.706451|             40.0|   2016-07-01|      1|      10381|    9196|          2|        Dummy|     12.87132242|      77.58583613|15890.162057315029|\n",
      "+----------+---------+----------+------------+--------------------+---------+---------+-----------------+-------------+-------+-----------+--------+-----------+-------------+----------------+-----------------+------------------+\n",
      "only showing top 2 rows\n",
      "\n"
     ]
    }
   ],
   "source": [
    "vts_365r_joined_with_dist_df.show(2)"
   ]
  },
  {
   "cell_type": "code",
   "execution_count": 82,
   "metadata": {
    "collapsed": false
   },
   "outputs": [
    {
     "data": {
      "text/plain": [
       "DataFrame[id: bigint, device_id: string, ign_status: tinyint, acc_distance: string, ist_date: string, lat: double, longitude: double, vehicle_direction: string, ist_date_part: string, isvalid: string, bus_stop_id: int, route_id: int, route_order: int, bus_stop_name: string, latitude_current: double, longitude_current: double, distance: string]"
      ]
     },
     "execution_count": 82,
     "metadata": {},
     "output_type": "execute_result"
    }
   ],
   "source": [
    "# Perfect!!\n",
    "# Learning: need to do cache in this case before applying a filter\n",
    "vts_365r_joined_with_dist_df.cache()"
   ]
  },
  {
   "cell_type": "code",
   "execution_count": 83,
   "metadata": {
    "collapsed": true
   },
   "outputs": [],
   "source": [
    "# Filter by geo-fence radius\n",
    "geofence_radius = 50\n",
    "vts_365r_joined_within_stop_df = vts_365r_joined_with_dist_df.filter(vts_365r_joined_with_dist_df.distance < 50)\n",
    "# The above code works if we have cached the vts_365r_joined_with_dist_df dataframe"
   ]
  },
  {
   "cell_type": "code",
   "execution_count": null,
   "metadata": {
    "collapsed": false
   },
   "outputs": [],
   "source": [
    "vts_365r_joined_within_stop_df.show()"
   ]
  },
  {
   "cell_type": "code",
   "execution_count": 58,
   "metadata": {
    "collapsed": false
   },
   "outputs": [],
   "source": [
    "# code to truncate milliseconds from the time stamp\n",
    "from pyspark.sql.functions import unix_timestamp, from_unixtime\n",
    "\n",
    "timeFmt_Ist = \"yyyy-MM-dd HH:mm:ss.S\"\n",
    "timeFmt1 = \"yyyy-MM-dd HH:mm:ss\"\n",
    "istDateTrunc = from_unixtime(unix_timestamp('ist_date', \n",
    "                                            format=timeFmt_Ist), format=timeFmt1)\n",
    "\n",
    "vts_365r_within_stop_df = vts_365r_joined_within_stop_df.withColumn(\"ist_timestamp\", istDateTrunc)"
   ]
  },
  {
   "cell_type": "code",
   "execution_count": 59,
   "metadata": {
    "collapsed": false
   },
   "outputs": [],
   "source": [
    "# Finding the earliest entry into a bus stop geo-fence by a device\n",
    "vts_365r_seconds_within_stop_df = vts_365r_within_stop_df.withColumn(\"ist_timestamp_seconds\", \n",
    "                                                                     unix_timestamp(\"ist_timestamp\", \n",
    "                                                                                    format=timeFmt1))"
   ]
  },
  {
   "cell_type": "code",
   "execution_count": null,
   "metadata": {
    "collapsed": true
   },
   "outputs": [],
   "source": [
    "vts_365r_min_within_stop_df = vts_365r_seconds_within_stop_df.groupby(\"device_id\", \"schedule_no\", \n",
    "                                                                      \"trip_number\", \"route_id\", \n",
    "                                                                      \"route_bus_stop_id\",\"route_order\").\\\n",
    "min(\"ist_timestamp_seconds\").withColumnRenamed(\"min(ist_timestamp_seconds)\", \"ist_timestamp_seconds\")"
   ]
  },
  {
   "cell_type": "code",
   "execution_count": null,
   "metadata": {
    "collapsed": true
   },
   "outputs": [],
   "source": [
    "vts_365r_min_within_stop_df.show()"
   ]
  }
 ],
 "metadata": {
  "kernelspec": {
   "display_name": "Python 2",
   "language": "python",
   "name": "python2"
  },
  "language_info": {
   "codemirror_mode": {
    "name": "ipython",
    "version": 2
   },
   "file_extension": ".py",
   "mimetype": "text/x-python",
   "name": "python",
   "nbconvert_exporter": "python",
   "pygments_lexer": "ipython2",
   "version": "2.7.13"
  }
 },
 "nbformat": 4,
 "nbformat_minor": 2
}
