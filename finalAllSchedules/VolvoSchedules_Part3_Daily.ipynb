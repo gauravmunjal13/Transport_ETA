{
 "cells": [
  {
   "cell_type": "code",
   "execution_count": 1,
   "metadata": {
    "collapsed": false
   },
   "outputs": [
    {
     "data": {
      "text/plain": [
       "<pyspark.context.SparkContext at 0x7fda8e01ed90>"
      ]
     },
     "execution_count": 1,
     "metadata": {},
     "output_type": "execute_result"
    }
   ],
   "source": [
    "sc"
   ]
  },
  {
   "cell_type": "code",
   "execution_count": 2,
   "metadata": {
    "collapsed": false
   },
   "outputs": [
    {
     "data": {
      "text/plain": [
       "u'application_1529929920393_0148'"
      ]
     },
     "execution_count": 2,
     "metadata": {},
     "output_type": "execute_result"
    }
   ],
   "source": [
    "sc.applicationId"
   ]
  },
  {
   "cell_type": "markdown",
   "metadata": {},
   "source": [
    "## Load libraries"
   ]
  },
  {
   "cell_type": "code",
   "execution_count": 3,
   "metadata": {
    "collapsed": false
   },
   "outputs": [],
   "source": [
    "import sys\n",
    "sys.path.append(\"/usr/lib/python2.7/site-packages\")\n",
    "\n",
    "import matplotlib.pyplot as plt\n",
    "import numpy as np\n",
    "import pandas as pd\n",
    "import datetime\n",
    "from pyspark.sql.functions import year, month, dayofmonth\n",
    "from pyspark.sql.functions import col, unix_timestamp,abs, log, from_unixtime, avg\n",
    "from pyspark.sql.functions import count, sum, desc, date_format, lit, concat\n",
    "from pyspark.sql import functions as F"
   ]
  },
  {
   "cell_type": "code",
   "execution_count": 4,
   "metadata": {
    "collapsed": true
   },
   "outputs": [],
   "source": [
    "# For displaying multiple outputs\n",
    "from IPython.core.interactiveshell import InteractiveShell\n",
    "InteractiveShell.ast_node_interactivity = \"all\""
   ]
  },
  {
   "cell_type": "markdown",
   "metadata": {},
   "source": [
    "## Load data"
   ]
  },
  {
   "cell_type": "code",
   "execution_count": 5,
   "metadata": {
    "collapsed": false
   },
   "outputs": [
    {
     "data": {
      "text/plain": [
       "DataFrame[]"
      ]
     },
     "execution_count": 5,
     "metadata": {},
     "output_type": "execute_result"
    }
   ],
   "source": [
    "sqlContext.sql(\"use bmtc\")\n",
    "\n",
    "# Get the route map\n",
    "route_map_df = sqlContext.sql(\"select route_id,start_bus_stop_id,end_bus_stop_id,\\\n",
    "                                      distance,time_to_travel,bus_stop_order,status \\\n",
    "                               from route_map\")\n",
    "\n",
    "# Get the route_point\n",
    "route_point_df = sqlContext.sql(\"select route_id, route_order, bus_stop_id from route_point\")\n",
    "\n",
    "bus_stop_df = sqlContext.sql(\"select bus_stop_id,bus_stop_name,latitude_current,longitude_current from bus_stop\")\n",
    "\n",
    "# Drop corrupted locations\n",
    "bus_stop_df = bus_stop_df.na.drop(subset=[\"latitude_current\"])\n",
    "bus_stop_df = bus_stop_df.na.drop(subset=[\"longitude_current\"])\n",
    "\n",
    "# Join the bus stop ID with lat,long\n",
    "route_point_joined_df = route_point_df.join(bus_stop_df,\\\n",
    "                                            [\"bus_stop_id\"],\\\n",
    "                                            \"left_outer\")\n",
    "\n",
    "form_four_df = sqlContext.sql(\"select form_four_id,form_four_name,schedule_number_id,\\\n",
    "                                      schedule_number_name,no_of_trips,start_time,\\\n",
    "                                      route_id,route_number,toll_zone,\\\n",
    "                                      area_limit,total_km,total_dead_km,\\\n",
    "                                      actual_km,total_running_time,total_break_time,\\\n",
    "                                      total_steering_time,spread_over_hours,ot_hours \\\n",
    "                               from form_four\")\n",
    "\n",
    "schedule_df = sqlContext.sql('select * from schedule')\n",
    "\n",
    "schedule_df = schedule_df.select(\"schedule_id\",\"schedule_number\",\"depot_id\",\"route_id\",\"schedule_type\")\n",
    "\n",
    "schedule_details_df = sqlContext.sql('select * from schedule_details')\n",
    "\n",
    "schedule_details_df = schedule_details_df.select(\"schedule_details_id\",\"form_four_id\",\"schedule_number\",\"number_of_trips\",\\\n",
    "                           \"trip_number\",\"trip_type\",\"start_point\",\"end_point\",\"route_number_id\",\\\n",
    "                           \"route_number\",\"route_direction\",\"distance\",\"start_time\",\"end_time\",\\\n",
    "                           \"running_time\",\"break_type_id\",\"shift_type_id\",\"is_dread_trip\")"
   ]
  },
  {
   "cell_type": "markdown",
   "metadata": {},
   "source": [
    "## Load the VTS_Waybill data"
   ]
  },
  {
   "cell_type": "code",
   "execution_count": 6,
   "metadata": {
    "collapsed": false
   },
   "outputs": [
    {
     "data": {
      "text/plain": [
       "DataFrame[]"
      ]
     },
     "execution_count": 6,
     "metadata": {},
     "output_type": "execute_result"
    },
    {
     "name": "stdout",
     "output_type": "stream",
     "text": [
      "+---------------------------+-----------+\n",
      "|tableName                  |isTemporary|\n",
      "+---------------------------+-----------+\n",
      "|vts_365r                   |false      |\n",
      "|vts_365r_distance          |false      |\n",
      "|vts_365r_distance_1        |false      |\n",
      "|vts_365r_filtered          |false      |\n",
      "|vts_bus_stop_min_dist_apr17|false      |\n",
      "|vts_bus_stop_min_dist_feb17|false      |\n",
      "|vts_bus_stop_min_dist_jan17|false      |\n",
      "|vts_bus_stop_min_dist_mar17|false      |\n",
      "|vts_bus_stop_min_dist_may17|false      |\n",
      "|vts_full_bus_stops_apr17   |false      |\n",
      "|vts_full_bus_stops_feb17   |false      |\n",
      "|vts_full_bus_stops_jan17   |false      |\n",
      "|vts_full_bus_stops_mar17   |false      |\n",
      "|vts_jun2017                |false      |\n",
      "|vts_normal_speed           |false      |\n",
      "|vts_volvo_2017             |false      |\n",
      "|vts_volvo_oct2017          |false      |\n",
      "|vts_waybill_volvo_apr2017  |false      |\n",
      "|vts_waybill_volvo_aug2017  |false      |\n",
      "|vts_waybill_volvo_dec2017  |false      |\n",
      "+---------------------------+-----------+\n",
      "only showing top 20 rows\n",
      "\n"
     ]
    }
   ],
   "source": [
    "sqlContext.sql(\"use bmtc_eta_default\")\n",
    "sqlContext.sql(\"show tables\").show(truncate=False)"
   ]
  },
  {
   "cell_type": "code",
   "execution_count": 7,
   "metadata": {
    "collapsed": false
   },
   "outputs": [],
   "source": [
    "#sqlContext.sql(\"select count(*) from vts_bus_stop_min_dist_apr17\").show()"
   ]
  },
  {
   "cell_type": "markdown",
   "metadata": {},
   "source": [
    "### >>> Input: Month "
   ]
  },
  {
   "cell_type": "code",
   "execution_count": 8,
   "metadata": {
    "collapsed": false
   },
   "outputs": [],
   "source": [
    "#vts_waybill_volvo_df = sqlContext.sql(\"select * from vts_waybill_volvo_may2017 where day(ist_date) >=28 and day(ist_date) <= 30\")\n",
    "#UNSURE: vts_waybill_volvo_df = sqlContext.sql(\"select * from vts_waybill_volvo_may2017 where day(ist_date) >=13 and day(ist_date) <=15\")\n",
    "vts_waybill_volvo_df = sqlContext.sql(\"select * from vts_waybill_volvo_may2017 where day(ist_date) >=25 and day(ist_date) <=27\")"
   ]
  },
  {
   "cell_type": "code",
   "execution_count": 9,
   "metadata": {
    "collapsed": false
   },
   "outputs": [
    {
     "data": {
      "text/plain": [
       "3216245"
      ]
     },
     "execution_count": 9,
     "metadata": {},
     "output_type": "execute_result"
    }
   ],
   "source": [
    "vts_waybill_volvo_count = vts_waybill_volvo_df.count()\n",
    "vts_waybill_volvo_count"
   ]
  },
  {
   "cell_type": "markdown",
   "metadata": {},
   "source": [
    "## Join the augmented table with the bus stops table conditional to the route ID"
   ]
  },
  {
   "cell_type": "code",
   "execution_count": 10,
   "metadata": {
    "collapsed": false
   },
   "outputs": [
    {
     "name": "stdout",
     "output_type": "stream",
     "text": [
      "+-----------+--------+-----------+--------------------+----------------+-----------------+\n",
      "|bus_stop_id|route_id|route_order|       bus_stop_name|latitude_current|longitude_current|\n",
      "+-----------+--------+-----------+--------------------+----------------+-----------------+\n",
      "|        160|     809|          1|Kempegowda Bus St...|     12.97751447|      77.57178022|\n",
      "|       5841|     809|          2|       KBS Connector|     12.97752049|      77.57099145|\n",
      "+-----------+--------+-----------+--------------------+----------------+-----------------+\n",
      "only showing top 2 rows\n",
      "\n"
     ]
    }
   ],
   "source": [
    "route_point_joined_df.show(2)"
   ]
  },
  {
   "cell_type": "code",
   "execution_count": 11,
   "metadata": {
    "collapsed": true
   },
   "outputs": [],
   "source": [
    "# Take the route id which are plying on roads\n",
    "route_id_list = vts_waybill_volvo_df.select(\"route_id\").distinct().rdd.map(lambda x:x[0]).collect()"
   ]
  },
  {
   "cell_type": "code",
   "execution_count": 12,
   "metadata": {
    "collapsed": false
   },
   "outputs": [
    {
     "data": {
      "text/plain": [
       "837"
      ]
     },
     "execution_count": 12,
     "metadata": {},
     "output_type": "execute_result"
    }
   ],
   "source": [
    "len(route_id_list)"
   ]
  },
  {
   "cell_type": "code",
   "execution_count": 13,
   "metadata": {
    "collapsed": false
   },
   "outputs": [],
   "source": [
    "route_point_filtered_df = route_point_joined_df.filter(col(\"route_id\").isin(route_id_list))"
   ]
  },
  {
   "cell_type": "code",
   "execution_count": 14,
   "metadata": {
    "collapsed": false
   },
   "outputs": [
    {
     "data": {
      "text/plain": [
       "1078342"
      ]
     },
     "execution_count": 14,
     "metadata": {},
     "output_type": "execute_result"
    },
    {
     "data": {
      "text/plain": [
       "19603"
      ]
     },
     "execution_count": 14,
     "metadata": {},
     "output_type": "execute_result"
    }
   ],
   "source": [
    "route_point_joined_count = route_point_joined_df.count()\n",
    "route_point_joined_count\n",
    "route_point_filtered_count = route_point_filtered_df.count()\n",
    "route_point_filtered_count"
   ]
  },
  {
   "cell_type": "code",
   "execution_count": 15,
   "metadata": {
    "collapsed": false
   },
   "outputs": [
    {
     "name": "stdout",
     "output_type": "stream",
     "text": [
      "+-----------+-------------+--------------------+-----------+-----------+----------+----------+-----------+-------------------+------------+-----------+----------+--------+--------+---------------+--------------------+--------------------+\n",
      "|         id|vts_device_id|            ist_date|        lat|  longitude| ist_epoch|   duty_dt|schedule_no|      schedule_name|service_type|trip_number|start_time|end_time|route_id|       route_no|      etm_start_time|        etm_end_time|\n",
      "+-----------+-------------+--------------------+-----------+-----------+----------+----------+-----------+-------------------+------------+-----------+----------+--------+--------+---------------+--------------------+--------------------+\n",
      "|16987092643|   0e8e5640ff|2017-05-26 08:20:...|12.97711533|77.71913067|1495767034|2017-05-26|      10055|V-335EP/6-Week Days|           3|          4|  08:30:00|09:45:00|   31159|      JFWTC-KBS|2017-05-26 08:22:...|2017-05-26 09:08:...|\n",
      "|16987092643|   0e8e5640ff|2017-05-26 08:20:...|12.97711533|77.71913067|1495767034|2017-05-26|      10055|V-335EP/6-Week Days|           3|          3|  06:20:00|08:00:00|   17119|CS-NBVBDA-JFWTC|2017-05-26 06:05:...|2017-05-26 08:24:...|\n",
      "+-----------+-------------+--------------------+-----------+-----------+----------+----------+-----------+-------------------+------------+-----------+----------+--------+--------+---------------+--------------------+--------------------+\n",
      "only showing top 2 rows\n",
      "\n"
     ]
    }
   ],
   "source": [
    "vts_waybill_volvo_filtered_df = vts_waybill_volvo_df.select(\"id\", \"vts_device_id\", \"ist_date\", \"lat\", \"longitude\",\n",
    "                                                            \"ist_epoch\", \"duty_dt\",\n",
    "                                                            \"schedule_no\", \"schedule_name\", \"service_type\",\n",
    "                                                            \"trip_number\", \"start_time\", \"end_time\", \n",
    "                                                            \"route_id\", \"route_no\", \"etm_start_time\", \"etm_end_time\")\n",
    "vts_waybill_volvo_filtered_df.show(2)"
   ]
  },
  {
   "cell_type": "code",
   "execution_count": 16,
   "metadata": {
    "collapsed": true
   },
   "outputs": [],
   "source": [
    "# Join the vts_waybill table with the bus stop table. \n",
    "# This will provide the set of bus stop on that route \n",
    "vts_waybill_bus_stop_df = vts_waybill_volvo_filtered_df.join(route_point_filtered_df, ['route_id'], \"inner\")"
   ]
  },
  {
   "cell_type": "code",
   "execution_count": 17,
   "metadata": {
    "collapsed": false
   },
   "outputs": [
    {
     "data": {
      "text/plain": [
       "136183630"
      ]
     },
     "execution_count": 17,
     "metadata": {},
     "output_type": "execute_result"
    }
   ],
   "source": [
    "vts_waybill_bus_stop_count = vts_waybill_bus_stop_df.count()\n",
    "vts_waybill_bus_stop_count"
   ]
  },
  {
   "cell_type": "code",
   "execution_count": 18,
   "metadata": {
    "collapsed": false
   },
   "outputs": [
    {
     "name": "stdout",
     "output_type": "stream",
     "text": [
      "+--------+-----------+-------------+--------------------+-----------+----------+----------+----------+-----------+------------------+------------+-----------+----------+--------+-----------+--------------------+--------------------+-----------+-----------+-------------+----------------+-----------------+\n",
      "|route_id|         id|vts_device_id|            ist_date|        lat| longitude| ist_epoch|   duty_dt|schedule_no|     schedule_name|service_type|trip_number|start_time|end_time|   route_no|      etm_start_time|        etm_end_time|bus_stop_id|route_order|bus_stop_name|latitude_current|longitude_current|\n",
      "+--------+-----------+-------------+--------------------+-----------+----------+----------+----------+-----------+------------------+------------+-----------+----------+--------+-----------+--------------------+--------------------+-----------+-----------+-------------+----------------+-----------------+\n",
      "|   13289|16987930887|   0e8e563cc2|2017-05-26 08:47:...|12.98657333|77.6479785|1495768643|2017-05-26|      22863|V-500W/3-Week Days|           3|          3|  07:50:00|09:00:00|CS-BMSD-BTP|2017-05-26 08:05:...|2017-05-26 08:54:...|        372|          1|  Bommasandra|     12.81943759|      77.68841431|\n",
      "|   13289|16987930887|   0e8e563cc2|2017-05-26 08:47:...|12.98657333|77.6479785|1495768643|2017-05-26|      22863|V-500W/3-Week Days|           3|          3|  07:50:00|09:00:00|CS-BMSD-BTP|2017-05-26 08:05:...|2017-05-26 08:54:...|        788|          2|    Hebbagodi|     12.82561203|      77.68296677|\n",
      "+--------+-----------+-------------+--------------------+-----------+----------+----------+----------+-----------+------------------+------------+-----------+----------+--------+-----------+--------------------+--------------------+-----------+-----------+-------------+----------------+-----------------+\n",
      "only showing top 2 rows\n",
      "\n"
     ]
    }
   ],
   "source": [
    "vts_waybill_bus_stop_df.show(2)"
   ]
  },
  {
   "cell_type": "code",
   "execution_count": 19,
   "metadata": {
    "collapsed": false
   },
   "outputs": [
    {
     "data": {
      "text/plain": [
       "135423358"
      ]
     },
     "execution_count": 19,
     "metadata": {},
     "output_type": "execute_result"
    }
   ],
   "source": [
    "# Drop corrupted locations after joining with bus stop dataframe.\n",
    "# These null locations corresponds to route ID not found in the route point joined dataframe\n",
    "\n",
    "vts_waybill_bus_stop_df = vts_waybill_bus_stop_df.na.drop(subset=[\"latitude_current\"])\n",
    "vts_waybill_bus_stop_df = vts_waybill_bus_stop_df.na.drop(subset=[\"longitude_current\"])\n",
    "vts_waybill_bus_stop_count = vts_waybill_bus_stop_df.count()\n",
    "vts_waybill_bus_stop_count"
   ]
  },
  {
   "cell_type": "markdown",
   "metadata": {},
   "source": [
    "## We get the closest bus stop on a route"
   ]
  },
  {
   "cell_type": "code",
   "execution_count": 20,
   "metadata": {
    "collapsed": true
   },
   "outputs": [],
   "source": [
    "from pyspark.sql import Window"
   ]
  },
  {
   "cell_type": "code",
   "execution_count": 21,
   "metadata": {
    "collapsed": false
   },
   "outputs": [
    {
     "data": {
      "text/plain": [
       "3.141592653589793"
      ]
     },
     "execution_count": 21,
     "metadata": {},
     "output_type": "execute_result"
    }
   ],
   "source": [
    "# Define a UDF for calculating the distance between the two geo points\n",
    "from pyspark.sql.functions import udf\n",
    "from math import *\n",
    "\n",
    "pi_broadcast = sc.broadcast(pi)\n",
    "pi_broadcast.value\n",
    "\n",
    "# Return the Haversine distance between two geo-points\n",
    "# The returned value is in metres\n",
    "def distBetweenGeoPoints(lat1, long1, lat2, long2):\n",
    "    dist =  ((acos(sin((lat1*pi_broadcast.value/180)) * \n",
    "                   sin((lat2*pi_broadcast.value/180))+cos((lat1*pi_broadcast.value/180)) * \n",
    "                   cos((lat2*pi_broadcast.value/180)) * cos(((long1 - long2)* \n",
    "              pi_broadcast.value/180))))*180/pi_broadcast.value*60*1.1515*1.60934)*1000\n",
    "    return round(dist)\n",
    "\n",
    "# The returned value is in metres\n",
    "\n",
    "distBetweenGeoPointsUDF = udf(distBetweenGeoPoints)"
   ]
  },
  {
   "cell_type": "code",
   "execution_count": 22,
   "metadata": {
    "collapsed": true
   },
   "outputs": [],
   "source": [
    "VW_bus_stop_df = vts_waybill_bus_stop_df.withColumn(\"dist\", \n",
    "                                                   distBetweenGeoPointsUDF(vts_waybill_bus_stop_df.lat, \n",
    "                                                                           vts_waybill_bus_stop_df.longitude, \n",
    "                                                                           vts_waybill_bus_stop_df.latitude_current, \n",
    "                                                                           vts_waybill_bus_stop_df.longitude_current).cast(\"float\"))"
   ]
  },
  {
   "cell_type": "code",
   "execution_count": null,
   "metadata": {
    "collapsed": false
   },
   "outputs": [],
   "source": [
    "# Cache the dataframe \n",
    "VW_bus_stop_df.cache()"
   ]
  },
  {
   "cell_type": "code",
   "execution_count": null,
   "metadata": {
    "collapsed": false
   },
   "outputs": [],
   "source": [
    "VW_bus_stop_filtered_df = VW_bus_stop_df.filter(VW_bus_stop_df.dist <= 50)"
   ]
  },
  {
   "cell_type": "code",
   "execution_count": null,
   "metadata": {
    "collapsed": false
   },
   "outputs": [],
   "source": [
    "VW_bus_stop_filtered_df.show(2)"
   ]
  },
  {
   "cell_type": "code",
   "execution_count": null,
   "metadata": {
    "collapsed": false
   },
   "outputs": [],
   "source": [
    "VW_bus_stop_filtered_count = VW_bus_stop_filtered_df.count()\n",
    "VW_bus_stop_filtered_count"
   ]
  },
  {
   "cell_type": "code",
   "execution_count": null,
   "metadata": {
    "collapsed": false
   },
   "outputs": [],
   "source": [
    "VW_bus_stop_filtered_count"
   ]
  },
  {
   "cell_type": "markdown",
   "metadata": {
    "collapsed": true
   },
   "source": [
    "## Figure out entry nearest the bus stop"
   ]
  },
  {
   "cell_type": "code",
   "execution_count": null,
   "metadata": {
    "collapsed": true
   },
   "outputs": [],
   "source": [
    "VW_window = Window.partitionBy(\"vts_device_id\", \"ist_epoch\", \"schedule_no\", \"route_id\", \"trip_number\")\n",
    "VW_window_1 = Window.partitionBy(\"duty_dt\", \"vts_device_id\", \"schedule_no\", \"route_id\", \"trip_number\", \"bus_stop_id\", \"route_order\")"
   ]
  },
  {
   "cell_type": "code",
   "execution_count": null,
   "metadata": {
    "collapsed": true
   },
   "outputs": [],
   "source": [
    "VW_window_df = VW_bus_stop_filtered_df.withColumn(\"min_dist\", F.min(\"dist\").over(VW_window))\n",
    "VW_window_1_df = VW_window_df.where(col('dist') == col('min_dist'))"
   ]
  },
  {
   "cell_type": "code",
   "execution_count": null,
   "metadata": {
    "collapsed": false
   },
   "outputs": [],
   "source": [
    "VW_window_count = VW_window_df.count()\n",
    "VW_window_count\n",
    "VW_window_1_count = VW_window_1_df.count()\n",
    "VW_window_1_count"
   ]
  },
  {
   "cell_type": "code",
   "execution_count": null,
   "metadata": {
    "collapsed": false
   },
   "outputs": [],
   "source": [
    "VW_window_2_df = VW_window_1_df.withColumn(\"min_time\", F.min(\"ist_epoch\").over(VW_window_1))\n",
    "VW_window_3_df = VW_window_2_df.where(col('ist_epoch') == col('min_time'))\n",
    "VW_window_3_count = VW_window_3_df.count()\n",
    "VW_window_3_count"
   ]
  },
  {
   "cell_type": "code",
   "execution_count": null,
   "metadata": {
    "collapsed": false
   },
   "outputs": [],
   "source": [
    "#sqlContext.sql(\"select * from vts_bus_stop_min_dist_apr17 where day(duty_dt) == 24\").show(2)"
   ]
  },
  {
   "cell_type": "markdown",
   "metadata": {},
   "source": [
    "### >>> Input: Change month and create/insert"
   ]
  },
  {
   "cell_type": "code",
   "execution_count": null,
   "metadata": {
    "collapsed": false
   },
   "outputs": [],
   "source": [
    "# Instead of creating a persistent table using saveAsTable, make temp table and dump it as a hive table\n",
    "VW_window_3_df.createOrReplaceTempView(\"temp_VW_window_3_df\") \n",
    "#sqlContext.sql(\"create table vts_bus_stop_min_dist_may17 as select * from temp_VW_window_3_df\")\n",
    "sqlContext.sql(\"insert into vts_bus_stop_min_dist_may17 select * from temp_VW_window_3_df\")"
   ]
  },
  {
   "cell_type": "code",
   "execution_count": null,
   "metadata": {
    "collapsed": false
   },
   "outputs": [],
   "source": [
    "VW_bus_stop_df.unpersist()"
   ]
  },
  {
   "cell_type": "code",
   "execution_count": null,
   "metadata": {
    "collapsed": false
   },
   "outputs": [],
   "source": [
    "VW_window_3_count"
   ]
  },
  {
   "cell_type": "markdown",
   "metadata": {},
   "source": [
    "### Validation part"
   ]
  },
  {
   "cell_type": "code",
   "execution_count": 322,
   "metadata": {
    "collapsed": false
   },
   "outputs": [
    {
     "data": {
      "text/plain": [
       "DataFrame[]"
      ]
     },
     "execution_count": 322,
     "metadata": {},
     "output_type": "execute_result"
    },
    {
     "data": {
      "text/plain": [
       "573730"
      ]
     },
     "execution_count": 322,
     "metadata": {},
     "output_type": "execute_result"
    }
   ],
   "source": [
    "sqlContext.sql(\"use bmtc_eta_default\")\n",
    "VW_window_3_df = sqlContext.sql(\"select * from vts_bus_stop_min_dist_mar17\")\n",
    "VW_window_3_count = VW_window_3_df.count()\n",
    "VW_window_3_count\n",
    "schedule_335 = VW_window_3_df.filter(col('schedule_name').like(\"%335%\")).select(\"schedule_name\")\\\n",
    "                   .distinct().rdd.map(lambda x:x[0]).collect()"
   ]
  },
  {
   "cell_type": "code",
   "execution_count": 283,
   "metadata": {
    "collapsed": false
   },
   "outputs": [
    {
     "name": "stdout",
     "output_type": "stream",
     "text": [
      "+-----------+\n",
      "|schedule_no|\n",
      "+-----------+\n",
      "|      35229|\n",
      "+-----------+\n",
      "\n"
     ]
    }
   ],
   "source": [
    "# Take schedule 365R/1-All Days, and we see that it takes two schedule no, which corresponds to two form four IDs\n",
    "VW_window_3_df.filter(col('schedule_name')=='V-335E/44-All Days').select(\"schedule_no\").distinct().show()"
   ]
  },
  {
   "cell_type": "code",
   "execution_count": 284,
   "metadata": {
    "collapsed": false
   },
   "outputs": [
    {
     "name": "stdout",
     "output_type": "stream",
     "text": [
      "+------------+--------------+------------------+--------------------+-----------+----------+--------+------------+---------+----------+--------+-------------+---------+------------------+----------------+-------------------+-----------------+--------+\n",
      "|form_four_id|form_four_name|schedule_number_id|schedule_number_name|no_of_trips|start_time|route_id|route_number|toll_zone|area_limit|total_km|total_dead_km|actual_km|total_running_time|total_break_time|total_steering_time|spread_over_hours|ot_hours|\n",
      "+------------+--------------+------------------+--------------------+-----------+----------+--------+------------+---------+----------+--------+-------------+---------+------------------+----------------+-------------------+-----------------+--------+\n",
      "|       35229|             1|              9434|  V-335E/44-All Days|          6|  18:20:00|   32611|        null|        0|         0|   113.0|          0.6|    112.4|              6:50|            null|               7:35|              8:5|     0:0|\n",
      "+------------+--------------+------------------+--------------------+-----------+----------+--------+------------+---------+----------+--------+-------------+---------+------------------+----------------+-------------------+-----------------+--------+\n",
      "\n"
     ]
    }
   ],
   "source": [
    "form_four_df.filter(col('form_four_id').isin([35229])).show()"
   ]
  },
  {
   "cell_type": "code",
   "execution_count": 285,
   "metadata": {
    "collapsed": false
   },
   "outputs": [],
   "source": [
    "# schedule_details_df.filter((col(\"schedule_number\")==9434) & (col('form_four_id')==35229) ).show()"
   ]
  },
  {
   "cell_type": "code",
   "execution_count": 286,
   "metadata": {
    "collapsed": true
   },
   "outputs": [],
   "source": [
    "VW_schedule_df = VW_window_3_df.filter(col(\"schedule_name\") == 'V-335E/44-All Days')"
   ]
  },
  {
   "cell_type": "code",
   "execution_count": 287,
   "metadata": {
    "collapsed": false
   },
   "outputs": [
    {
     "data": {
      "text/plain": [
       "410"
      ]
     },
     "execution_count": 287,
     "metadata": {},
     "output_type": "execute_result"
    }
   ],
   "source": [
    "VW_schedule_count = VW_schedule_df.count()\n",
    "VW_schedule_count"
   ]
  },
  {
   "cell_type": "code",
   "execution_count": 288,
   "metadata": {
    "collapsed": false
   },
   "outputs": [
    {
     "name": "stdout",
     "output_type": "stream",
     "text": [
      "+--------+-----------+-------------+--------------------+---------+---------+----------+----------+-----------+------------------+------------+-----------+----------+--------+--------+--------------------+--------------------+-----------+-----------+--------------+----------------+-----------------+----+--------+----------+\n",
      "|route_id|         id|vts_device_id|            ist_date|      lat|longitude| ist_epoch|   duty_dt|schedule_no|     schedule_name|service_type|trip_number|start_time|end_time|route_no|      etm_start_time|        etm_end_time|bus_stop_id|route_order| bus_stop_name|latitude_current|longitude_current|dist|min_dist|  min_time|\n",
      "+--------+-----------+-------------+--------------------+---------+---------+----------+----------+-----------+------------------+------------+-----------+----------+--------+--------+--------------------+--------------------+-----------+-----------+--------------+----------------+-----------------+----+--------+----------+\n",
      "|   32612|14190026552|    150218239|2017-03-02 04:52:...|12.960676| 77.64109|1488410534|2017-03-01|      35229|V-335E/44-All Days|           3|          5|  00:20:00|01:50:00|  V-335E|2017-03-02 04:16:...|2017-03-02 05:17:...|       6756|         33|Domlur Flyover|     12.96066873|      77.64126733|19.0|    19.0|1488410534|\n",
      "|   32611|14224068463|    150220954|2017-03-03 04:15:...|12.973512|77.610146|1488494730|2017-03-02|      35229|V-335E/44-All Days|           3|          4|  22:45:00|00:15:00|  V-335E|2017-03-02 22:51:...|2017-03-03 05:03:...|       9136|         13|      Mayohall|     12.97349535|      77.61048496|37.0|    37.0|1488494730|\n",
      "+--------+-----------+-------------+--------------------+---------+---------+----------+----------+-----------+------------------+------------+-----------+----------+--------+--------+--------------------+--------------------+-----------+-----------+--------------+----------------+-----------------+----+--------+----------+\n",
      "only showing top 2 rows\n",
      "\n"
     ]
    }
   ],
   "source": [
    "VW_schedule_df.show(2)"
   ]
  },
  {
   "cell_type": "code",
   "execution_count": 291,
   "metadata": {
    "collapsed": false
   },
   "outputs": [],
   "source": [
    "VW_by_device_df = VW_window_3_df.filter(col(\"vts_device_id\") == 150218239).orderBy(\"ist_epoch\")"
   ]
  },
  {
   "cell_type": "code",
   "execution_count": 292,
   "metadata": {
    "collapsed": false
   },
   "outputs": [
    {
     "data": {
      "text/plain": [
       "983"
      ]
     },
     "execution_count": 292,
     "metadata": {},
     "output_type": "execute_result"
    }
   ],
   "source": [
    "VW_by_device_count = VW_by_device_df.count()\n",
    "VW_by_device_count"
   ]
  },
  {
   "cell_type": "code",
   "execution_count": 65,
   "metadata": {
    "collapsed": false
   },
   "outputs": [],
   "source": [
    "temp_time_df = VW_by_device_df.filter(dayofmonth(col('ist_date')) == 1)\\\n",
    "                                .select(\"ist_date\", \"schedule_no\", \"route_id\", \"trip_number\", \"bus_stop_id\", \"bus_stop_name\", \"route_order\")\n",
    "temp_time_filtered_df = temp_time_df.filter(col('trip_number') == 2)"
   ]
  },
  {
   "cell_type": "code",
   "execution_count": 66,
   "metadata": {
    "collapsed": false
   },
   "outputs": [
    {
     "name": "stdout",
     "output_type": "stream",
     "text": [
      "+--------------------+-----------+--------+-----------+-----------+--------------------+-----------+\n",
      "|            ist_date|schedule_no|route_id|trip_number|bus_stop_id|       bus_stop_name|route_order|\n",
      "+--------------------+-----------+--------+-----------+-----------+--------------------+-----------+\n",
      "|2017-02-01 06:45:...|      33103|   28798|          2|         33|      KBS Connector2|         15|\n",
      "|2017-02-01 06:48:...|      33103|   28798|          2|      11378|   Depot-07 Dummy BS|         16|\n",
      "|2017-02-01 06:51:...|      33103|   28798|          2|        124|   Maharanis College|         17|\n",
      "|2017-02-01 06:54:...|      33103|   28798|          2|         61|           KR Circle|         18|\n",
      "|2017-02-01 06:56:...|      33103|   28798|          2|        127|         Corporation|         19|\n",
      "|2017-02-01 06:59:...|      33103|   28798|          2|        157|St Joseph Boys Hi...|         20|\n",
      "|2017-02-01 07:01:...|      33103|   28798|          2|        854|     Richmond Circle|         21|\n",
      "|2017-02-01 07:02:...|      33103|   28798|          2|       6212|   St Joseph College|         22|\n",
      "|2017-02-01 07:04:...|      33103|   28798|          2|       9136|            Mayohall|         23|\n",
      "|2017-02-01 07:05:...|      33103|   28798|          2|       7433|     Hosmat Hospital|         24|\n",
      "|2017-02-01 07:08:...|      33103|   28798|          2|       6933|Military Accounts...|         25|\n",
      "|2017-02-01 07:09:...|      33103|   28798|          2|        132|   Commando Hospital|         26|\n",
      "|2017-02-01 07:11:...|      33103|   28798|          2|        155|              Domlur|         27|\n",
      "|2017-02-01 07:14:...|      33103|   28798|          2|       6757|      Domlur Flyover|         28|\n",
      "|2017-02-01 07:14:...|      33103|   28798|          2|          3|           Kodihalli|         29|\n",
      "|2017-02-01 07:15:...|      33103|   28798|          2|       4742|NAL Manipal Hospi...|         30|\n",
      "|2017-02-01 07:16:...|      33103|   28798|          2|       3041|       Murugeshpalya|         31|\n",
      "|2017-02-01 07:17:...|      33103|   28798|          2|       6912|     Konena Agrahara|         32|\n",
      "|2017-02-01 07:22:...|      33103|   28798|          2|       1484|       HAL Main Gate|         33|\n",
      "|2017-02-01 07:27:...|      33103|   28798|          2|        849| Helicopter Division|         34|\n",
      "|2017-02-01 07:28:...|      33103|   28798|          2|        149|  HAL Police Station|         35|\n",
      "|2017-02-01 07:29:...|      33103|   28798|          2|        147|       Yamalur Cross|         36|\n",
      "|2017-02-01 07:30:...|      33103|   28798|          2|       6946|       Marathahalli |         37|\n",
      "|2017-02-01 07:39:...|      33103|   28798|          2|       2589| Marathahalli Bridge|         38|\n",
      "|2017-02-01 07:41:...|      33103|   28798|          2|       2032|   Munnekolalu Cross|         39|\n",
      "|2017-02-01 07:44:...|      33103|   28798|          2|       2071|   Kundalahalli Gate|         40|\n",
      "|2017-02-01 07:44:...|      33103|   28798|          2|       2036|        Kundalahalli|         41|\n",
      "|2017-02-01 07:46:...|      33103|   28798|          2|       6908|           BEML Gate|         42|\n",
      "|2017-02-01 07:47:...|      33103|   28798|          2|       6930|   AECS Layout Cross|         43|\n",
      "|2017-02-01 07:49:...|      33103|   28798|          2|       2039|       CMRIT College|         44|\n",
      "|2017-02-01 07:49:...|      33103|   28798|          2|       2040| Kundalahalli Colony|         45|\n",
      "|2017-02-01 07:54:...|      33103|   28798|          2|       2041|      Graphite India|         46|\n",
      "|2017-02-01 07:56:...|      33103|   28798|          2|       2043|              I Gate|         48|\n",
      "|2017-02-01 07:57:...|      33103|   28798|          2|       2045|                KTPO|         49|\n",
      "|2017-02-01 07:57:...|      33103|   28798|          2|       2048|White Field TTMC ...|         50|\n",
      "|2017-02-01 07:59:...|      33103|   28798|          2|       2050| Sathya Sai Hospital|         51|\n",
      "|2017-02-01 08:04:...|      33103|   28798|          2|       7385|    Big Bazzar  ITPL|         52|\n",
      "+--------------------+-----------+--------+-----------+-----------+--------------------+-----------+\n",
      "\n"
     ]
    }
   ],
   "source": [
    "temp_time_filtered_df.show(1323)"
   ]
  },
  {
   "cell_type": "code",
   "execution_count": 411,
   "metadata": {
    "collapsed": false
   },
   "outputs": [
    {
     "data": {
      "text/plain": [
       "42"
      ]
     },
     "execution_count": 411,
     "metadata": {},
     "output_type": "execute_result"
    }
   ],
   "source": [
    "temp_time_filtered_df.count()"
   ]
  },
  {
   "cell_type": "code",
   "execution_count": 438,
   "metadata": {
    "collapsed": true
   },
   "outputs": [],
   "source": [
    "temp_route_point_df = route_point_joined_df.filter(col(\"route_id\") == 23067)"
   ]
  },
  {
   "cell_type": "code",
   "execution_count": 447,
   "metadata": {
    "collapsed": true
   },
   "outputs": [],
   "source": [
    "temp_time_route_point_joined_df = temp_route_point_df.join(temp_time_filtered_df,\n",
    "                                                          ['route_id', 'bus_stop_id', 'route_order'],\n",
    "                                                          'left_outer')"
   ]
  },
  {
   "cell_type": "code",
   "execution_count": 448,
   "metadata": {
    "collapsed": false
   },
   "outputs": [],
   "source": [
    "temp_time_route_point_joined_pdf = temp_time_route_point_joined_df.toPandas()"
   ]
  },
  {
   "cell_type": "code",
   "execution_count": 449,
   "metadata": {
    "collapsed": false
   },
   "outputs": [],
   "source": [
    "temp_time_route_point_joined_pdf = temp_time_route_point_joined_pdf.drop(['latitude_current', 'longitude_current'], axis = 1)"
   ]
  },
  {
   "cell_type": "code",
   "execution_count": 450,
   "metadata": {
    "collapsed": false
   },
   "outputs": [],
   "source": [
    "temp_time_route_point_joined_pdf = temp_time_route_point_joined_pdf.sort_values(by='route_order')"
   ]
  },
  {
   "cell_type": "code",
   "execution_count": 451,
   "metadata": {
    "collapsed": false
   },
   "outputs": [
    {
     "data": {
      "text/html": [
       "<div>\n",
       "<table border=\"1\" class=\"dataframe\">\n",
       "  <thead>\n",
       "    <tr style=\"text-align: right;\">\n",
       "      <th></th>\n",
       "      <th>route_id</th>\n",
       "      <th>bus_stop_id</th>\n",
       "      <th>route_order</th>\n",
       "      <th>bus_stop_name</th>\n",
       "      <th>ist_date</th>\n",
       "      <th>schedule_no</th>\n",
       "      <th>trip_number</th>\n",
       "      <th>bus_stop_name</th>\n",
       "    </tr>\n",
       "  </thead>\n",
       "  <tbody>\n",
       "    <tr>\n",
       "      <th>37</th>\n",
       "      <td>23067</td>\n",
       "      <td>160</td>\n",
       "      <td>1</td>\n",
       "      <td>Kempegowda Bus Station</td>\n",
       "      <td>None</td>\n",
       "      <td>NaN</td>\n",
       "      <td>NaN</td>\n",
       "      <td>None</td>\n",
       "    </tr>\n",
       "    <tr>\n",
       "      <th>25</th>\n",
       "      <td>23067</td>\n",
       "      <td>5841</td>\n",
       "      <td>2</td>\n",
       "      <td>KBS Connector</td>\n",
       "      <td>None</td>\n",
       "      <td>NaN</td>\n",
       "      <td>NaN</td>\n",
       "      <td>None</td>\n",
       "    </tr>\n",
       "    <tr>\n",
       "      <th>31</th>\n",
       "      <td>23067</td>\n",
       "      <td>33</td>\n",
       "      <td>3</td>\n",
       "      <td>KBS Connector2</td>\n",
       "      <td>None</td>\n",
       "      <td>NaN</td>\n",
       "      <td>NaN</td>\n",
       "      <td>None</td>\n",
       "    </tr>\n",
       "    <tr>\n",
       "      <th>43</th>\n",
       "      <td>23067</td>\n",
       "      <td>5840</td>\n",
       "      <td>4</td>\n",
       "      <td>KBS connector3</td>\n",
       "      <td>2017-01-01 08:25:24.0</td>\n",
       "      <td>28000.0</td>\n",
       "      <td>2.0</td>\n",
       "      <td>KBS connector3</td>\n",
       "    </tr>\n",
       "    <tr>\n",
       "      <th>30</th>\n",
       "      <td>23067</td>\n",
       "      <td>8455</td>\n",
       "      <td>5</td>\n",
       "      <td>KBS Dummy Bus Stand</td>\n",
       "      <td>2017-01-01 08:25:14.0</td>\n",
       "      <td>28000.0</td>\n",
       "      <td>2.0</td>\n",
       "      <td>KBS Dummy Bus Stand</td>\n",
       "    </tr>\n",
       "    <tr>\n",
       "      <th>10</th>\n",
       "      <td>23067</td>\n",
       "      <td>124</td>\n",
       "      <td>6</td>\n",
       "      <td>Maharanis College</td>\n",
       "      <td>2017-01-01 08:29:02.0</td>\n",
       "      <td>28000.0</td>\n",
       "      <td>2.0</td>\n",
       "      <td>Maharanis College</td>\n",
       "    </tr>\n",
       "    <tr>\n",
       "      <th>45</th>\n",
       "      <td>23067</td>\n",
       "      <td>61</td>\n",
       "      <td>7</td>\n",
       "      <td>KR Circle</td>\n",
       "      <td>2017-01-01 08:30:23.0</td>\n",
       "      <td>28000.0</td>\n",
       "      <td>2.0</td>\n",
       "      <td>KR Circle</td>\n",
       "    </tr>\n",
       "    <tr>\n",
       "      <th>33</th>\n",
       "      <td>23067</td>\n",
       "      <td>126</td>\n",
       "      <td>8</td>\n",
       "      <td>St Marthas Hospital</td>\n",
       "      <td>None</td>\n",
       "      <td>NaN</td>\n",
       "      <td>NaN</td>\n",
       "      <td>None</td>\n",
       "    </tr>\n",
       "    <tr>\n",
       "      <th>15</th>\n",
       "      <td>23067</td>\n",
       "      <td>158</td>\n",
       "      <td>9</td>\n",
       "      <td>Corporation</td>\n",
       "      <td>2017-01-01 08:33:42.0</td>\n",
       "      <td>28000.0</td>\n",
       "      <td>2.0</td>\n",
       "      <td>Corporation</td>\n",
       "    </tr>\n",
       "    <tr>\n",
       "      <th>29</th>\n",
       "      <td>23067</td>\n",
       "      <td>159</td>\n",
       "      <td>10</td>\n",
       "      <td>Subbaiah Circle</td>\n",
       "      <td>2017-01-01 08:35:21.0</td>\n",
       "      <td>28000.0</td>\n",
       "      <td>2.0</td>\n",
       "      <td>Subbaiah Circle</td>\n",
       "    </tr>\n",
       "    <tr>\n",
       "      <th>27</th>\n",
       "      <td>23067</td>\n",
       "      <td>353</td>\n",
       "      <td>11</td>\n",
       "      <td>KH Road</td>\n",
       "      <td>2017-01-01 08:37:11.0</td>\n",
       "      <td>28000.0</td>\n",
       "      <td>2.0</td>\n",
       "      <td>KH Road</td>\n",
       "    </tr>\n",
       "    <tr>\n",
       "      <th>4</th>\n",
       "      <td>23067</td>\n",
       "      <td>8579</td>\n",
       "      <td>12</td>\n",
       "      <td>SNT Dummy Stop</td>\n",
       "      <td>2017-01-01 08:37:41.0</td>\n",
       "      <td>28000.0</td>\n",
       "      <td>2.0</td>\n",
       "      <td>SNT Dummy Stop</td>\n",
       "    </tr>\n",
       "    <tr>\n",
       "      <th>35</th>\n",
       "      <td>23067</td>\n",
       "      <td>8206</td>\n",
       "      <td>13</td>\n",
       "      <td>SNT Connector</td>\n",
       "      <td>2017-01-01 08:38:11.0</td>\n",
       "      <td>28000.0</td>\n",
       "      <td>2.0</td>\n",
       "      <td>SNT Connector</td>\n",
       "    </tr>\n",
       "    <tr>\n",
       "      <th>13</th>\n",
       "      <td>23067</td>\n",
       "      <td>8207</td>\n",
       "      <td>14</td>\n",
       "      <td>Shanthinagara TTMC</td>\n",
       "      <td>2017-01-01 08:38:41.0</td>\n",
       "      <td>28000.0</td>\n",
       "      <td>2.0</td>\n",
       "      <td>Shanthinagara TTMC</td>\n",
       "    </tr>\n",
       "    <tr>\n",
       "      <th>18</th>\n",
       "      <td>23067</td>\n",
       "      <td>8208</td>\n",
       "      <td>15</td>\n",
       "      <td>SNT Connector</td>\n",
       "      <td>2017-01-01 08:39:00.0</td>\n",
       "      <td>28000.0</td>\n",
       "      <td>2.0</td>\n",
       "      <td>SNT Connector</td>\n",
       "    </tr>\n",
       "    <tr>\n",
       "      <th>2</th>\n",
       "      <td>23067</td>\n",
       "      <td>8577</td>\n",
       "      <td>16</td>\n",
       "      <td>SNT Dummy Stop</td>\n",
       "      <td>2017-01-01 08:39:10.0</td>\n",
       "      <td>28000.0</td>\n",
       "      <td>2.0</td>\n",
       "      <td>SNT Dummy Stop</td>\n",
       "    </tr>\n",
       "    <tr>\n",
       "      <th>5</th>\n",
       "      <td>23067</td>\n",
       "      <td>65</td>\n",
       "      <td>17</td>\n",
       "      <td>Wilson Garden Police Station</td>\n",
       "      <td>2017-01-01 08:40:20.0</td>\n",
       "      <td>28000.0</td>\n",
       "      <td>2.0</td>\n",
       "      <td>Wilson Garden Police Station</td>\n",
       "    </tr>\n",
       "    <tr>\n",
       "      <th>1</th>\n",
       "      <td>23067</td>\n",
       "      <td>66</td>\n",
       "      <td>18</td>\n",
       "      <td>10th Cross Wilson Garden</td>\n",
       "      <td>2017-01-01 08:41:49.0</td>\n",
       "      <td>28000.0</td>\n",
       "      <td>2.0</td>\n",
       "      <td>10th Cross Wilson Garden</td>\n",
       "    </tr>\n",
       "    <tr>\n",
       "      <th>40</th>\n",
       "      <td>23067</td>\n",
       "      <td>67</td>\n",
       "      <td>19</td>\n",
       "      <td>Lakkasandra</td>\n",
       "      <td>2017-01-01 08:43:10.0</td>\n",
       "      <td>28000.0</td>\n",
       "      <td>2.0</td>\n",
       "      <td>Lakkasandra</td>\n",
       "    </tr>\n",
       "    <tr>\n",
       "      <th>17</th>\n",
       "      <td>23067</td>\n",
       "      <td>351</td>\n",
       "      <td>20</td>\n",
       "      <td>Nimhans Hospital</td>\n",
       "      <td>2017-01-01 08:43:50.0</td>\n",
       "      <td>28000.0</td>\n",
       "      <td>2.0</td>\n",
       "      <td>Nimhans Hospital</td>\n",
       "    </tr>\n",
       "    <tr>\n",
       "      <th>12</th>\n",
       "      <td>23067</td>\n",
       "      <td>76</td>\n",
       "      <td>21</td>\n",
       "      <td>Bengaluru Dairy Circle</td>\n",
       "      <td>2017-01-01 08:45:09.0</td>\n",
       "      <td>28000.0</td>\n",
       "      <td>2.0</td>\n",
       "      <td>Bengaluru Dairy Circle</td>\n",
       "    </tr>\n",
       "    <tr>\n",
       "      <th>6</th>\n",
       "      <td>23067</td>\n",
       "      <td>77</td>\n",
       "      <td>22</td>\n",
       "      <td>Ananda Ashrama</td>\n",
       "      <td>2017-01-01 08:46:28.0</td>\n",
       "      <td>28000.0</td>\n",
       "      <td>2.0</td>\n",
       "      <td>Ananda Ashrama</td>\n",
       "    </tr>\n",
       "    <tr>\n",
       "      <th>3</th>\n",
       "      <td>23067</td>\n",
       "      <td>78</td>\n",
       "      <td>23</td>\n",
       "      <td>IBM Bannerughatta Road</td>\n",
       "      <td>None</td>\n",
       "      <td>NaN</td>\n",
       "      <td>NaN</td>\n",
       "      <td>None</td>\n",
       "    </tr>\n",
       "    <tr>\n",
       "      <th>20</th>\n",
       "      <td>23067</td>\n",
       "      <td>9108</td>\n",
       "      <td>24</td>\n",
       "      <td>Gurappanapalya</td>\n",
       "      <td>2017-01-01 08:47:39.0</td>\n",
       "      <td>28000.0</td>\n",
       "      <td>2.0</td>\n",
       "      <td>Gurappanapalya</td>\n",
       "    </tr>\n",
       "    <tr>\n",
       "      <th>7</th>\n",
       "      <td>23067</td>\n",
       "      <td>80</td>\n",
       "      <td>25</td>\n",
       "      <td>MICO Layout Checkpost Gopalan mall</td>\n",
       "      <td>2017-01-01 08:48:38.0</td>\n",
       "      <td>28000.0</td>\n",
       "      <td>2.0</td>\n",
       "      <td>MICO Layout Checkpost Gopalan mall</td>\n",
       "    </tr>\n",
       "    <tr>\n",
       "      <th>38</th>\n",
       "      <td>23067</td>\n",
       "      <td>81</td>\n",
       "      <td>26</td>\n",
       "      <td>JP Nagara 3rd Phase</td>\n",
       "      <td>2017-01-01 08:50:08.0</td>\n",
       "      <td>28000.0</td>\n",
       "      <td>2.0</td>\n",
       "      <td>JP Nagara 3rd Phase</td>\n",
       "    </tr>\n",
       "    <tr>\n",
       "      <th>19</th>\n",
       "      <td>23067</td>\n",
       "      <td>83</td>\n",
       "      <td>27</td>\n",
       "      <td>Bilekahalli</td>\n",
       "      <td>2017-01-01 08:51:47.0</td>\n",
       "      <td>28000.0</td>\n",
       "      <td>2.0</td>\n",
       "      <td>Bilekahalli</td>\n",
       "    </tr>\n",
       "    <tr>\n",
       "      <th>39</th>\n",
       "      <td>23067</td>\n",
       "      <td>84</td>\n",
       "      <td>28</td>\n",
       "      <td>IIM Apollo</td>\n",
       "      <td>2017-01-01 08:52:37.0</td>\n",
       "      <td>28000.0</td>\n",
       "      <td>2.0</td>\n",
       "      <td>IIM Apollo</td>\n",
       "    </tr>\n",
       "    <tr>\n",
       "      <th>28</th>\n",
       "      <td>23067</td>\n",
       "      <td>86</td>\n",
       "      <td>29</td>\n",
       "      <td>Arakere Gate</td>\n",
       "      <td>2017-01-01 08:53:47.0</td>\n",
       "      <td>28000.0</td>\n",
       "      <td>2.0</td>\n",
       "      <td>Arakere Gate</td>\n",
       "    </tr>\n",
       "    <tr>\n",
       "      <th>42</th>\n",
       "      <td>23067</td>\n",
       "      <td>87</td>\n",
       "      <td>30</td>\n",
       "      <td>BPL</td>\n",
       "      <td>2017-01-01 08:54:37.0</td>\n",
       "      <td>28000.0</td>\n",
       "      <td>2.0</td>\n",
       "      <td>BPL</td>\n",
       "    </tr>\n",
       "    <tr>\n",
       "      <th>11</th>\n",
       "      <td>23067</td>\n",
       "      <td>88</td>\n",
       "      <td>31</td>\n",
       "      <td>Hulimavu Gate</td>\n",
       "      <td>2017-01-01 08:55:47.0</td>\n",
       "      <td>28000.0</td>\n",
       "      <td>2.0</td>\n",
       "      <td>Hulimavu Gate</td>\n",
       "    </tr>\n",
       "    <tr>\n",
       "      <th>41</th>\n",
       "      <td>23067</td>\n",
       "      <td>89</td>\n",
       "      <td>32</td>\n",
       "      <td>Meenakshi Temple</td>\n",
       "      <td>2017-01-01 08:56:46.0</td>\n",
       "      <td>28000.0</td>\n",
       "      <td>2.0</td>\n",
       "      <td>Meenakshi Temple</td>\n",
       "    </tr>\n",
       "    <tr>\n",
       "      <th>14</th>\n",
       "      <td>23067</td>\n",
       "      <td>90</td>\n",
       "      <td>33</td>\n",
       "      <td>Loyola School</td>\n",
       "      <td>2017-01-01 08:57:36.0</td>\n",
       "      <td>28000.0</td>\n",
       "      <td>2.0</td>\n",
       "      <td>Loyola School</td>\n",
       "    </tr>\n",
       "    <tr>\n",
       "      <th>32</th>\n",
       "      <td>23067</td>\n",
       "      <td>91</td>\n",
       "      <td>34</td>\n",
       "      <td>Kalena Agrahara</td>\n",
       "      <td>2017-01-01 08:58:36.0</td>\n",
       "      <td>28000.0</td>\n",
       "      <td>2.0</td>\n",
       "      <td>Kalena Agrahara</td>\n",
       "    </tr>\n",
       "    <tr>\n",
       "      <th>47</th>\n",
       "      <td>23067</td>\n",
       "      <td>92</td>\n",
       "      <td>35</td>\n",
       "      <td>Himagiri</td>\n",
       "      <td>2017-01-01 08:59:25.0</td>\n",
       "      <td>28000.0</td>\n",
       "      <td>2.0</td>\n",
       "      <td>Himagiri</td>\n",
       "    </tr>\n",
       "    <tr>\n",
       "      <th>36</th>\n",
       "      <td>23067</td>\n",
       "      <td>93</td>\n",
       "      <td>36</td>\n",
       "      <td>Gottigere</td>\n",
       "      <td>2017-01-01 09:01:15.0</td>\n",
       "      <td>28000.0</td>\n",
       "      <td>2.0</td>\n",
       "      <td>Gottigere</td>\n",
       "    </tr>\n",
       "    <tr>\n",
       "      <th>8</th>\n",
       "      <td>23067</td>\n",
       "      <td>94</td>\n",
       "      <td>37</td>\n",
       "      <td>T John College</td>\n",
       "      <td>2017-01-01 09:02:55.0</td>\n",
       "      <td>28000.0</td>\n",
       "      <td>2.0</td>\n",
       "      <td>T John College</td>\n",
       "    </tr>\n",
       "    <tr>\n",
       "      <th>16</th>\n",
       "      <td>23067</td>\n",
       "      <td>95</td>\n",
       "      <td>38</td>\n",
       "      <td>Basavanapura Gate</td>\n",
       "      <td>2017-01-01 09:03:54.0</td>\n",
       "      <td>28000.0</td>\n",
       "      <td>2.0</td>\n",
       "      <td>Basavanapura Gate</td>\n",
       "    </tr>\n",
       "    <tr>\n",
       "      <th>26</th>\n",
       "      <td>23067</td>\n",
       "      <td>957</td>\n",
       "      <td>39</td>\n",
       "      <td>Koli Farm Gate</td>\n",
       "      <td>2017-01-01 09:04:44.0</td>\n",
       "      <td>28000.0</td>\n",
       "      <td>2.0</td>\n",
       "      <td>Koli Farm Gate</td>\n",
       "    </tr>\n",
       "    <tr>\n",
       "      <th>34</th>\n",
       "      <td>23067</td>\n",
       "      <td>97</td>\n",
       "      <td>40</td>\n",
       "      <td>Kalkere</td>\n",
       "      <td>2017-01-01 09:06:14.0</td>\n",
       "      <td>28000.0</td>\n",
       "      <td>2.0</td>\n",
       "      <td>Kalkere</td>\n",
       "    </tr>\n",
       "    <tr>\n",
       "      <th>9</th>\n",
       "      <td>23067</td>\n",
       "      <td>101</td>\n",
       "      <td>41</td>\n",
       "      <td>AMC College</td>\n",
       "      <td>2017-01-01 09:06:44.0</td>\n",
       "      <td>28000.0</td>\n",
       "      <td>2.0</td>\n",
       "      <td>AMC College</td>\n",
       "    </tr>\n",
       "    <tr>\n",
       "      <th>0</th>\n",
       "      <td>23067</td>\n",
       "      <td>1127</td>\n",
       "      <td>42</td>\n",
       "      <td>Sampangiram Nagara</td>\n",
       "      <td>None</td>\n",
       "      <td>NaN</td>\n",
       "      <td>NaN</td>\n",
       "      <td>None</td>\n",
       "    </tr>\n",
       "    <tr>\n",
       "      <th>21</th>\n",
       "      <td>23067</td>\n",
       "      <td>98</td>\n",
       "      <td>43</td>\n",
       "      <td>Ryan International School</td>\n",
       "      <td>2017-01-01 09:08:33.0</td>\n",
       "      <td>28000.0</td>\n",
       "      <td>2.0</td>\n",
       "      <td>Ryan International School</td>\n",
       "    </tr>\n",
       "    <tr>\n",
       "      <th>22</th>\n",
       "      <td>23067</td>\n",
       "      <td>1133</td>\n",
       "      <td>44</td>\n",
       "      <td>Vijaya Bank Bannerughatta</td>\n",
       "      <td>2017-01-01 09:09:33.0</td>\n",
       "      <td>28000.0</td>\n",
       "      <td>2.0</td>\n",
       "      <td>Vijaya Bank Bannerughatta</td>\n",
       "    </tr>\n",
       "    <tr>\n",
       "      <th>24</th>\n",
       "      <td>23067</td>\n",
       "      <td>9112</td>\n",
       "      <td>45</td>\n",
       "      <td>Bannerughatta Circle</td>\n",
       "      <td>2017-01-01 09:10:03.0</td>\n",
       "      <td>28000.0</td>\n",
       "      <td>2.0</td>\n",
       "      <td>Bannerughatta Circle</td>\n",
       "    </tr>\n",
       "    <tr>\n",
       "      <th>44</th>\n",
       "      <td>23067</td>\n",
       "      <td>3779</td>\n",
       "      <td>46</td>\n",
       "      <td>PrabasNagara</td>\n",
       "      <td>2017-01-01 09:11:13.0</td>\n",
       "      <td>28000.0</td>\n",
       "      <td>2.0</td>\n",
       "      <td>PrabasNagara</td>\n",
       "    </tr>\n",
       "    <tr>\n",
       "      <th>46</th>\n",
       "      <td>23067</td>\n",
       "      <td>3780</td>\n",
       "      <td>47</td>\n",
       "      <td>Sampigehalli</td>\n",
       "      <td>2017-01-01 09:12:02.0</td>\n",
       "      <td>28000.0</td>\n",
       "      <td>2.0</td>\n",
       "      <td>Sampigehalli</td>\n",
       "    </tr>\n",
       "    <tr>\n",
       "      <th>23</th>\n",
       "      <td>23067</td>\n",
       "      <td>9985</td>\n",
       "      <td>48</td>\n",
       "      <td>Bannerughatta National Park</td>\n",
       "      <td>2017-01-01 09:14:12.0</td>\n",
       "      <td>28000.0</td>\n",
       "      <td>2.0</td>\n",
       "      <td>Bannerughatta National Park</td>\n",
       "    </tr>\n",
       "  </tbody>\n",
       "</table>\n",
       "</div>"
      ],
      "text/plain": [
       "    route_id  bus_stop_id  route_order                        bus_stop_name  \\\n",
       "37     23067          160            1               Kempegowda Bus Station   \n",
       "25     23067         5841            2                        KBS Connector   \n",
       "31     23067           33            3                       KBS Connector2   \n",
       "43     23067         5840            4                       KBS connector3   \n",
       "30     23067         8455            5                  KBS Dummy Bus Stand   \n",
       "10     23067          124            6                    Maharanis College   \n",
       "45     23067           61            7                            KR Circle   \n",
       "33     23067          126            8                  St Marthas Hospital   \n",
       "15     23067          158            9                          Corporation   \n",
       "29     23067          159           10                      Subbaiah Circle   \n",
       "27     23067          353           11                              KH Road   \n",
       "4      23067         8579           12                       SNT Dummy Stop   \n",
       "35     23067         8206           13                        SNT Connector   \n",
       "13     23067         8207           14                   Shanthinagara TTMC   \n",
       "18     23067         8208           15                        SNT Connector   \n",
       "2      23067         8577           16                       SNT Dummy Stop   \n",
       "5      23067           65           17         Wilson Garden Police Station   \n",
       "1      23067           66           18            10th Cross Wilson Garden    \n",
       "40     23067           67           19                          Lakkasandra   \n",
       "17     23067          351           20                     Nimhans Hospital   \n",
       "12     23067           76           21               Bengaluru Dairy Circle   \n",
       "6      23067           77           22                       Ananda Ashrama   \n",
       "3      23067           78           23              IBM Bannerughatta Road    \n",
       "20     23067         9108           24                       Gurappanapalya   \n",
       "7      23067           80           25  MICO Layout Checkpost Gopalan mall    \n",
       "38     23067           81           26                  JP Nagara 3rd Phase   \n",
       "19     23067           83           27                          Bilekahalli   \n",
       "39     23067           84           28                          IIM Apollo    \n",
       "28     23067           86           29                         Arakere Gate   \n",
       "42     23067           87           30                                  BPL   \n",
       "11     23067           88           31                        Hulimavu Gate   \n",
       "41     23067           89           32                     Meenakshi Temple   \n",
       "14     23067           90           33                        Loyola School   \n",
       "32     23067           91           34                      Kalena Agrahara   \n",
       "47     23067           92           35                             Himagiri   \n",
       "36     23067           93           36                            Gottigere   \n",
       "8      23067           94           37                       T John College   \n",
       "16     23067           95           38                    Basavanapura Gate   \n",
       "26     23067          957           39                       Koli Farm Gate   \n",
       "34     23067           97           40                              Kalkere   \n",
       "9      23067          101           41                          AMC College   \n",
       "0      23067         1127           42                   Sampangiram Nagara   \n",
       "21     23067           98           43            Ryan International School   \n",
       "22     23067         1133           44           Vijaya Bank Bannerughatta    \n",
       "24     23067         9112           45                 Bannerughatta Circle   \n",
       "44     23067         3779           46                         PrabasNagara   \n",
       "46     23067         3780           47                         Sampigehalli   \n",
       "23     23067         9985           48          Bannerughatta National Park   \n",
       "\n",
       "                 ist_date  schedule_no  trip_number  \\\n",
       "37                   None          NaN          NaN   \n",
       "25                   None          NaN          NaN   \n",
       "31                   None          NaN          NaN   \n",
       "43  2017-01-01 08:25:24.0      28000.0          2.0   \n",
       "30  2017-01-01 08:25:14.0      28000.0          2.0   \n",
       "10  2017-01-01 08:29:02.0      28000.0          2.0   \n",
       "45  2017-01-01 08:30:23.0      28000.0          2.0   \n",
       "33                   None          NaN          NaN   \n",
       "15  2017-01-01 08:33:42.0      28000.0          2.0   \n",
       "29  2017-01-01 08:35:21.0      28000.0          2.0   \n",
       "27  2017-01-01 08:37:11.0      28000.0          2.0   \n",
       "4   2017-01-01 08:37:41.0      28000.0          2.0   \n",
       "35  2017-01-01 08:38:11.0      28000.0          2.0   \n",
       "13  2017-01-01 08:38:41.0      28000.0          2.0   \n",
       "18  2017-01-01 08:39:00.0      28000.0          2.0   \n",
       "2   2017-01-01 08:39:10.0      28000.0          2.0   \n",
       "5   2017-01-01 08:40:20.0      28000.0          2.0   \n",
       "1   2017-01-01 08:41:49.0      28000.0          2.0   \n",
       "40  2017-01-01 08:43:10.0      28000.0          2.0   \n",
       "17  2017-01-01 08:43:50.0      28000.0          2.0   \n",
       "12  2017-01-01 08:45:09.0      28000.0          2.0   \n",
       "6   2017-01-01 08:46:28.0      28000.0          2.0   \n",
       "3                    None          NaN          NaN   \n",
       "20  2017-01-01 08:47:39.0      28000.0          2.0   \n",
       "7   2017-01-01 08:48:38.0      28000.0          2.0   \n",
       "38  2017-01-01 08:50:08.0      28000.0          2.0   \n",
       "19  2017-01-01 08:51:47.0      28000.0          2.0   \n",
       "39  2017-01-01 08:52:37.0      28000.0          2.0   \n",
       "28  2017-01-01 08:53:47.0      28000.0          2.0   \n",
       "42  2017-01-01 08:54:37.0      28000.0          2.0   \n",
       "11  2017-01-01 08:55:47.0      28000.0          2.0   \n",
       "41  2017-01-01 08:56:46.0      28000.0          2.0   \n",
       "14  2017-01-01 08:57:36.0      28000.0          2.0   \n",
       "32  2017-01-01 08:58:36.0      28000.0          2.0   \n",
       "47  2017-01-01 08:59:25.0      28000.0          2.0   \n",
       "36  2017-01-01 09:01:15.0      28000.0          2.0   \n",
       "8   2017-01-01 09:02:55.0      28000.0          2.0   \n",
       "16  2017-01-01 09:03:54.0      28000.0          2.0   \n",
       "26  2017-01-01 09:04:44.0      28000.0          2.0   \n",
       "34  2017-01-01 09:06:14.0      28000.0          2.0   \n",
       "9   2017-01-01 09:06:44.0      28000.0          2.0   \n",
       "0                    None          NaN          NaN   \n",
       "21  2017-01-01 09:08:33.0      28000.0          2.0   \n",
       "22  2017-01-01 09:09:33.0      28000.0          2.0   \n",
       "24  2017-01-01 09:10:03.0      28000.0          2.0   \n",
       "44  2017-01-01 09:11:13.0      28000.0          2.0   \n",
       "46  2017-01-01 09:12:02.0      28000.0          2.0   \n",
       "23  2017-01-01 09:14:12.0      28000.0          2.0   \n",
       "\n",
       "                          bus_stop_name  \n",
       "37                                 None  \n",
       "25                                 None  \n",
       "31                                 None  \n",
       "43                       KBS connector3  \n",
       "30                  KBS Dummy Bus Stand  \n",
       "10                    Maharanis College  \n",
       "45                            KR Circle  \n",
       "33                                 None  \n",
       "15                          Corporation  \n",
       "29                      Subbaiah Circle  \n",
       "27                              KH Road  \n",
       "4                        SNT Dummy Stop  \n",
       "35                        SNT Connector  \n",
       "13                   Shanthinagara TTMC  \n",
       "18                        SNT Connector  \n",
       "2                        SNT Dummy Stop  \n",
       "5          Wilson Garden Police Station  \n",
       "1             10th Cross Wilson Garden   \n",
       "40                          Lakkasandra  \n",
       "17                     Nimhans Hospital  \n",
       "12               Bengaluru Dairy Circle  \n",
       "6                        Ananda Ashrama  \n",
       "3                                  None  \n",
       "20                       Gurappanapalya  \n",
       "7   MICO Layout Checkpost Gopalan mall   \n",
       "38                  JP Nagara 3rd Phase  \n",
       "19                          Bilekahalli  \n",
       "39                          IIM Apollo   \n",
       "28                         Arakere Gate  \n",
       "42                                  BPL  \n",
       "11                        Hulimavu Gate  \n",
       "41                     Meenakshi Temple  \n",
       "14                        Loyola School  \n",
       "32                      Kalena Agrahara  \n",
       "47                             Himagiri  \n",
       "36                            Gottigere  \n",
       "8                        T John College  \n",
       "16                    Basavanapura Gate  \n",
       "26                       Koli Farm Gate  \n",
       "34                              Kalkere  \n",
       "9                           AMC College  \n",
       "0                                  None  \n",
       "21            Ryan International School  \n",
       "22           Vijaya Bank Bannerughatta   \n",
       "24                 Bannerughatta Circle  \n",
       "44                         PrabasNagara  \n",
       "46                         Sampigehalli  \n",
       "23          Bannerughatta National Park  "
      ]
     },
     "execution_count": 451,
     "metadata": {},
     "output_type": "execute_result"
    }
   ],
   "source": [
    "temp_time_route_point_joined_pdf"
   ]
  },
  {
   "cell_type": "code",
   "execution_count": 454,
   "metadata": {
    "collapsed": true
   },
   "outputs": [],
   "source": [
    "temp_time_route_point_joined_pdf.route_order_previous = temp_time_route_point_joined_pdf.route_order.shift(-1)"
   ]
  },
  {
   "cell_type": "code",
   "execution_count": 455,
   "metadata": {
    "collapsed": false
   },
   "outputs": [
    {
     "data": {
      "text/html": [
       "<div>\n",
       "<table border=\"1\" class=\"dataframe\">\n",
       "  <thead>\n",
       "    <tr style=\"text-align: right;\">\n",
       "      <th></th>\n",
       "      <th>route_id</th>\n",
       "      <th>bus_stop_id</th>\n",
       "      <th>route_order</th>\n",
       "      <th>bus_stop_name</th>\n",
       "      <th>ist_date</th>\n",
       "      <th>schedule_no</th>\n",
       "      <th>trip_number</th>\n",
       "      <th>bus_stop_name</th>\n",
       "    </tr>\n",
       "  </thead>\n",
       "  <tbody>\n",
       "    <tr>\n",
       "      <th>37</th>\n",
       "      <td>23067</td>\n",
       "      <td>160</td>\n",
       "      <td>1</td>\n",
       "      <td>Kempegowda Bus Station</td>\n",
       "      <td>None</td>\n",
       "      <td>NaN</td>\n",
       "      <td>NaN</td>\n",
       "      <td>None</td>\n",
       "    </tr>\n",
       "    <tr>\n",
       "      <th>25</th>\n",
       "      <td>23067</td>\n",
       "      <td>5841</td>\n",
       "      <td>2</td>\n",
       "      <td>KBS Connector</td>\n",
       "      <td>None</td>\n",
       "      <td>NaN</td>\n",
       "      <td>NaN</td>\n",
       "      <td>None</td>\n",
       "    </tr>\n",
       "    <tr>\n",
       "      <th>31</th>\n",
       "      <td>23067</td>\n",
       "      <td>33</td>\n",
       "      <td>3</td>\n",
       "      <td>KBS Connector2</td>\n",
       "      <td>None</td>\n",
       "      <td>NaN</td>\n",
       "      <td>NaN</td>\n",
       "      <td>None</td>\n",
       "    </tr>\n",
       "    <tr>\n",
       "      <th>43</th>\n",
       "      <td>23067</td>\n",
       "      <td>5840</td>\n",
       "      <td>4</td>\n",
       "      <td>KBS connector3</td>\n",
       "      <td>2017-01-01 08:25:24.0</td>\n",
       "      <td>28000.0</td>\n",
       "      <td>2.0</td>\n",
       "      <td>KBS connector3</td>\n",
       "    </tr>\n",
       "    <tr>\n",
       "      <th>30</th>\n",
       "      <td>23067</td>\n",
       "      <td>8455</td>\n",
       "      <td>5</td>\n",
       "      <td>KBS Dummy Bus Stand</td>\n",
       "      <td>2017-01-01 08:25:14.0</td>\n",
       "      <td>28000.0</td>\n",
       "      <td>2.0</td>\n",
       "      <td>KBS Dummy Bus Stand</td>\n",
       "    </tr>\n",
       "    <tr>\n",
       "      <th>10</th>\n",
       "      <td>23067</td>\n",
       "      <td>124</td>\n",
       "      <td>6</td>\n",
       "      <td>Maharanis College</td>\n",
       "      <td>2017-01-01 08:29:02.0</td>\n",
       "      <td>28000.0</td>\n",
       "      <td>2.0</td>\n",
       "      <td>Maharanis College</td>\n",
       "    </tr>\n",
       "    <tr>\n",
       "      <th>45</th>\n",
       "      <td>23067</td>\n",
       "      <td>61</td>\n",
       "      <td>7</td>\n",
       "      <td>KR Circle</td>\n",
       "      <td>2017-01-01 08:30:23.0</td>\n",
       "      <td>28000.0</td>\n",
       "      <td>2.0</td>\n",
       "      <td>KR Circle</td>\n",
       "    </tr>\n",
       "    <tr>\n",
       "      <th>33</th>\n",
       "      <td>23067</td>\n",
       "      <td>126</td>\n",
       "      <td>8</td>\n",
       "      <td>St Marthas Hospital</td>\n",
       "      <td>None</td>\n",
       "      <td>NaN</td>\n",
       "      <td>NaN</td>\n",
       "      <td>None</td>\n",
       "    </tr>\n",
       "    <tr>\n",
       "      <th>15</th>\n",
       "      <td>23067</td>\n",
       "      <td>158</td>\n",
       "      <td>9</td>\n",
       "      <td>Corporation</td>\n",
       "      <td>2017-01-01 08:33:42.0</td>\n",
       "      <td>28000.0</td>\n",
       "      <td>2.0</td>\n",
       "      <td>Corporation</td>\n",
       "    </tr>\n",
       "    <tr>\n",
       "      <th>29</th>\n",
       "      <td>23067</td>\n",
       "      <td>159</td>\n",
       "      <td>10</td>\n",
       "      <td>Subbaiah Circle</td>\n",
       "      <td>2017-01-01 08:35:21.0</td>\n",
       "      <td>28000.0</td>\n",
       "      <td>2.0</td>\n",
       "      <td>Subbaiah Circle</td>\n",
       "    </tr>\n",
       "    <tr>\n",
       "      <th>27</th>\n",
       "      <td>23067</td>\n",
       "      <td>353</td>\n",
       "      <td>11</td>\n",
       "      <td>KH Road</td>\n",
       "      <td>2017-01-01 08:37:11.0</td>\n",
       "      <td>28000.0</td>\n",
       "      <td>2.0</td>\n",
       "      <td>KH Road</td>\n",
       "    </tr>\n",
       "    <tr>\n",
       "      <th>4</th>\n",
       "      <td>23067</td>\n",
       "      <td>8579</td>\n",
       "      <td>12</td>\n",
       "      <td>SNT Dummy Stop</td>\n",
       "      <td>2017-01-01 08:37:41.0</td>\n",
       "      <td>28000.0</td>\n",
       "      <td>2.0</td>\n",
       "      <td>SNT Dummy Stop</td>\n",
       "    </tr>\n",
       "    <tr>\n",
       "      <th>35</th>\n",
       "      <td>23067</td>\n",
       "      <td>8206</td>\n",
       "      <td>13</td>\n",
       "      <td>SNT Connector</td>\n",
       "      <td>2017-01-01 08:38:11.0</td>\n",
       "      <td>28000.0</td>\n",
       "      <td>2.0</td>\n",
       "      <td>SNT Connector</td>\n",
       "    </tr>\n",
       "    <tr>\n",
       "      <th>13</th>\n",
       "      <td>23067</td>\n",
       "      <td>8207</td>\n",
       "      <td>14</td>\n",
       "      <td>Shanthinagara TTMC</td>\n",
       "      <td>2017-01-01 08:38:41.0</td>\n",
       "      <td>28000.0</td>\n",
       "      <td>2.0</td>\n",
       "      <td>Shanthinagara TTMC</td>\n",
       "    </tr>\n",
       "    <tr>\n",
       "      <th>18</th>\n",
       "      <td>23067</td>\n",
       "      <td>8208</td>\n",
       "      <td>15</td>\n",
       "      <td>SNT Connector</td>\n",
       "      <td>2017-01-01 08:39:00.0</td>\n",
       "      <td>28000.0</td>\n",
       "      <td>2.0</td>\n",
       "      <td>SNT Connector</td>\n",
       "    </tr>\n",
       "    <tr>\n",
       "      <th>2</th>\n",
       "      <td>23067</td>\n",
       "      <td>8577</td>\n",
       "      <td>16</td>\n",
       "      <td>SNT Dummy Stop</td>\n",
       "      <td>2017-01-01 08:39:10.0</td>\n",
       "      <td>28000.0</td>\n",
       "      <td>2.0</td>\n",
       "      <td>SNT Dummy Stop</td>\n",
       "    </tr>\n",
       "    <tr>\n",
       "      <th>5</th>\n",
       "      <td>23067</td>\n",
       "      <td>65</td>\n",
       "      <td>17</td>\n",
       "      <td>Wilson Garden Police Station</td>\n",
       "      <td>2017-01-01 08:40:20.0</td>\n",
       "      <td>28000.0</td>\n",
       "      <td>2.0</td>\n",
       "      <td>Wilson Garden Police Station</td>\n",
       "    </tr>\n",
       "    <tr>\n",
       "      <th>1</th>\n",
       "      <td>23067</td>\n",
       "      <td>66</td>\n",
       "      <td>18</td>\n",
       "      <td>10th Cross Wilson Garden</td>\n",
       "      <td>2017-01-01 08:41:49.0</td>\n",
       "      <td>28000.0</td>\n",
       "      <td>2.0</td>\n",
       "      <td>10th Cross Wilson Garden</td>\n",
       "    </tr>\n",
       "    <tr>\n",
       "      <th>40</th>\n",
       "      <td>23067</td>\n",
       "      <td>67</td>\n",
       "      <td>19</td>\n",
       "      <td>Lakkasandra</td>\n",
       "      <td>2017-01-01 08:43:10.0</td>\n",
       "      <td>28000.0</td>\n",
       "      <td>2.0</td>\n",
       "      <td>Lakkasandra</td>\n",
       "    </tr>\n",
       "    <tr>\n",
       "      <th>17</th>\n",
       "      <td>23067</td>\n",
       "      <td>351</td>\n",
       "      <td>20</td>\n",
       "      <td>Nimhans Hospital</td>\n",
       "      <td>2017-01-01 08:43:50.0</td>\n",
       "      <td>28000.0</td>\n",
       "      <td>2.0</td>\n",
       "      <td>Nimhans Hospital</td>\n",
       "    </tr>\n",
       "    <tr>\n",
       "      <th>12</th>\n",
       "      <td>23067</td>\n",
       "      <td>76</td>\n",
       "      <td>21</td>\n",
       "      <td>Bengaluru Dairy Circle</td>\n",
       "      <td>2017-01-01 08:45:09.0</td>\n",
       "      <td>28000.0</td>\n",
       "      <td>2.0</td>\n",
       "      <td>Bengaluru Dairy Circle</td>\n",
       "    </tr>\n",
       "    <tr>\n",
       "      <th>6</th>\n",
       "      <td>23067</td>\n",
       "      <td>77</td>\n",
       "      <td>22</td>\n",
       "      <td>Ananda Ashrama</td>\n",
       "      <td>2017-01-01 08:46:28.0</td>\n",
       "      <td>28000.0</td>\n",
       "      <td>2.0</td>\n",
       "      <td>Ananda Ashrama</td>\n",
       "    </tr>\n",
       "    <tr>\n",
       "      <th>3</th>\n",
       "      <td>23067</td>\n",
       "      <td>78</td>\n",
       "      <td>23</td>\n",
       "      <td>IBM Bannerughatta Road</td>\n",
       "      <td>None</td>\n",
       "      <td>NaN</td>\n",
       "      <td>NaN</td>\n",
       "      <td>None</td>\n",
       "    </tr>\n",
       "    <tr>\n",
       "      <th>20</th>\n",
       "      <td>23067</td>\n",
       "      <td>9108</td>\n",
       "      <td>24</td>\n",
       "      <td>Gurappanapalya</td>\n",
       "      <td>2017-01-01 08:47:39.0</td>\n",
       "      <td>28000.0</td>\n",
       "      <td>2.0</td>\n",
       "      <td>Gurappanapalya</td>\n",
       "    </tr>\n",
       "    <tr>\n",
       "      <th>7</th>\n",
       "      <td>23067</td>\n",
       "      <td>80</td>\n",
       "      <td>25</td>\n",
       "      <td>MICO Layout Checkpost Gopalan mall</td>\n",
       "      <td>2017-01-01 08:48:38.0</td>\n",
       "      <td>28000.0</td>\n",
       "      <td>2.0</td>\n",
       "      <td>MICO Layout Checkpost Gopalan mall</td>\n",
       "    </tr>\n",
       "    <tr>\n",
       "      <th>38</th>\n",
       "      <td>23067</td>\n",
       "      <td>81</td>\n",
       "      <td>26</td>\n",
       "      <td>JP Nagara 3rd Phase</td>\n",
       "      <td>2017-01-01 08:50:08.0</td>\n",
       "      <td>28000.0</td>\n",
       "      <td>2.0</td>\n",
       "      <td>JP Nagara 3rd Phase</td>\n",
       "    </tr>\n",
       "    <tr>\n",
       "      <th>19</th>\n",
       "      <td>23067</td>\n",
       "      <td>83</td>\n",
       "      <td>27</td>\n",
       "      <td>Bilekahalli</td>\n",
       "      <td>2017-01-01 08:51:47.0</td>\n",
       "      <td>28000.0</td>\n",
       "      <td>2.0</td>\n",
       "      <td>Bilekahalli</td>\n",
       "    </tr>\n",
       "    <tr>\n",
       "      <th>39</th>\n",
       "      <td>23067</td>\n",
       "      <td>84</td>\n",
       "      <td>28</td>\n",
       "      <td>IIM Apollo</td>\n",
       "      <td>2017-01-01 08:52:37.0</td>\n",
       "      <td>28000.0</td>\n",
       "      <td>2.0</td>\n",
       "      <td>IIM Apollo</td>\n",
       "    </tr>\n",
       "    <tr>\n",
       "      <th>28</th>\n",
       "      <td>23067</td>\n",
       "      <td>86</td>\n",
       "      <td>29</td>\n",
       "      <td>Arakere Gate</td>\n",
       "      <td>2017-01-01 08:53:47.0</td>\n",
       "      <td>28000.0</td>\n",
       "      <td>2.0</td>\n",
       "      <td>Arakere Gate</td>\n",
       "    </tr>\n",
       "    <tr>\n",
       "      <th>42</th>\n",
       "      <td>23067</td>\n",
       "      <td>87</td>\n",
       "      <td>30</td>\n",
       "      <td>BPL</td>\n",
       "      <td>2017-01-01 08:54:37.0</td>\n",
       "      <td>28000.0</td>\n",
       "      <td>2.0</td>\n",
       "      <td>BPL</td>\n",
       "    </tr>\n",
       "    <tr>\n",
       "      <th>11</th>\n",
       "      <td>23067</td>\n",
       "      <td>88</td>\n",
       "      <td>31</td>\n",
       "      <td>Hulimavu Gate</td>\n",
       "      <td>2017-01-01 08:55:47.0</td>\n",
       "      <td>28000.0</td>\n",
       "      <td>2.0</td>\n",
       "      <td>Hulimavu Gate</td>\n",
       "    </tr>\n",
       "    <tr>\n",
       "      <th>41</th>\n",
       "      <td>23067</td>\n",
       "      <td>89</td>\n",
       "      <td>32</td>\n",
       "      <td>Meenakshi Temple</td>\n",
       "      <td>2017-01-01 08:56:46.0</td>\n",
       "      <td>28000.0</td>\n",
       "      <td>2.0</td>\n",
       "      <td>Meenakshi Temple</td>\n",
       "    </tr>\n",
       "    <tr>\n",
       "      <th>14</th>\n",
       "      <td>23067</td>\n",
       "      <td>90</td>\n",
       "      <td>33</td>\n",
       "      <td>Loyola School</td>\n",
       "      <td>2017-01-01 08:57:36.0</td>\n",
       "      <td>28000.0</td>\n",
       "      <td>2.0</td>\n",
       "      <td>Loyola School</td>\n",
       "    </tr>\n",
       "    <tr>\n",
       "      <th>32</th>\n",
       "      <td>23067</td>\n",
       "      <td>91</td>\n",
       "      <td>34</td>\n",
       "      <td>Kalena Agrahara</td>\n",
       "      <td>2017-01-01 08:58:36.0</td>\n",
       "      <td>28000.0</td>\n",
       "      <td>2.0</td>\n",
       "      <td>Kalena Agrahara</td>\n",
       "    </tr>\n",
       "    <tr>\n",
       "      <th>47</th>\n",
       "      <td>23067</td>\n",
       "      <td>92</td>\n",
       "      <td>35</td>\n",
       "      <td>Himagiri</td>\n",
       "      <td>2017-01-01 08:59:25.0</td>\n",
       "      <td>28000.0</td>\n",
       "      <td>2.0</td>\n",
       "      <td>Himagiri</td>\n",
       "    </tr>\n",
       "    <tr>\n",
       "      <th>36</th>\n",
       "      <td>23067</td>\n",
       "      <td>93</td>\n",
       "      <td>36</td>\n",
       "      <td>Gottigere</td>\n",
       "      <td>2017-01-01 09:01:15.0</td>\n",
       "      <td>28000.0</td>\n",
       "      <td>2.0</td>\n",
       "      <td>Gottigere</td>\n",
       "    </tr>\n",
       "    <tr>\n",
       "      <th>8</th>\n",
       "      <td>23067</td>\n",
       "      <td>94</td>\n",
       "      <td>37</td>\n",
       "      <td>T John College</td>\n",
       "      <td>2017-01-01 09:02:55.0</td>\n",
       "      <td>28000.0</td>\n",
       "      <td>2.0</td>\n",
       "      <td>T John College</td>\n",
       "    </tr>\n",
       "    <tr>\n",
       "      <th>16</th>\n",
       "      <td>23067</td>\n",
       "      <td>95</td>\n",
       "      <td>38</td>\n",
       "      <td>Basavanapura Gate</td>\n",
       "      <td>2017-01-01 09:03:54.0</td>\n",
       "      <td>28000.0</td>\n",
       "      <td>2.0</td>\n",
       "      <td>Basavanapura Gate</td>\n",
       "    </tr>\n",
       "    <tr>\n",
       "      <th>26</th>\n",
       "      <td>23067</td>\n",
       "      <td>957</td>\n",
       "      <td>39</td>\n",
       "      <td>Koli Farm Gate</td>\n",
       "      <td>2017-01-01 09:04:44.0</td>\n",
       "      <td>28000.0</td>\n",
       "      <td>2.0</td>\n",
       "      <td>Koli Farm Gate</td>\n",
       "    </tr>\n",
       "    <tr>\n",
       "      <th>34</th>\n",
       "      <td>23067</td>\n",
       "      <td>97</td>\n",
       "      <td>40</td>\n",
       "      <td>Kalkere</td>\n",
       "      <td>2017-01-01 09:06:14.0</td>\n",
       "      <td>28000.0</td>\n",
       "      <td>2.0</td>\n",
       "      <td>Kalkere</td>\n",
       "    </tr>\n",
       "    <tr>\n",
       "      <th>9</th>\n",
       "      <td>23067</td>\n",
       "      <td>101</td>\n",
       "      <td>41</td>\n",
       "      <td>AMC College</td>\n",
       "      <td>2017-01-01 09:06:44.0</td>\n",
       "      <td>28000.0</td>\n",
       "      <td>2.0</td>\n",
       "      <td>AMC College</td>\n",
       "    </tr>\n",
       "    <tr>\n",
       "      <th>0</th>\n",
       "      <td>23067</td>\n",
       "      <td>1127</td>\n",
       "      <td>42</td>\n",
       "      <td>Sampangiram Nagara</td>\n",
       "      <td>None</td>\n",
       "      <td>NaN</td>\n",
       "      <td>NaN</td>\n",
       "      <td>None</td>\n",
       "    </tr>\n",
       "    <tr>\n",
       "      <th>21</th>\n",
       "      <td>23067</td>\n",
       "      <td>98</td>\n",
       "      <td>43</td>\n",
       "      <td>Ryan International School</td>\n",
       "      <td>2017-01-01 09:08:33.0</td>\n",
       "      <td>28000.0</td>\n",
       "      <td>2.0</td>\n",
       "      <td>Ryan International School</td>\n",
       "    </tr>\n",
       "    <tr>\n",
       "      <th>22</th>\n",
       "      <td>23067</td>\n",
       "      <td>1133</td>\n",
       "      <td>44</td>\n",
       "      <td>Vijaya Bank Bannerughatta</td>\n",
       "      <td>2017-01-01 09:09:33.0</td>\n",
       "      <td>28000.0</td>\n",
       "      <td>2.0</td>\n",
       "      <td>Vijaya Bank Bannerughatta</td>\n",
       "    </tr>\n",
       "    <tr>\n",
       "      <th>24</th>\n",
       "      <td>23067</td>\n",
       "      <td>9112</td>\n",
       "      <td>45</td>\n",
       "      <td>Bannerughatta Circle</td>\n",
       "      <td>2017-01-01 09:10:03.0</td>\n",
       "      <td>28000.0</td>\n",
       "      <td>2.0</td>\n",
       "      <td>Bannerughatta Circle</td>\n",
       "    </tr>\n",
       "    <tr>\n",
       "      <th>44</th>\n",
       "      <td>23067</td>\n",
       "      <td>3779</td>\n",
       "      <td>46</td>\n",
       "      <td>PrabasNagara</td>\n",
       "      <td>2017-01-01 09:11:13.0</td>\n",
       "      <td>28000.0</td>\n",
       "      <td>2.0</td>\n",
       "      <td>PrabasNagara</td>\n",
       "    </tr>\n",
       "    <tr>\n",
       "      <th>46</th>\n",
       "      <td>23067</td>\n",
       "      <td>3780</td>\n",
       "      <td>47</td>\n",
       "      <td>Sampigehalli</td>\n",
       "      <td>2017-01-01 09:12:02.0</td>\n",
       "      <td>28000.0</td>\n",
       "      <td>2.0</td>\n",
       "      <td>Sampigehalli</td>\n",
       "    </tr>\n",
       "    <tr>\n",
       "      <th>23</th>\n",
       "      <td>23067</td>\n",
       "      <td>9985</td>\n",
       "      <td>48</td>\n",
       "      <td>Bannerughatta National Park</td>\n",
       "      <td>2017-01-01 09:14:12.0</td>\n",
       "      <td>28000.0</td>\n",
       "      <td>2.0</td>\n",
       "      <td>Bannerughatta National Park</td>\n",
       "    </tr>\n",
       "  </tbody>\n",
       "</table>\n",
       "</div>"
      ],
      "text/plain": [
       "    route_id  bus_stop_id  route_order                        bus_stop_name  \\\n",
       "37     23067          160            1               Kempegowda Bus Station   \n",
       "25     23067         5841            2                        KBS Connector   \n",
       "31     23067           33            3                       KBS Connector2   \n",
       "43     23067         5840            4                       KBS connector3   \n",
       "30     23067         8455            5                  KBS Dummy Bus Stand   \n",
       "10     23067          124            6                    Maharanis College   \n",
       "45     23067           61            7                            KR Circle   \n",
       "33     23067          126            8                  St Marthas Hospital   \n",
       "15     23067          158            9                          Corporation   \n",
       "29     23067          159           10                      Subbaiah Circle   \n",
       "27     23067          353           11                              KH Road   \n",
       "4      23067         8579           12                       SNT Dummy Stop   \n",
       "35     23067         8206           13                        SNT Connector   \n",
       "13     23067         8207           14                   Shanthinagara TTMC   \n",
       "18     23067         8208           15                        SNT Connector   \n",
       "2      23067         8577           16                       SNT Dummy Stop   \n",
       "5      23067           65           17         Wilson Garden Police Station   \n",
       "1      23067           66           18            10th Cross Wilson Garden    \n",
       "40     23067           67           19                          Lakkasandra   \n",
       "17     23067          351           20                     Nimhans Hospital   \n",
       "12     23067           76           21               Bengaluru Dairy Circle   \n",
       "6      23067           77           22                       Ananda Ashrama   \n",
       "3      23067           78           23              IBM Bannerughatta Road    \n",
       "20     23067         9108           24                       Gurappanapalya   \n",
       "7      23067           80           25  MICO Layout Checkpost Gopalan mall    \n",
       "38     23067           81           26                  JP Nagara 3rd Phase   \n",
       "19     23067           83           27                          Bilekahalli   \n",
       "39     23067           84           28                          IIM Apollo    \n",
       "28     23067           86           29                         Arakere Gate   \n",
       "42     23067           87           30                                  BPL   \n",
       "11     23067           88           31                        Hulimavu Gate   \n",
       "41     23067           89           32                     Meenakshi Temple   \n",
       "14     23067           90           33                        Loyola School   \n",
       "32     23067           91           34                      Kalena Agrahara   \n",
       "47     23067           92           35                             Himagiri   \n",
       "36     23067           93           36                            Gottigere   \n",
       "8      23067           94           37                       T John College   \n",
       "16     23067           95           38                    Basavanapura Gate   \n",
       "26     23067          957           39                       Koli Farm Gate   \n",
       "34     23067           97           40                              Kalkere   \n",
       "9      23067          101           41                          AMC College   \n",
       "0      23067         1127           42                   Sampangiram Nagara   \n",
       "21     23067           98           43            Ryan International School   \n",
       "22     23067         1133           44           Vijaya Bank Bannerughatta    \n",
       "24     23067         9112           45                 Bannerughatta Circle   \n",
       "44     23067         3779           46                         PrabasNagara   \n",
       "46     23067         3780           47                         Sampigehalli   \n",
       "23     23067         9985           48          Bannerughatta National Park   \n",
       "\n",
       "                 ist_date  schedule_no  trip_number  \\\n",
       "37                   None          NaN          NaN   \n",
       "25                   None          NaN          NaN   \n",
       "31                   None          NaN          NaN   \n",
       "43  2017-01-01 08:25:24.0      28000.0          2.0   \n",
       "30  2017-01-01 08:25:14.0      28000.0          2.0   \n",
       "10  2017-01-01 08:29:02.0      28000.0          2.0   \n",
       "45  2017-01-01 08:30:23.0      28000.0          2.0   \n",
       "33                   None          NaN          NaN   \n",
       "15  2017-01-01 08:33:42.0      28000.0          2.0   \n",
       "29  2017-01-01 08:35:21.0      28000.0          2.0   \n",
       "27  2017-01-01 08:37:11.0      28000.0          2.0   \n",
       "4   2017-01-01 08:37:41.0      28000.0          2.0   \n",
       "35  2017-01-01 08:38:11.0      28000.0          2.0   \n",
       "13  2017-01-01 08:38:41.0      28000.0          2.0   \n",
       "18  2017-01-01 08:39:00.0      28000.0          2.0   \n",
       "2   2017-01-01 08:39:10.0      28000.0          2.0   \n",
       "5   2017-01-01 08:40:20.0      28000.0          2.0   \n",
       "1   2017-01-01 08:41:49.0      28000.0          2.0   \n",
       "40  2017-01-01 08:43:10.0      28000.0          2.0   \n",
       "17  2017-01-01 08:43:50.0      28000.0          2.0   \n",
       "12  2017-01-01 08:45:09.0      28000.0          2.0   \n",
       "6   2017-01-01 08:46:28.0      28000.0          2.0   \n",
       "3                    None          NaN          NaN   \n",
       "20  2017-01-01 08:47:39.0      28000.0          2.0   \n",
       "7   2017-01-01 08:48:38.0      28000.0          2.0   \n",
       "38  2017-01-01 08:50:08.0      28000.0          2.0   \n",
       "19  2017-01-01 08:51:47.0      28000.0          2.0   \n",
       "39  2017-01-01 08:52:37.0      28000.0          2.0   \n",
       "28  2017-01-01 08:53:47.0      28000.0          2.0   \n",
       "42  2017-01-01 08:54:37.0      28000.0          2.0   \n",
       "11  2017-01-01 08:55:47.0      28000.0          2.0   \n",
       "41  2017-01-01 08:56:46.0      28000.0          2.0   \n",
       "14  2017-01-01 08:57:36.0      28000.0          2.0   \n",
       "32  2017-01-01 08:58:36.0      28000.0          2.0   \n",
       "47  2017-01-01 08:59:25.0      28000.0          2.0   \n",
       "36  2017-01-01 09:01:15.0      28000.0          2.0   \n",
       "8   2017-01-01 09:02:55.0      28000.0          2.0   \n",
       "16  2017-01-01 09:03:54.0      28000.0          2.0   \n",
       "26  2017-01-01 09:04:44.0      28000.0          2.0   \n",
       "34  2017-01-01 09:06:14.0      28000.0          2.0   \n",
       "9   2017-01-01 09:06:44.0      28000.0          2.0   \n",
       "0                    None          NaN          NaN   \n",
       "21  2017-01-01 09:08:33.0      28000.0          2.0   \n",
       "22  2017-01-01 09:09:33.0      28000.0          2.0   \n",
       "24  2017-01-01 09:10:03.0      28000.0          2.0   \n",
       "44  2017-01-01 09:11:13.0      28000.0          2.0   \n",
       "46  2017-01-01 09:12:02.0      28000.0          2.0   \n",
       "23  2017-01-01 09:14:12.0      28000.0          2.0   \n",
       "\n",
       "                          bus_stop_name  \n",
       "37                                 None  \n",
       "25                                 None  \n",
       "31                                 None  \n",
       "43                       KBS connector3  \n",
       "30                  KBS Dummy Bus Stand  \n",
       "10                    Maharanis College  \n",
       "45                            KR Circle  \n",
       "33                                 None  \n",
       "15                          Corporation  \n",
       "29                      Subbaiah Circle  \n",
       "27                              KH Road  \n",
       "4                        SNT Dummy Stop  \n",
       "35                        SNT Connector  \n",
       "13                   Shanthinagara TTMC  \n",
       "18                        SNT Connector  \n",
       "2                        SNT Dummy Stop  \n",
       "5          Wilson Garden Police Station  \n",
       "1             10th Cross Wilson Garden   \n",
       "40                          Lakkasandra  \n",
       "17                     Nimhans Hospital  \n",
       "12               Bengaluru Dairy Circle  \n",
       "6                        Ananda Ashrama  \n",
       "3                                  None  \n",
       "20                       Gurappanapalya  \n",
       "7   MICO Layout Checkpost Gopalan mall   \n",
       "38                  JP Nagara 3rd Phase  \n",
       "19                          Bilekahalli  \n",
       "39                          IIM Apollo   \n",
       "28                         Arakere Gate  \n",
       "42                                  BPL  \n",
       "11                        Hulimavu Gate  \n",
       "41                     Meenakshi Temple  \n",
       "14                        Loyola School  \n",
       "32                      Kalena Agrahara  \n",
       "47                             Himagiri  \n",
       "36                            Gottigere  \n",
       "8                        T John College  \n",
       "16                    Basavanapura Gate  \n",
       "26                       Koli Farm Gate  \n",
       "34                              Kalkere  \n",
       "9                           AMC College  \n",
       "0                                  None  \n",
       "21            Ryan International School  \n",
       "22           Vijaya Bank Bannerughatta   \n",
       "24                 Bannerughatta Circle  \n",
       "44                         PrabasNagara  \n",
       "46                         Sampigehalli  \n",
       "23          Bannerughatta National Park  "
      ]
     },
     "execution_count": 455,
     "metadata": {},
     "output_type": "execute_result"
    }
   ],
   "source": [
    "temp_time_route_point_joined_pdf"
   ]
  },
  {
   "cell_type": "code",
   "execution_count": 402,
   "metadata": {
    "collapsed": false
   },
   "outputs": [
    {
     "name": "stdout",
     "output_type": "stream",
     "text": [
      "+-----------+--------+-----------+--------------------+----------------+-----------------+\n",
      "|bus_stop_id|route_id|route_order|       bus_stop_name|latitude_current|longitude_current|\n",
      "+-----------+--------+-----------+--------------------+----------------+-----------------+\n",
      "|        160|   28788|          1|Kempegowda Bus St...|     12.97751447|      77.57178022|\n",
      "|       5841|   28788|          2|       KBS Connector|     12.97752049|      77.57099145|\n",
      "|         33|   28788|          3|      KBS Connector2|     12.97944962|      77.57116351|\n",
      "|       5840|   28788|          4|      KBS connector3|     12.97989895|      77.57139177|\n",
      "|       8455|   28788|          5| KBS Dummy Bus Stand|       12.980274|      77.57191479|\n",
      "|        124|   28788|          6|   Maharanis College|     12.97705906|      77.58594229|\n",
      "|         61|   28788|          7|           KR Circle|     12.97472667|         77.58691|\n",
      "|        126|   28788|          8| St Marthas Hospital|     12.96962529|      77.58719475|\n",
      "|        127|   28788|          9|         Corporation|     12.96828565|      77.58939829|\n",
      "|        157|   28788|         10|St Joseph Boys Hi...|     12.97037888|      77.59430906|\n",
      "|        854|   28788|         11|     Richmond Circle|     12.96748409|      77.59948571|\n",
      "|       6212|   28788|         12|   St Joseph College|     12.96986484|      77.60295331|\n",
      "|       9136|   28788|         13|            Mayohall|     12.97349535|      77.61048496|\n",
      "|       7433|   28788|         14|     Hosmat Hospital|     12.96879841|      77.61336029|\n",
      "|       6933|   28788|         15|Military Accounts...|     12.96698182|      77.62099385|\n",
      "|        132|   28788|         16|   Commando Hospital|     12.96370285|       77.6264945|\n",
      "|        155|   28788|         17|              Domlur|     12.96107247|      77.63810104|\n",
      "|       6757|   28788|         18|      Domlur Flyover|     12.96045504|      77.64361158|\n",
      "|          3|   28788|         19|           Kodihalli|     12.96004656|      77.64719738|\n",
      "|       4742|   28788|         20|NAL Manipal Hospi...|     12.95966435|      77.65057728|\n",
      "|       3041|   28788|         21|       Murugeshpalya|     12.95927468|      77.65797436|\n",
      "|       6912|   28788|         22|     Konena Agrahara|     12.95912327|      77.65955932|\n",
      "|       1484|   28788|         23|       HAL Main Gate|     12.95844606|      77.66603425|\n",
      "|        849|   28788|         24| Helicopter Division|     12.95580642|      77.67741628|\n",
      "|        149|   28788|         25|  HAL Police Station|     12.95458612|      77.68221743|\n",
      "|        147|   28788|         26|       Yamalur Cross|     12.95523694|      77.68817378|\n",
      "|       6946|   28788|         27|       Marathahalli |     12.95624144|      77.69383997|\n",
      "|       2589|   28788|         28| Marathahalli Bridge|     12.95695594|      77.70181791|\n",
      "|       2032|   28788|         29|   Munnekolalu Cross|     12.95639552|      77.70900393|\n",
      "|       2071|   28788|         30|   Kundalahalli Gate|      12.9568443|      77.71503285|\n",
      "|       2036|   28788|         31|        Kundalahalli|     12.95832429|      77.71559037|\n",
      "|       6908|   28788|         32|           BEML Gate|     12.96097783|      77.71652609|\n",
      "|       6930|   28788|         33|   AECS Layout Cross|     12.96521749|      77.71829903|\n",
      "|       2039|   28788|         34|       CMRIT College|     12.96759276|      77.71396807|\n",
      "|       2040|   28788|         35| Kundalahalli Colony|     12.97015766|      77.71246804|\n",
      "|       2041|   28788|         36|      Graphite India|     12.97819261|      77.71130868|\n",
      "|       6910|   28788|         37|            SAP Labs|     12.97778185|      77.71441787|\n",
      "|       2043|   28788|         38|              I Gate|     12.97734538|      77.71887146|\n",
      "|       2045|   28788|         39|                KTPO|     12.97698824|      77.72226917|\n",
      "|       2048|   28788|         40|White Field TTMC ...|     12.97658946|      77.72692723|\n",
      "|       2050|   28788|         41| Sathya Sai Hospital|      12.9824554|      77.72780105|\n",
      "|       7385|   28788|         42|    Big Bazzar  ITPL|     12.98822336|      77.73193404|\n",
      "|        403|   28788|         43|Pattandur Agrahar...|     12.98794716|      77.73380882|\n",
      "|       6915|   28788|         44|                ITPL|     12.98769279|      77.73739233|\n",
      "|       6916|   28788|         45|   GR Tech Park ITPL|     12.98661599|      77.74426014|\n",
      "|       6917|   28788|         46|                 BPL|     12.98530919|      77.74801791|\n",
      "|       2280|   28788|         47|           Hope Farm|     12.98326518|      77.75232229|\n",
      "|       6924|   28788|         48|Munish Singh Hosp...|     12.98057588|      77.75184274|\n",
      "|       6922|   28788|         49|Sai Baba General ...|     12.97389787|      77.75057405|\n",
      "|        140|   28788|         50|White Field Post ...|     12.96926404|      77.74996365|\n",
      "|       6926|   28788|         51|         Brooke Bond|     12.96421639|      77.74860263|\n",
      "|       6928|   28788|         52|          Forum Mall|     12.95969441|      77.74690479|\n",
      "|        141|   28788|         53|        Varthur Kodi|     12.95696911|      77.74539676|\n",
      "|        142|   28788|         54|    Ramagondanahalli|     12.95689538|      77.73969932|\n",
      "|        143|   28788|         55|           Siddapura|     12.95606013|      77.73072328|\n",
      "|        135|   28788|         56|        Thubarahalli|     12.95573591|      77.72035565|\n",
      "|        134|   28788|         57|   Kundalahalli Gate|     12.95585442|      77.71376455|\n",
      "|       2074|   28788|         58|   Munnekolalu Cross|     12.95629245|      77.70887399|\n",
      "|        146|   28788|         59| Marathahalli Bridge|     12.95693481|      77.70070592|\n",
      "|       1629|   28788|         60|        Marathahalli|     12.95609833|      77.69380013|\n",
      "|        148|   28788|         61|       Yamalur Cross|     12.95508381|      77.68799211|\n",
      "|       3039|   28788|         62|  HAL Police Station|     12.95446504|      77.68268519|\n",
      "|        847|   28788|         63| Helicopter Division|     12.95593447|      77.67664333|\n",
      "|        150|   28788|         64|       HAL Main Gate|     12.95840103|      77.66565285|\n",
      "|       6913|   28788|         65|     Konena Agrahara|     12.95900434|      77.65956134|\n",
      "|        152|   28788|         66|       Murugeshpalya|     12.95920774|      77.65622463|\n",
      "|        154|   28788|         67|NAL Manipal Hospi...|     12.95971832|      77.64938601|\n",
      "|        153|   28788|         68|           Kodihalli|      12.9599491|      77.64677806|\n",
      "|       6756|   28788|         69|      Domlur Flyover|     12.96066873|      77.64126733|\n",
      "|        156|   28788|         70|              Domlur|     12.96126036|      77.63614696|\n",
      "|       1493|   28788|         71|   Commando Hospital|     12.96265764|      77.62757386|\n",
      "|        846|   28788|         72|Military Accounts...|     12.96670184|      77.62079318|\n",
      "|       1632|   28788|         73|          Life Style|     12.96672149|      77.60945756|\n",
      "|       1534|   28788|         74|     Richmond Circle|     12.96565337|      77.60294226|\n",
      "|       6016|   28788|         75|Richmond Circle (...|     12.96477656|      77.59647575|\n",
      "|       8379|   28788|         76|     Pallavi Talkies|      12.9678313|      77.59084046|\n",
      "|        193|   28788|         77|         Corporation|     12.96841334|       77.5866793|\n",
      "|        195|   28788|         78|         Mysore Bank|     12.97267471|      77.58176117|\n",
      "|       8407|   28788|         79|  KBS Dummy Bus Stop|     12.97740047|      77.57420137|\n",
      "|       5849|   28788|         80|       KBS Connector|     12.97753944|      77.57407732|\n",
      "|       8456|   28788|         81|Kempegowda Bus St...|     12.97750611|      77.57291257|\n",
      "+-----------+--------+-----------+--------------------+----------------+-----------------+\n",
      "\n"
     ]
    }
   ],
   "source": [
    "route_point_joined_df.filter(col(\"route_id\") == 28788).show(90)"
   ]
  },
  {
   "cell_type": "code",
   "execution_count": 391,
   "metadata": {
    "collapsed": false
   },
   "outputs": [
    {
     "data": {
      "text/plain": [
       "DataFrame[]"
      ]
     },
     "execution_count": 391,
     "metadata": {},
     "output_type": "execute_result"
    },
    {
     "name": "stdout",
     "output_type": "stream",
     "text": [
      "+--------------------+-----------+\n",
      "|           tableName|isTemporary|\n",
      "+--------------------+-----------+\n",
      "|         vts_jan0517|      false|\n",
      "|waybill_trip_details|      false|\n",
      "| temp_vw_window_3_df|       true|\n",
      "+--------------------+-----------+\n",
      "\n"
     ]
    }
   ],
   "source": [
    "sqlContext.sql(\"use bmtcwaybill\")\n",
    "sqlContext.sql(\"show tables\").show()\n",
    "waybill_df = sqlContext.sql(\"select * from waybill_trip_details\")"
   ]
  },
  {
   "cell_type": "code",
   "execution_count": 397,
   "metadata": {
    "collapsed": false
   },
   "outputs": [
    {
     "name": "stdout",
     "output_type": "stream",
     "text": [
      "+-----------+-----------+--------------------------------------+------------------------------------+--------+\n",
      "|schedule_no|trip_number|start_bus_stop_name                   |end_bus_stop_name                   |route_id|\n",
      "+-----------+-----------+--------------------------------------+------------------------------------+--------+\n",
      "|28000      |1          |Depot-7                               |Kempegowda Bus Station              |13509   |\n",
      "|28000      |1          |Depot-07 Subhashnagara                |Kempegowda Bus Station              |13509   |\n",
      "|28000      |1          |Depot-07                              |Kempegowda Bus Station              |13509   |\n",
      "|28000      |2          |Kempegowda Bus Station                |Bannerghatta National Park(Arrival) |23067   |\n",
      "|28000      |2          |Kempegowda Bus Station                |Bannerughatta National Park         |23067   |\n",
      "|28000      |2          |Kempegowda Bus Station                |Bannerughatta National Park(Arrival)|23067   |\n",
      "|28000      |3          |Bannerughatta National Park           |Kempegowda Bus Station              |29518   |\n",
      "|28000      |3          |Bannerughatta National Park(Departure)|Kempegowda Bus Station              |29518   |\n",
      "|28000      |3          |Bannerghatta National Park(Departure) |Kempegowda Bus Station              |29518   |\n",
      "|28000      |4          |Kempegowda Bus Station                |Bannerghatta National Park(Arrival) |23067   |\n",
      "|28000      |4          |Kempegowda Bus Station                |Bannerughatta National Park         |23067   |\n",
      "|28000      |4          |Kempegowda Bus Station                |Bannerughatta National Park(Arrival)|23067   |\n",
      "|28000      |5          |Bannerughatta National Park(Departure)|Kempegowda Bus Station              |29518   |\n",
      "|28000      |5          |Bannerghatta National Park(Departure) |Kempegowda Bus Station              |29518   |\n",
      "|28000      |5          |Bannerughatta National Park           |Kempegowda Bus Station              |29518   |\n",
      "|28000      |6          |Kempegowda Bus Station                |Bannerghatta National Park(Arrival) |23067   |\n",
      "|28000      |6          |Kempegowda Bus Station                |Bannerughatta National Park(Arrival)|23067   |\n",
      "|28000      |6          |Kempegowda Bus Station                |Bannerughatta National Park         |23067   |\n",
      "|28000      |7          |Bannerghatta National Park(Departure) |Kempegowda Bus Station              |29518   |\n",
      "|28000      |7          |Bannerughatta National Park           |Kempegowda Bus Station              |29518   |\n",
      "|28000      |7          |Bannerughatta National Park(Departure)|Kempegowda Bus Station              |29518   |\n",
      "|28000      |8          |Kempegowda Bus Station                |Bannerughatta National Park         |23067   |\n",
      "|28000      |8          |Kempegowda Bus Station                |Bannerghatta National Park(Arrival) |23067   |\n",
      "|28000      |8          |Kempegowda Bus Station                |Bannerughatta National Park(Arrival)|23067   |\n",
      "|28000      |9          |Bannerughatta National Park           |Kempegowda Bus Station              |29518   |\n",
      "|28000      |9          |Bannerghatta National Park(Departure) |Kempegowda Bus Station              |29518   |\n",
      "|28000      |9          |Bannerughatta National Park(Departure)|Kempegowda Bus Station              |29518   |\n",
      "|28000      |10         |Kempegowda Bus Station                |Depot-7                             |13512   |\n",
      "|28000      |10         |Kempegowda Bus Station                |Depot-07 Subhashnagara              |13512   |\n",
      "|28000      |10         |Kempegowda Bus Station                |Depot-07                            |13512   |\n",
      "+-----------+-----------+--------------------------------------+------------------------------------+--------+\n",
      "\n"
     ]
    }
   ],
   "source": [
    "waybill_df.filter(col(\"schedule_no\") == 28000).select('schedule_no','trip_number',\\\n",
    "                                                             'start_bus_stop_name',\\\n",
    "                                                             'end_bus_stop_name',\\\n",
    "                                                             'route_id').distinct().orderBy('trip_number').show(50,truncate=False)"
   ]
  },
  {
   "cell_type": "code",
   "execution_count": null,
   "metadata": {
    "collapsed": true
   },
   "outputs": [],
   "source": []
  }
 ],
 "metadata": {
  "kernelspec": {
   "display_name": "Python 2",
   "language": "python",
   "name": "python2"
  },
  "language_info": {
   "codemirror_mode": {
    "name": "ipython",
    "version": 2
   },
   "file_extension": ".py",
   "mimetype": "text/x-python",
   "name": "python",
   "nbconvert_exporter": "python",
   "pygments_lexer": "ipython2",
   "version": "2.7.13"
  }
 },
 "nbformat": 4,
 "nbformat_minor": 2
}
