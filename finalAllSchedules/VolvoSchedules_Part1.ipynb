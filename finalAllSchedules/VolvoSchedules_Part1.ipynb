{
 "cells": [
  {
   "cell_type": "code",
   "execution_count": 1,
   "metadata": {
    "collapsed": false
   },
   "outputs": [
    {
     "data": {
      "text/plain": [
       "<pyspark.context.SparkContext at 0x7f0136633d90>"
      ]
     },
     "execution_count": 1,
     "metadata": {},
     "output_type": "execute_result"
    }
   ],
   "source": [
    "sc"
   ]
  },
  {
   "cell_type": "code",
   "execution_count": 2,
   "metadata": {
    "collapsed": false
   },
   "outputs": [
    {
     "data": {
      "text/plain": [
       "u'application_1522648856070_0850'"
      ]
     },
     "execution_count": 2,
     "metadata": {},
     "output_type": "execute_result"
    }
   ],
   "source": [
    "sc.applicationId"
   ]
  },
  {
   "cell_type": "markdown",
   "metadata": {},
   "source": [
    "## Required Libraries"
   ]
  },
  {
   "cell_type": "code",
   "execution_count": 3,
   "metadata": {
    "collapsed": true
   },
   "outputs": [],
   "source": [
    "import sys\n",
    "sys.path.append(\"/usr/lib/python2.7/site-packages\")\n",
    "\n",
    "import matplotlib.pyplot as plt\n",
    "import numpy as np\n",
    "import pandas as pd\n",
    "import datetime\n",
    "from pyspark.sql.functions import year, month, dayofmonth, hour\n",
    "from pyspark.sql.functions import col, asc, desc,log\n",
    "import pyspark.sql.functions as F\n",
    "\n",
    "from pyspark.sql.functions import broadcast"
   ]
  },
  {
   "cell_type": "code",
   "execution_count": 4,
   "metadata": {
    "collapsed": true
   },
   "outputs": [],
   "source": [
    "# For displaying multiple outputs\n",
    "from IPython.core.interactiveshell import InteractiveShell\n",
    "InteractiveShell.ast_node_interactivity = \"all\""
   ]
  },
  {
   "cell_type": "markdown",
   "metadata": {},
   "source": [
    "## Load bus tracking data for a month"
   ]
  },
  {
   "cell_type": "code",
   "execution_count": 5,
   "metadata": {
    "collapsed": false
   },
   "outputs": [
    {
     "data": {
      "text/plain": [
       "DataFrame[]"
      ]
     },
     "execution_count": 5,
     "metadata": {},
     "output_type": "execute_result"
    },
    {
     "name": "stdout",
     "output_type": "stream",
     "text": [
      "+--------------------+-----------+\n",
      "|           tableName|isTemporary|\n",
      "+--------------------+-----------+\n",
      "|parquet_route_bus...|      false|\n",
      "|parquet_route_bus...|      false|\n",
      "|parquet_vts_parse...|      false|\n",
      "|parquet_vts_parse...|      false|\n",
      "|parquet_vts_parse...|      false|\n",
      "|   vts_apr17_parquet|      false|\n",
      "|   vts_aug16_parquet|      false|\n",
      "|   vts_aug17_parquet|      false|\n",
      "|   vts_dec16_parquet|      false|\n",
      "|   vts_dec17_parquet|      false|\n",
      "|   vts_feb17_parquet|      false|\n",
      "|   vts_jan17_parquet|      false|\n",
      "|   vts_jul16_parquet|      false|\n",
      "|   vts_jul17_parquet|      false|\n",
      "|   vts_jun17_parquet|      false|\n",
      "|   vts_mar17_parquet|      false|\n",
      "|   vts_may17_parquet|      false|\n",
      "|   vts_nov16_parquet|      false|\n",
      "|   vts_nov17_parquet|      false|\n",
      "|   vts_oct16_parquet|      false|\n",
      "+--------------------+-----------+\n",
      "only showing top 20 rows\n",
      "\n"
     ]
    }
   ],
   "source": [
    "sqlContext.sql(\"use bmtcvts\")\n",
    "sqlContext.sql(\"show tables\").show()"
   ]
  },
  {
   "cell_type": "code",
   "execution_count": 6,
   "metadata": {
    "collapsed": false
   },
   "outputs": [
    {
     "data": {
      "text/plain": [
       "['vts_jan17_parquet',\n",
       " 'vts_feb17_parquet',\n",
       " 'vts_mar17_parquet',\n",
       " 'vts_apr17_parquet',\n",
       " 'vts_may17_parquet',\n",
       " 'vts_jun17_parquet',\n",
       " 'vts_jul17_parquet',\n",
       " 'vts_aug17_parquet',\n",
       " 'vts_sep17_parquet',\n",
       " 'vts_oct17_parquet',\n",
       " 'vts_nov17_parquet',\n",
       " 'vts_dec17_parquet']"
      ]
     },
     "execution_count": 6,
     "metadata": {},
     "output_type": "execute_result"
    }
   ],
   "source": [
    "# Laod the VTS data for the duration of jul16 - jun 17\n",
    "# We shall begin with data for only October 2017\n",
    "months = [\"jan17\", \"feb17\", \"mar17\", \"apr17\", \"may17\", \"jun17\",\n",
    "         \"jul17\", \"aug17\", \"sep17\", \"oct17\", \"nov17\", \"dec17\"]\n",
    "\n",
    "all_months = [\"vts_\" + mth + \"_parquet\" for mth in months]\n",
    "all_months\n",
    "\n",
    "vts_df = []\n",
    "for index in range(len(all_months)):\n",
    "    sql_query = \"select * from \" + all_months[index]\n",
    "    vts_df.append(sqlContext.sql(sql_query))"
   ]
  },
  {
   "cell_type": "code",
   "execution_count": 7,
   "metadata": {
    "collapsed": false
   },
   "outputs": [
    {
     "data": {
      "text/plain": [
       "12"
      ]
     },
     "execution_count": 7,
     "metadata": {},
     "output_type": "execute_result"
    },
    {
     "data": {
      "text/plain": [
       "list"
      ]
     },
     "execution_count": 7,
     "metadata": {},
     "output_type": "execute_result"
    },
    {
     "data": {
      "text/plain": [
       "pyspark.sql.dataframe.DataFrame"
      ]
     },
     "execution_count": 7,
     "metadata": {},
     "output_type": "execute_result"
    }
   ],
   "source": [
    "len(vts_df)\n",
    "type(vts_df)\n",
    "type(vts_df[0])"
   ]
  },
  {
   "cell_type": "code",
   "execution_count": 8,
   "metadata": {
    "collapsed": true
   },
   "outputs": [],
   "source": [
    "# Combine the data from all months into a single dataframe\n",
    "# Declare a counter to store the number of VTS rows\n",
    "# in each month\n",
    "counter = []\n",
    "\n",
    "# Append all of the data frames into a single DF, via union\n",
    "vts_main_df = vts_df[0]\n",
    "counter.append(vts_df[0].count())\n",
    "for index in range(len(vts_df)-1):\n",
    "    counter.append(vts_df[index+1].count())\n",
    "    vts_main_df = vts_main_df.union(vts_df[index+1])"
   ]
  },
  {
   "cell_type": "code",
   "execution_count": 9,
   "metadata": {
    "collapsed": false
   },
   "outputs": [
    {
     "data": {
      "text/plain": [
       "[1067855533,\n",
       " 976218546,\n",
       " 1080027417,\n",
       " 999717643,\n",
       " 1005573387,\n",
       " 984483441,\n",
       " 1012715056,\n",
       " 1034188924,\n",
       " 1025564723,\n",
       " 1016240615,\n",
       " 1023529365,\n",
       " 666380862]"
      ]
     },
     "execution_count": 9,
     "metadata": {},
     "output_type": "execute_result"
    }
   ],
   "source": [
    "counter"
   ]
  },
  {
   "cell_type": "code",
   "execution_count": 10,
   "metadata": {
    "collapsed": true
   },
   "outputs": [],
   "source": [
    "vts_main_filtered_df = vts_main_df.select(\"id\", col(\"device_id\").alias(\"VTS_device_id\"), \\\n",
    "                                          \"ign_status\", \"acc_distance\", \"ist_date\", \"lat\", \\\n",
    "                                          \"longitude\", \"vehicle_direction\")"
   ]
  },
  {
   "cell_type": "code",
   "execution_count": 11,
   "metadata": {
    "collapsed": false
   },
   "outputs": [
    {
     "name": "stdout",
     "output_type": "stream",
     "text": [
      "+-----------+-------------+----------+------------+--------------------+---------+---------+-----------------+\n",
      "|         id|VTS_device_id|ign_status|acc_distance|            ist_date|      lat|longitude|vehicle_direction|\n",
      "+-----------+-------------+----------+------------+--------------------+---------+---------+-----------------+\n",
      "|12132590050|    150814189|         1|    48644366|2017-01-01 02:09:...|13.100615|77.594879|            273.0|\n",
      "|12132590052|    150220564|         1|    48490776|2017-01-01 02:06:...|13.137562|77.479797|             84.0|\n",
      "+-----------+-------------+----------+------------+--------------------+---------+---------+-----------------+\n",
      "only showing top 2 rows\n",
      "\n"
     ]
    }
   ],
   "source": [
    "vts_main_filtered_df.show(2)"
   ]
  },
  {
   "cell_type": "code",
   "execution_count": 12,
   "metadata": {
    "collapsed": false
   },
   "outputs": [],
   "source": [
    "vts_main_nonzero_df = vts_main_filtered_df.filter((col(\"lat\") != 0.0) | (col(\"longitude\") != 0.0))"
   ]
  },
  {
   "cell_type": "code",
   "execution_count": 13,
   "metadata": {
    "collapsed": false
   },
   "outputs": [
    {
     "name": "stdout",
     "output_type": "stream",
     "text": [
      "+-----------+-------------+----------+------------+--------------------+---------+---------+-----------------+\n",
      "|         id|VTS_device_id|ign_status|acc_distance|            ist_date|      lat|longitude|vehicle_direction|\n",
      "+-----------+-------------+----------+------------+--------------------+---------+---------+-----------------+\n",
      "|12132590050|    150814189|         1|    48644366|2017-01-01 02:09:...|13.100615|77.594879|            273.0|\n",
      "|12132590052|    150220564|         1|    48490776|2017-01-01 02:06:...|13.137562|77.479797|             84.0|\n",
      "+-----------+-------------+----------+------------+--------------------+---------+---------+-----------------+\n",
      "only showing top 2 rows\n",
      "\n"
     ]
    },
    {
     "data": {
      "text/plain": [
       "11375513408"
      ]
     },
     "execution_count": 13,
     "metadata": {},
     "output_type": "execute_result"
    }
   ],
   "source": [
    "vts_main_nonzero_count = vts_main_nonzero_df.count()\n",
    "vts_main_nonzero_df.show(2)\n",
    "vts_main_nonzero_count"
   ]
  },
  {
   "cell_type": "markdown",
   "metadata": {},
   "source": [
    "## Load static data"
   ]
  },
  {
   "cell_type": "code",
   "execution_count": 14,
   "metadata": {
    "collapsed": false
   },
   "outputs": [
    {
     "data": {
      "text/plain": [
       "DataFrame[]"
      ]
     },
     "execution_count": 14,
     "metadata": {},
     "output_type": "execute_result"
    }
   ],
   "source": [
    "sqlContext.sql(\"use bmtc\")\n",
    "\n",
    "# Get the route map\n",
    "route_map_df = sqlContext.sql(\"select route_id,start_bus_stop_id,end_bus_stop_id,\\\n",
    "                                      distance,time_to_travel,bus_stop_order,status \\\n",
    "                               from route_map\")\n",
    "\n",
    "# Get the route_point\n",
    "route_point_df = sqlContext.sql(\"select route_id, route_order, bus_stop_id from route_point\")\n",
    "\n",
    "bus_stop_df = sqlContext.sql(\"select bus_stop_id,bus_stop_name,latitude_current,longitude_current from bus_stop\")\n",
    "\n",
    "# Drop corrupted locations\n",
    "bus_stop_df = bus_stop_df.na.drop(subset=[\"latitude_current\"])\n",
    "bus_stop_df = bus_stop_df.na.drop(subset=[\"longitude_current\"])\n",
    "\n",
    "# Join the bus stop ID with lat,long\n",
    "route_point_joined_df = route_point_df.join(bus_stop_df,\\\n",
    "                                            [\"bus_stop_id\"],\\\n",
    "                                            \"left_outer\")\n",
    "\n",
    "form_four_df = sqlContext.sql(\"select form_four_id,form_four_name,schedule_number_id,\\\n",
    "                                      schedule_number_name,no_of_trips,start_time,\\\n",
    "                                      route_id,route_number,toll_zone,\\\n",
    "                                      area_limit,total_km,total_dead_km,\\\n",
    "                                      actual_km,total_running_time,total_break_time,\\\n",
    "                                      total_steering_time,spread_over_hours,ot_hours \\\n",
    "                               from form_four\")\n",
    "\n",
    "schedule_df = sqlContext.sql('select * from schedule')\n",
    "\n",
    "schedule_df = schedule_df.select(\"schedule_id\",\"schedule_number\",\"depot_id\",\"route_id\",\"schedule_type\")\n",
    "\n",
    "schedule_details_df = sqlContext.sql('select * from schedule_details')\n",
    "\n",
    "schedule_details_df = schedule_details_df.select(\"schedule_details_id\",\"form_four_id\",\"schedule_number\",\"number_of_trips\",\\\n",
    "                           \"trip_number\",\"trip_type\",\"start_point\",\"end_point\",\"route_number_id\",\\\n",
    "                           \"route_number\",\"route_direction\",\"distance\",\"start_time\",\"end_time\",\\\n",
    "                           \"running_time\",\"break_type_id\",\"shift_type_id\",\"is_dread_trip\")"
   ]
  },
  {
   "cell_type": "code",
   "execution_count": 15,
   "metadata": {
    "collapsed": false
   },
   "outputs": [
    {
     "data": {
      "text/plain": [
       "DataFrame[]"
      ]
     },
     "execution_count": 15,
     "metadata": {},
     "output_type": "execute_result"
    }
   ],
   "source": [
    "sqlContext.sql(\"use bmtcwaybill\")\n",
    "\n",
    "# Get the waybill details, and clean it\n",
    "waybill_trip_details_df = sqlContext.sql(\"select * from waybill_trip_details\")\n",
    "\n",
    "waybill_trip_details_df = waybill_trip_details_df.select(\"id\",\"waybill_id\",\"duty_dt\",\n",
    "                                                         col(\"device_id\").alias(\"WB_device_id\"),\n",
    "                                          \"schedule_type_id\",\"schedule_no\",\"schedule_name\",\"service_type\",\n",
    "                                          \"service_name\",\"trip_number\",\"start_point\",\"start_bus_stop_name\",\n",
    "                                          \"end_point\",\"end_bus_stop_name\",\"route_id\",\"route_no\",\"distance\",\n",
    "                                          \"start_time\",\"act_start_time\",\"etm_start_time\",\"end_time\",\"act_end_time\",\n",
    "                                          \"etm_end_time\",\"running_time\",\"is_dread_trip\")"
   ]
  },
  {
   "cell_type": "code",
   "execution_count": 16,
   "metadata": {
    "collapsed": true
   },
   "outputs": [],
   "source": [
    "# Filter waybill for the the Year 2017\n",
    "waybill_trip_details_filtered_df = waybill_trip_details_df.filter(year(waybill_trip_details_df.duty_dt) == 2017)"
   ]
  },
  {
   "cell_type": "markdown",
   "metadata": {},
   "source": [
    "## Filter rows for Volvo services only"
   ]
  },
  {
   "cell_type": "code",
   "execution_count": 17,
   "metadata": {
    "collapsed": false
   },
   "outputs": [
    {
     "data": {
      "text/plain": [
       "2708934"
      ]
     },
     "execution_count": 17,
     "metadata": {},
     "output_type": "execute_result"
    }
   ],
   "source": [
    "volvo_waybill_df = waybill_trip_details_filtered_df.filter(col(\"schedule_name\").like(\"V%\"))\n",
    "volvo_waybill_count = volvo_waybill_df.count()\n",
    "volvo_waybill_count"
   ]
  },
  {
   "cell_type": "code",
   "execution_count": 18,
   "metadata": {
    "collapsed": false
   },
   "outputs": [
    {
     "data": {
      "text/plain": [
       "1269"
      ]
     },
     "execution_count": 18,
     "metadata": {},
     "output_type": "execute_result"
    }
   ],
   "source": [
    "volvo_device_id_list = volvo_waybill_df.select(\"WB_device_id\").rdd.map(lambda x: x[0]).distinct().collect()\n",
    "volvo_device_id_count = len(volvo_device_id_list)\n",
    "volvo_device_id_count"
   ]
  },
  {
   "cell_type": "markdown",
   "metadata": {},
   "source": [
    "## Filter VTS data for Volvo services"
   ]
  },
  {
   "cell_type": "code",
   "execution_count": 19,
   "metadata": {
    "collapsed": false
   },
   "outputs": [
    {
     "name": "stdout",
     "output_type": "stream",
     "text": [
      "+-----------+-------------+----------+------------+--------------------+---------+---------+-----------------+\n",
      "|         id|VTS_device_id|ign_status|acc_distance|            ist_date|      lat|longitude|vehicle_direction|\n",
      "+-----------+-------------+----------+------------+--------------------+---------+---------+-----------------+\n",
      "|12132590056|    150220781|         0|    39713995|2017-01-01 02:09:...|12.999368|77.675102|            255.0|\n",
      "|12132590069|    150221435|         0|    44149312|2017-01-01 02:09:...|13.004257|77.692299|            188.0|\n",
      "|12132590072|    150221408|         0|    47214336|2017-01-01 02:09:...|12.977072| 77.72702|            118.0|\n",
      "+-----------+-------------+----------+------------+--------------------+---------+---------+-----------------+\n",
      "only showing top 3 rows\n",
      "\n"
     ]
    },
    {
     "data": {
      "text/plain": [
       "1576992211"
      ]
     },
     "execution_count": 19,
     "metadata": {},
     "output_type": "execute_result"
    }
   ],
   "source": [
    "vts_volvo_df = vts_main_nonzero_df.where(col(\"VTS_device_id\").isin(volvo_device_id_list))\n",
    "vts_volvo_df.show(3)\n",
    "vts_volvo_count = vts_volvo_df.count()\n",
    "vts_volvo_count"
   ]
  },
  {
   "cell_type": "markdown",
   "metadata": {},
   "source": [
    "## Implementing grid approach for Volvo services only"
   ]
  },
  {
   "cell_type": "code",
   "execution_count": 20,
   "metadata": {
    "collapsed": false
   },
   "outputs": [
    {
     "name": "stdout",
     "output_type": "stream",
     "text": [
      "+-----------+--------+-----------+--------------------+----------------+-----------------+\n",
      "|bus_stop_id|route_id|route_order|       bus_stop_name|latitude_current|longitude_current|\n",
      "+-----------+--------+-----------+--------------------+----------------+-----------------+\n",
      "|        160|     809|          1|Kempegowda Bus St...|     12.97751447|      77.57178022|\n",
      "|       5841|     809|          2|       KBS Connector|     12.97752049|      77.57099145|\n",
      "+-----------+--------+-----------+--------------------+----------------+-----------------+\n",
      "only showing top 2 rows\n",
      "\n",
      "+-----------+-----------------+----------------+-----------------+\n",
      "|bus_stop_id|    bus_stop_name|latitude_current|longitude_current|\n",
      "+-----------+-----------------+----------------+-----------------+\n",
      "|          3|        Kodihalli|     12.96004656|      77.64719738|\n",
      "|          4|Vijayanagara TTMC|     12.96572391|      77.53510224|\n",
      "+-----------+-----------------+----------------+-----------------+\n",
      "only showing top 2 rows\n",
      "\n"
     ]
    }
   ],
   "source": [
    "route_point_joined_df.show(2)\n",
    "bus_stop_df.show(2)"
   ]
  },
  {
   "cell_type": "code",
   "execution_count": 21,
   "metadata": {
    "collapsed": false
   },
   "outputs": [
    {
     "data": {
      "text/plain": [
       "11818"
      ]
     },
     "execution_count": 21,
     "metadata": {},
     "output_type": "execute_result"
    }
   ],
   "source": [
    "bus_stop_count = bus_stop_df.count()\n",
    "bus_stop_count"
   ]
  },
  {
   "cell_type": "code",
   "execution_count": 22,
   "metadata": {
    "collapsed": false
   },
   "outputs": [
    {
     "name": "stdout",
     "output_type": "stream",
     "text": [
      "+----------------+-----------------+\n",
      "|latitude_current|longitude_current|\n",
      "+----------------+-----------------+\n",
      "|     12.97582743|      77.60564176|\n",
      "|     12.91186255|      77.62604769|\n",
      "+----------------+-----------------+\n",
      "only showing top 2 rows\n",
      "\n"
     ]
    },
    {
     "data": {
      "text/plain": [
       "11797"
      ]
     },
     "execution_count": 22,
     "metadata": {},
     "output_type": "execute_result"
    }
   ],
   "source": [
    "bus_stop_distinct_df = bus_stop_df.select(\"latitude_current\",\"longitude_current\").distinct()\n",
    "bus_stop_distinct_df.show(2)\n",
    "bus_stop_distinct_count = bus_stop_distinct_df.count()\n",
    "bus_stop_distinct_count"
   ]
  },
  {
   "cell_type": "code",
   "execution_count": 23,
   "metadata": {
    "collapsed": false
   },
   "outputs": [],
   "source": [
    "bus_stop_truncated_df = bus_stop_distinct_df.withColumn(\"lat_trunc\", F.round(\"latitude_current\",3)) \n",
    "bus_stop_truncated_df = bus_stop_truncated_df.withColumn(\"long_trunc\", F.round(\"longitude_current\",3)) "
   ]
  },
  {
   "cell_type": "code",
   "execution_count": 24,
   "metadata": {
    "collapsed": false
   },
   "outputs": [
    {
     "name": "stdout",
     "output_type": "stream",
     "text": [
      "+----------------+-----------------+---------+----------+\n",
      "|latitude_current|longitude_current|lat_trunc|long_trunc|\n",
      "+----------------+-----------------+---------+----------+\n",
      "|     12.84306239|       77.7275245|   12.843|    77.728|\n",
      "|     13.23076315|      77.55015835|   13.231|     77.55|\n",
      "+----------------+-----------------+---------+----------+\n",
      "only showing top 2 rows\n",
      "\n"
     ]
    }
   ],
   "source": [
    "bus_stop_truncated_df.show(2)"
   ]
  },
  {
   "cell_type": "code",
   "execution_count": 25,
   "metadata": {
    "collapsed": false
   },
   "outputs": [
    {
     "data": {
      "text/plain": [
       "6722"
      ]
     },
     "execution_count": 25,
     "metadata": {},
     "output_type": "execute_result"
    }
   ],
   "source": [
    "bus_stop_truncated_distinct_df = bus_stop_truncated_df.select(\"lat_trunc\",\"long_trunc\").distinct()\n",
    "bus_stop_truncated_distinct_count = bus_stop_truncated_distinct_df.count()\n",
    "bus_stop_truncated_distinct_count"
   ]
  },
  {
   "cell_type": "markdown",
   "metadata": {},
   "source": [
    "## Create a \"fence\" around each bus stop so that extreme truncated values are accommodated"
   ]
  },
  {
   "cell_type": "code",
   "execution_count": 26,
   "metadata": {
    "collapsed": true
   },
   "outputs": [],
   "source": [
    "bus_stop_augmented_df = bus_stop_truncated_distinct_df.withColumn(\"lat_neg_extended\",\n",
    "                                                                  F.round(bus_stop_truncated_distinct_df.lat_trunc - 0.0007, 4))\n",
    "bus_stop_augmented_df = bus_stop_augmented_df.withColumn(\"lat_pos_extended\",\n",
    "                                                         F.round(bus_stop_augmented_df.lat_trunc + 0.0007,4))\n",
    "bus_stop_augmented_df = bus_stop_augmented_df.withColumn(\"long_neg_extended\",\n",
    "                                                         F.round(bus_stop_augmented_df.long_trunc - 0.0007, 4))\n",
    "bus_stop_augmented_df = bus_stop_augmented_df.withColumn(\"long_pos_extended\",\n",
    "                                                         F.round(bus_stop_augmented_df.long_trunc + 0.0007, 4))"
   ]
  },
  {
   "cell_type": "code",
   "execution_count": 27,
   "metadata": {
    "collapsed": false
   },
   "outputs": [
    {
     "name": "stdout",
     "output_type": "stream",
     "text": [
      "+---------+----------+----------------+----------------+-----------------+-----------------+\n",
      "|lat_trunc|long_trunc|lat_neg_extended|lat_pos_extended|long_neg_extended|long_pos_extended|\n",
      "+---------+----------+----------------+----------------+-----------------+-----------------+\n",
      "|   13.095|      77.5|         13.0943|         13.0957|          77.4993|          77.5007|\n",
      "|   12.983|    77.589|         12.9823|         12.9837|          77.5883|          77.5897|\n",
      "+---------+----------+----------------+----------------+-----------------+-----------------+\n",
      "only showing top 2 rows\n",
      "\n"
     ]
    }
   ],
   "source": [
    "bus_stop_augmented_df.show(2)"
   ]
  },
  {
   "cell_type": "code",
   "execution_count": 28,
   "metadata": {
    "collapsed": false
   },
   "outputs": [
    {
     "data": {
      "text/plain": [
       "6722"
      ]
     },
     "execution_count": 28,
     "metadata": {},
     "output_type": "execute_result"
    }
   ],
   "source": [
    "bus_stop_augmented_select_df = bus_stop_augmented_df.select(\"lat_neg_extended\",\"lat_pos_extended\",\n",
    "                                                            \"long_neg_extended\",\"long_pos_extended\")\n",
    "bus_stop_augmented_select_count = bus_stop_augmented_select_df.count()\n",
    "bus_stop_augmented_select_count"
   ]
  },
  {
   "cell_type": "markdown",
   "metadata": {},
   "source": [
    "##  Keep those rows of VTS which fall within the grid around the bus stop"
   ]
  },
  {
   "cell_type": "code",
   "execution_count": 29,
   "metadata": {
    "collapsed": false
   },
   "outputs": [],
   "source": [
    "# Define the joining condition\n",
    "join_condition = [vts_volvo_df.lat >= bus_stop_augmented_select_df.lat_neg_extended,\n",
    "                  vts_volvo_df.lat <= bus_stop_augmented_select_df.lat_pos_extended,\n",
    "                  vts_volvo_df.longitude >= bus_stop_augmented_select_df.long_neg_extended,\n",
    "                  vts_volvo_df.longitude <= bus_stop_augmented_select_df.long_pos_extended]"
   ]
  },
  {
   "cell_type": "code",
   "execution_count": 30,
   "metadata": {
    "collapsed": true
   },
   "outputs": [],
   "source": [
    "vts_bus_stop_joined_df = vts_volvo_df.join(broadcast(bus_stop_augmented_select_df), join_condition, \"inner\")"
   ]
  },
  {
   "cell_type": "code",
   "execution_count": 31,
   "metadata": {
    "collapsed": false
   },
   "outputs": [
    {
     "name": "stdout",
     "output_type": "stream",
     "text": [
      "+-----------+-------------+----------+------------+--------------------+---------+---------+-----------------+----------------+----------------+-----------------+-----------------+\n",
      "|         id|VTS_device_id|ign_status|acc_distance|            ist_date|      lat|longitude|vehicle_direction|lat_neg_extended|lat_pos_extended|long_neg_extended|long_pos_extended|\n",
      "+-----------+-------------+----------+------------+--------------------+---------+---------+-----------------+----------------+----------------+-----------------+-----------------+\n",
      "|12132590069|    150221435|         0|    44149312|2017-01-01 02:09:...|13.004257|77.692299|            188.0|         13.0033|         13.0047|          77.6913|          77.6927|\n",
      "|12132590072|    150221408|         0|    47214336|2017-01-01 02:09:...|12.977072| 77.72702|            118.0|         12.9763|         12.9777|          77.7263|          77.7277|\n",
      "+-----------+-------------+----------+------------+--------------------+---------+---------+-----------------+----------------+----------------+-----------------+-----------------+\n",
      "only showing top 2 rows\n",
      "\n"
     ]
    }
   ],
   "source": [
    "vts_bus_stop_joined_df.show(2)"
   ]
  },
  {
   "cell_type": "code",
   "execution_count": 32,
   "metadata": {
    "collapsed": false
   },
   "outputs": [],
   "source": [
    "# Since a bus can be closer to be multiple bus stops, hence joining operation inflates the entries in the VTS data. \n",
    "vts_bus_stop_joined_distinct_df = vts_bus_stop_joined_df.select(\"id\", \"VTS_device_id\", \n",
    "                                                                \"ist_date\",\"lat\",\"longitude\").distinct()"
   ]
  },
  {
   "cell_type": "code",
   "execution_count": 33,
   "metadata": {
    "collapsed": false
   },
   "outputs": [],
   "source": [
    "# vts_bus_stop_joined_distinct_count = vts_bus_stop_joined_distinct_df.count()\n",
    "# vts_bus_stop_joined_distinct_count"
   ]
  },
  {
   "cell_type": "code",
   "execution_count": null,
   "metadata": {
    "collapsed": false
   },
   "outputs": [
    {
     "data": {
      "text/plain": [
       "DataFrame[]"
      ]
     },
     "execution_count": 34,
     "metadata": {},
     "output_type": "execute_result"
    }
   ],
   "source": [
    "sqlContext.sql(\"use bmtc_eta_default\")"
   ]
  },
  {
   "cell_type": "code",
   "execution_count": null,
   "metadata": {
    "collapsed": false
   },
   "outputs": [],
   "source": [
    "# Instead of creating a persistent table using saveAsTable, make temp table and dump it as a hive table\n",
    "vts_bus_stop_joined_distinct_df.createOrReplaceTempView(\"temp_vts_bus_stop_joined_distinct_df\") \n",
    "sqlContext.sql(\"create table vts_volvo_2017 as select * from temp_vts_bus_stop_joined_distinct_df\")"
   ]
  },
  {
   "cell_type": "code",
   "execution_count": 37,
   "metadata": {
    "collapsed": false
   },
   "outputs": [
    {
     "name": "stdout",
     "output_type": "stream",
     "text": [
      "+--------------------+-----------+\n",
      "|           tableName|isTemporary|\n",
      "+--------------------+-----------+\n",
      "|            vts_365r|      false|\n",
      "|   vts_365r_distance|      false|\n",
      "| vts_365r_distance_1|      false|\n",
      "|   vts_365r_filtered|      false|\n",
      "|         vts_jun2017|      false|\n",
      "|      vts_volvo_2017|      false|\n",
      "|   vts_volvo_oct2017|      false|\n",
      "|temp_vts_bus_stop...|       true|\n",
      "+--------------------+-----------+\n",
      "\n"
     ]
    }
   ],
   "source": [
    "# SUCCESS!\n",
    "sqlContext.sql(\"show tables\").show()"
   ]
  },
  {
   "cell_type": "code",
   "execution_count": 38,
   "metadata": {
    "collapsed": false
   },
   "outputs": [
    {
     "name": "stdout",
     "output_type": "stream",
     "text": [
      "+---------+\n",
      "| count(1)|\n",
      "+---------+\n",
      "|956091019|\n",
      "+---------+\n",
      "\n"
     ]
    }
   ],
   "source": [
    "sqlContext.sql(\"select count(*) from vts_volvo_2017\").show()"
   ]
  },
  {
   "cell_type": "code",
   "execution_count": null,
   "metadata": {
    "collapsed": true
   },
   "outputs": [],
   "source": []
  }
 ],
 "metadata": {
  "kernelspec": {
   "display_name": "Python 2",
   "language": "python",
   "name": "python2"
  },
  "language_info": {
   "codemirror_mode": {
    "name": "ipython",
    "version": 2
   },
   "file_extension": ".py",
   "mimetype": "text/x-python",
   "name": "python",
   "nbconvert_exporter": "python",
   "pygments_lexer": "ipython2",
   "version": "2.7.13"
  }
 },
 "nbformat": 4,
 "nbformat_minor": 2
}
