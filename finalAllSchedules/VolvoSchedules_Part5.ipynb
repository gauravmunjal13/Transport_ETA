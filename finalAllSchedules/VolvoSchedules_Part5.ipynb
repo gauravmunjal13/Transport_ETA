{
 "cells": [
  {
   "cell_type": "code",
   "execution_count": 1,
   "metadata": {
    "collapsed": false
   },
   "outputs": [
    {
     "data": {
      "text/plain": [
       "<pyspark.context.SparkContext at 0x7f2c157e4d90>"
      ]
     },
     "execution_count": 1,
     "metadata": {},
     "output_type": "execute_result"
    }
   ],
   "source": [
    "sc"
   ]
  },
  {
   "cell_type": "code",
   "execution_count": 2,
   "metadata": {
    "collapsed": false
   },
   "outputs": [
    {
     "data": {
      "text/plain": [
       "u'application_1529929920393_0075'"
      ]
     },
     "execution_count": 2,
     "metadata": {},
     "output_type": "execute_result"
    }
   ],
   "source": [
    "sc.applicationId"
   ]
  },
  {
   "cell_type": "code",
   "execution_count": 3,
   "metadata": {
    "collapsed": true
   },
   "outputs": [],
   "source": [
    "import sys\n",
    "sys.path.append(\"/usr/lib/python2.7/site-packages\")\n",
    "\n",
    "import matplotlib.pyplot as plt\n",
    "import numpy as np\n",
    "import pandas as pd\n",
    "from datetime import datetime\n",
    "from pyspark.sql.functions import year, month, dayofmonth, isnan, hour, format_number\n",
    "from pyspark.sql.functions import col, unix_timestamp,abs, log, from_unixtime, avg\n",
    "from pyspark.sql.functions import count, sum, desc, date_format, lit, concat, udf\n",
    "from pyspark.sql import functions as F\n",
    "from pyspark.sql import Window"
   ]
  },
  {
   "cell_type": "code",
   "execution_count": 4,
   "metadata": {
    "collapsed": true
   },
   "outputs": [],
   "source": [
    "# For displaying multiple outputs\n",
    "from IPython.core.interactiveshell import InteractiveShell\n",
    "InteractiveShell.ast_node_interactivity = \"all\""
   ]
  },
  {
   "cell_type": "code",
   "execution_count": 5,
   "metadata": {
    "collapsed": false
   },
   "outputs": [
    {
     "data": {
      "text/plain": [
       "DataFrame[]"
      ]
     },
     "execution_count": 5,
     "metadata": {},
     "output_type": "execute_result"
    },
    {
     "data": {
      "text/plain": [
       "['vts_full_bus_stops_jan17',\n",
       " 'vts_full_bus_stops_feb17',\n",
       " 'vts_full_bus_stops_mar17',\n",
       " 'vts_full_bus_stops_apr17']"
      ]
     },
     "execution_count": 5,
     "metadata": {},
     "output_type": "execute_result"
    }
   ],
   "source": [
    "sqlContext.sql(\"use bmtc_eta_default\")\n",
    "months = [\"jan17\", \"feb17\", \"mar17\", \"apr17\"]\n",
    "\n",
    "# Full bus stops are frames filled with actual information\n",
    "# plus null where data is unavailable\n",
    "all_months = [\"vts_full_bus_stops_\" + mth for mth in months]\n",
    "all_months\n",
    "\n",
    "vts_df = []\n",
    "for index in range(len(all_months)):\n",
    "    sql_query = \"select * from \" + all_months[index]\n",
    "    vts_df.append(sqlContext.sql(sql_query))"
   ]
  },
  {
   "cell_type": "code",
   "execution_count": 6,
   "metadata": {
    "collapsed": true
   },
   "outputs": [],
   "source": [
    "# Combine the data from all months into a single dataframe\n",
    "# Declare a counter to store the number of VTS rows\n",
    "# in each month\n",
    "counter = []\n",
    "\n",
    "# Append all of the data frames into a single DF, via union\n",
    "vts_main_df = vts_df[0]\n",
    "counter.append(vts_df[0].count())\n",
    "for index in range(len(vts_df)-1):\n",
    "    counter.append(vts_df[index+1].count())\n",
    "    vts_main_df = vts_main_df.union(vts_df[index+1])"
   ]
  },
  {
   "cell_type": "code",
   "execution_count": 7,
   "metadata": {
    "collapsed": false
   },
   "outputs": [
    {
     "data": {
      "text/plain": [
       "[3694562, 3262450, 3428942, 2972514]"
      ]
     },
     "execution_count": 7,
     "metadata": {},
     "output_type": "execute_result"
    }
   ],
   "source": [
    "counter"
   ]
  },
  {
   "cell_type": "code",
   "execution_count": 8,
   "metadata": {
    "collapsed": false
   },
   "outputs": [
    {
     "data": {
      "text/plain": [
       "13358468"
      ]
     },
     "execution_count": 8,
     "metadata": {},
     "output_type": "execute_result"
    }
   ],
   "source": [
    "vts_main_count = vts_main_df.count()\n",
    "vts_main_count"
   ]
  },
  {
   "cell_type": "code",
   "execution_count": 9,
   "metadata": {
    "collapsed": false
   },
   "outputs": [
    {
     "name": "stdout",
     "output_type": "stream",
     "text": [
      "+----------+-------------+-----------+--------+-----------+----------+--------+-----------+-----------+--------------+-----------+--------------------+---------+---------+----------+------------------+------------+--------+--------------------+--------------------+----------------+-----------------+----+--------+----------+------------+\n",
      "|   duty_dt|vts_device_id|schedule_no|route_id|trip_number|start_time|end_time|route_order|bus_stop_id| bus_stop_name|         id|            ist_date|      lat|longitude| ist_epoch|     schedule_name|service_type|route_no|      etm_start_time|        etm_end_time|latitude_current|longitude_current|dist|min_dist|  min_time|lagged_epoch|\n",
      "+----------+-------------+-----------+--------+-----------+----------+--------+-----------+-----------+--------------+-----------+--------------------+---------+---------+----------+------------------+------------+--------+--------------------+--------------------+----------------+-----------------+----+--------+----------+------------+\n",
      "|2017-01-01|    150813196|      15703|   24423|          8|  17:30:00|19:00:00|          1|       5927|Hebbala Bridge|12154264327|2017-01-01 17:35:...|13.042824|77.591507|1483272330|V-500D/24-All Days|           3| V-500DX|2017-01-01 17:40:...|2017-01-01 18:49:...|     13.04283873|      77.59134806|17.0|    17.0|1483272330|        null|\n",
      "+----------+-------------+-----------+--------+-----------+----------+--------+-----------+-----------+--------------+-----------+--------------------+---------+---------+----------+------------------+------------+--------+--------------------+--------------------+----------------+-----------------+----+--------+----------+------------+\n",
      "only showing top 1 row\n",
      "\n"
     ]
    }
   ],
   "source": [
    "vts_main_df.filter(col(\"trip_number\") > 5).show(1)"
   ]
  },
  {
   "cell_type": "markdown",
   "metadata": {},
   "source": [
    "## Feature Extraction"
   ]
  },
  {
   "cell_type": "markdown",
   "metadata": {},
   "source": [
    "### 1) Day of week"
   ]
  },
  {
   "cell_type": "code",
   "execution_count": 10,
   "metadata": {
    "collapsed": false
   },
   "outputs": [],
   "source": [
    "weekDay =  udf(lambda x: datetime.strptime(x, '%Y-%m-%d').strftime('%w'))\n",
    "\n",
    "vts_featured_df = vts_main_df\n",
    "vts_featured_df = vts_featured_df.withColumn('day_of_week', weekDay(vts_featured_df['duty_dt']))"
   ]
  },
  {
   "cell_type": "code",
   "execution_count": 11,
   "metadata": {
    "collapsed": false
   },
   "outputs": [
    {
     "name": "stdout",
     "output_type": "stream",
     "text": [
      "+----------+-------------+-----------+--------+-----------+----------+--------+-----------+-----------+--------------------+-----------+--------------------+---------+---------+----------+-----------------+------------+---------+--------------------+--------------------+----------------+-----------------+----+--------+----------+------------+-----------+\n",
      "|   duty_dt|vts_device_id|schedule_no|route_id|trip_number|start_time|end_time|route_order|bus_stop_id|       bus_stop_name|         id|            ist_date|      lat|longitude| ist_epoch|    schedule_name|service_type| route_no|      etm_start_time|        etm_end_time|latitude_current|longitude_current|dist|min_dist|  min_time|lagged_epoch|day_of_week|\n",
      "+----------+-------------+-----------+--------+-----------+----------+--------+-----------+-----------+--------------------+-----------+--------------------+---------+---------+----------+-----------------+------------+---------+--------------------+--------------------+----------------+-----------------+----+--------+----------+------------+-----------+\n",
      "|2017-01-01|    150218124|      28017|   13701|          1|  16:45:00|16:47:00|          1|       1558|Depot-13 Kattriguppe|12152935384|2017-01-01 16:49:...|12.924691|77.554169|1483269575|V-365/16-All Days|           3|D13-D13BS|2017-01-01 16:54:...|2017-01-01 16:59:...|     12.92481917|      77.55425426|17.0|    17.0|1483269575|        null|          0|\n",
      "|2017-01-01|    150218124|      28017|   13701|          1|  16:45:00|16:47:00|          2|      11418|  Depot-13 Connector|       null|                null|     null|     null|      null|             null|        null|     null|                null|                null|            null|             null|null|    null|      null|  1483269575|          0|\n",
      "+----------+-------------+-----------+--------+-----------+----------+--------+-----------+-----------+--------------------+-----------+--------------------+---------+---------+----------+-----------------+------------+---------+--------------------+--------------------+----------------+-----------------+----+--------+----------+------------+-----------+\n",
      "only showing top 2 rows\n",
      "\n"
     ]
    }
   ],
   "source": [
    "vts_featured_df.show(2)"
   ]
  },
  {
   "cell_type": "markdown",
   "metadata": {},
   "source": [
    "### 2) Distance between bus stops"
   ]
  },
  {
   "cell_type": "code",
   "execution_count": 12,
   "metadata": {
    "collapsed": false
   },
   "outputs": [
    {
     "data": {
      "text/plain": [
       "DataFrame[]"
      ]
     },
     "execution_count": 12,
     "metadata": {},
     "output_type": "execute_result"
    }
   ],
   "source": [
    "sqlContext.sql(\"use bmtc\")\n",
    "\n",
    "# Get the route map\n",
    "route_map_df = sqlContext.sql(\"select route_id,start_bus_stop_id,end_bus_stop_id,\\\n",
    "                                      distance,time_to_travel, bus_stop_order from route_map\")"
   ]
  },
  {
   "cell_type": "code",
   "execution_count": 13,
   "metadata": {
    "collapsed": false
   },
   "outputs": [
    {
     "name": "stdout",
     "output_type": "stream",
     "text": [
      "+--------+-----------------+---------------+--------+--------------+--------------+\n",
      "|route_id|start_bus_stop_id|end_bus_stop_id|distance|time_to_travel|bus_stop_order|\n",
      "+--------+-----------------+---------------+--------+--------------+--------------+\n",
      "|   19776|             4310|           4970|     855|            80|             1|\n",
      "|   19776|             4970|           5365|    1485|           113|             2|\n",
      "|   19776|             5365|            214|    1569|           171|             3|\n",
      "|   19776|              214|            215|     365|            42|             4|\n",
      "|   19776|              215|            216|     656|            47|             5|\n",
      "|   19776|              216|            217|     527|            36|             6|\n",
      "|   19776|              217|           5309|     372|            45|             7|\n",
      "|   19776|             5309|            218|     365|            66|             8|\n",
      "|   19776|              218|            219|    1006|           113|             9|\n",
      "|   19776|              219|           2254|    1193|           156|            10|\n",
      "|   19776|             2254|            192|    1654|           221|            11|\n",
      "|   19776|              192|           5010|     883|           180|            12|\n",
      "|   19776|             5010|          11570|    1319|           285|            13|\n",
      "|   19776|            11570|           8456|     785|           272|            14|\n",
      "+--------+-----------------+---------------+--------+--------------+--------------+\n",
      "\n"
     ]
    }
   ],
   "source": [
    "route_map_df.filter(col(\"route_id\") == 19776).show(50)"
   ]
  },
  {
   "cell_type": "code",
   "execution_count": 14,
   "metadata": {
    "collapsed": false
   },
   "outputs": [],
   "source": [
    "route_map_df = route_map_df.withColumnRenamed(\"end_bus_stop_id\", \"bus_stop_id\")\n",
    "route_map_df = route_map_df.withColumnRenamed(\"time_to_travel\", \"google_time_to_travel\")\n",
    "route_map_df = route_map_df.drop(col(\"start_bus_stop_id\"))\n",
    "route_map_df = route_map_df.drop(col(\"bus_stop_order\"))"
   ]
  },
  {
   "cell_type": "code",
   "execution_count": 15,
   "metadata": {
    "collapsed": false
   },
   "outputs": [
    {
     "name": "stdout",
     "output_type": "stream",
     "text": [
      "+--------+-----------+--------+---------------------+\n",
      "|route_id|bus_stop_id|distance|google_time_to_travel|\n",
      "+--------+-----------+--------+---------------------+\n",
      "|     809|       5841|     140|                   10|\n",
      "|     809|         33|     200|                   14|\n",
      "+--------+-----------+--------+---------------------+\n",
      "only showing top 2 rows\n",
      "\n"
     ]
    }
   ],
   "source": [
    "route_map_df.show(2)"
   ]
  },
  {
   "cell_type": "code",
   "execution_count": 16,
   "metadata": {
    "collapsed": false
   },
   "outputs": [
    {
     "data": {
      "text/plain": [
       "13358484"
      ]
     },
     "execution_count": 16,
     "metadata": {},
     "output_type": "execute_result"
    }
   ],
   "source": [
    "# Adding \"distance\" from route_map_df to reach the current bus stop from the previous one\n",
    "vts_featured_1_df = vts_featured_df.join(route_map_df,\n",
    "                                        [\"route_id\", \"bus_stop_id\"],\n",
    "                                        \"left_outer\")\n",
    "vts_featured_1_count = vts_featured_1_df.count()\n",
    "vts_featured_1_count"
   ]
  },
  {
   "cell_type": "code",
   "execution_count": 17,
   "metadata": {
    "collapsed": false
   },
   "outputs": [
    {
     "name": "stdout",
     "output_type": "stream",
     "text": [
      "+--------+-----------+----------+-------------+-----------+-----------+----------+--------+-----------+---------------+----+--------+----+---------+---------+-------------+------------+--------+--------------+------------+----------------+-----------------+----+--------+--------+------------+-----------+--------+---------------------+\n",
      "|route_id|bus_stop_id|   duty_dt|vts_device_id|schedule_no|trip_number|start_time|end_time|route_order|  bus_stop_name|  id|ist_date| lat|longitude|ist_epoch|schedule_name|service_type|route_no|etm_start_time|etm_end_time|latitude_current|longitude_current|dist|min_dist|min_time|lagged_epoch|day_of_week|distance|google_time_to_travel|\n",
      "+--------+-----------+----------+-------------+-----------+-----------+----------+--------+-----------+---------------+----+--------+----+---------+---------+-------------+------------+--------+--------------+------------+----------------+-----------------+----+--------+--------+------------+-----------+--------+---------------------+\n",
      "|    7114|        887|2017-01-15|    150813947|      23132|          2|  05:40:00|06:25:00|         29|Gangamma Circle|null|    null|null|     null|     null|         null|        null|    null|          null|        null|            null|             null|null|    null|    null|        null|          0|     605|                   69|\n",
      "+--------+-----------+----------+-------------+-----------+-----------+----------+--------+-----------+---------------+----+--------+----+---------+---------+-------------+------------+--------+--------------+------------+----------------+-----------------+----+--------+--------+------------+-----------+--------+---------------------+\n",
      "only showing top 1 row\n",
      "\n"
     ]
    }
   ],
   "source": [
    "vts_featured_1_df.show(1)"
   ]
  },
  {
   "cell_type": "code",
   "execution_count": 18,
   "metadata": {
    "collapsed": false
   },
   "outputs": [
    {
     "name": "stdout",
     "output_type": "stream",
     "text": [
      "+--------+\n",
      "|route_id|\n",
      "+--------+\n",
      "|   19776|\n",
      "+--------+\n",
      "\n"
     ]
    }
   ],
   "source": [
    "# This is an anomaly - perhaps due to the fact that the route_map table has had a new entry??\n",
    "vts_featured_1_df.filter((col(\"distance\").isNull()) & (col(\"route_order\") != 1)).select(\"route_id\").distinct().show()"
   ]
  },
  {
   "cell_type": "markdown",
   "metadata": {},
   "source": [
    "### 3) Time taken to travel to a bus stop from the previous one"
   ]
  },
  {
   "cell_type": "code",
   "execution_count": 19,
   "metadata": {
    "collapsed": true
   },
   "outputs": [],
   "source": [
    "vts_featured_2_df = vts_featured_1_df.withColumn(\"time_from_prev_stop\", \n",
    "                                                 vts_featured_1_df[\"ist_epoch\"] - vts_featured_1_df[\"lagged_epoch\"])"
   ]
  },
  {
   "cell_type": "code",
   "execution_count": 20,
   "metadata": {
    "collapsed": false
   },
   "outputs": [
    {
     "name": "stdout",
     "output_type": "stream",
     "text": [
      "+--------+-----------+----------+-------------+-----------+-----------+----------+--------+-----------+---------------+----+--------+----+---------+---------+-------------+------------+--------+--------------+------------+----------------+-----------------+----+--------+--------+------------+-----------+--------+---------------------+-------------------+\n",
      "|route_id|bus_stop_id|   duty_dt|vts_device_id|schedule_no|trip_number|start_time|end_time|route_order|  bus_stop_name|  id|ist_date| lat|longitude|ist_epoch|schedule_name|service_type|route_no|etm_start_time|etm_end_time|latitude_current|longitude_current|dist|min_dist|min_time|lagged_epoch|day_of_week|distance|google_time_to_travel|time_from_prev_stop|\n",
      "+--------+-----------+----------+-------------+-----------+-----------+----------+--------+-----------+---------------+----+--------+----+---------+---------+-------------+------------+--------+--------------+------------+----------------+-----------------+----+--------+--------+------------+-----------+--------+---------------------+-------------------+\n",
      "|    7114|        887|2017-01-15|    150813947|      23132|          2|  05:40:00|06:25:00|         29|Gangamma Circle|null|    null|null|     null|     null|         null|        null|    null|          null|        null|            null|             null|null|    null|    null|        null|          0|     605|                   69|               null|\n",
      "|    7114|        887|2017-04-06|    150813947|      24387|          2|  05:40:00|06:25:00|         29|Gangamma Circle|null|    null|null|     null|     null|         null|        null|    null|          null|        null|            null|             null|null|    null|    null|        null|          4|     605|                   69|               null|\n",
      "+--------+-----------+----------+-------------+-----------+-----------+----------+--------+-----------+---------------+----+--------+----+---------+---------+-------------+------------+--------+--------------+------------+----------------+-----------------+----+--------+--------+------------+-----------+--------+---------------------+-------------------+\n",
      "only showing top 2 rows\n",
      "\n"
     ]
    }
   ],
   "source": [
    "vts_featured_2_df.show(2)"
   ]
  },
  {
   "cell_type": "code",
   "execution_count": 21,
   "metadata": {
    "collapsed": false
   },
   "outputs": [
    {
     "data": {
      "text/plain": [
       "13358484"
      ]
     },
     "execution_count": 21,
     "metadata": {},
     "output_type": "execute_result"
    }
   ],
   "source": [
    "vts_featured_2_count = vts_featured_2_df.count()\n",
    "vts_featured_2_count"
   ]
  },
  {
   "cell_type": "markdown",
   "metadata": {},
   "source": [
    "### Check for the negative time travel to a bus stop from the previous bus stop"
   ]
  },
  {
   "cell_type": "code",
   "execution_count": 22,
   "metadata": {
    "collapsed": false
   },
   "outputs": [
    {
     "data": {
      "text/plain": [
       "367896"
      ]
     },
     "execution_count": 22,
     "metadata": {},
     "output_type": "execute_result"
    }
   ],
   "source": [
    "# Remove rows with the negative timestamp\n",
    "vts_featured_2_neg_df = vts_featured_2_df.filter(col('time_from_prev_stop') < 0)\n",
    "vts_featured_2_neg_count = vts_featured_2_neg_df.count()\n",
    "vts_featured_2_neg_count"
   ]
  },
  {
   "cell_type": "code",
   "execution_count": 23,
   "metadata": {
    "collapsed": false
   },
   "outputs": [
    {
     "data": {
      "text/plain": [
       "4431102"
      ]
     },
     "execution_count": 23,
     "metadata": {},
     "output_type": "execute_result"
    }
   ],
   "source": [
    "# Turns out that a significant number of entries have ist_epoch as null\n",
    "vts_featured_2_df.filter(vts_featured_2_df[\"ist_epoch\"].isNull()).count()"
   ]
  },
  {
   "cell_type": "code",
   "execution_count": 24,
   "metadata": {
    "collapsed": false
   },
   "outputs": [
    {
     "name": "stdout",
     "output_type": "stream",
     "text": [
      "+-------+-------------------+\n",
      "|summary|time_from_prev_stop|\n",
      "+-------+-------------------+\n",
      "|  count|            7987584|\n",
      "|   mean| 155.10999095596367|\n",
      "| stddev|  1845.717970044498|\n",
      "|    min|             -94796|\n",
      "|    max|              95104|\n",
      "+-------+-------------------+\n",
      "\n"
     ]
    }
   ],
   "source": [
    "vts_featured_2_df.describe(\"time_from_prev_stop\").show()"
   ]
  },
  {
   "cell_type": "code",
   "execution_count": 25,
   "metadata": {
    "collapsed": false
   },
   "outputs": [
    {
     "name": "stdout",
     "output_type": "stream",
     "text": [
      "+--------+-----------+----------+-------------+-----------+-----------+----------+--------+-----------+-------------+----+--------+----+---------+---------+-------------+------------+--------+--------------+------------+----------------+-----------------+----+--------+--------+------------+-----------+--------+---------------------+-------------------+\n",
      "|route_id|bus_stop_id|   duty_dt|vts_device_id|schedule_no|trip_number|start_time|end_time|route_order|bus_stop_name|  id|ist_date| lat|longitude|ist_epoch|schedule_name|service_type|route_no|etm_start_time|etm_end_time|latitude_current|longitude_current|dist|min_dist|min_time|lagged_epoch|day_of_week|distance|google_time_to_travel|time_from_prev_stop|\n",
      "+--------+-----------+----------+-------------+-----------+-----------+----------+--------+-----------+-------------+----+--------+----+---------+---------+-------------+------------+--------+--------------+------------+----------------+-----------------+----+--------+--------+------------+-----------+--------+---------------------+-------------------+\n",
      "|   12282|          3|2017-01-16|    150219659|      16092|          3|  07:50:00|09:00:00|         37|    Kodihalli|null|    null|null|     null|     null|         null|        null|    null|          null|        null|            null|             null|null|    null|    null|        null|          1|     391|                   48|               null|\n",
      "+--------+-----------+----------+-------------+-----------+-----------+----------+--------+-----------+-------------+----+--------+----+---------+---------+-------------+------------+--------+--------------+------------+----------------+-----------------+----+--------+--------+------------+-----------+--------+---------------------+-------------------+\n",
      "only showing top 1 row\n",
      "\n"
     ]
    }
   ],
   "source": [
    "vts_featured_2_df.filter(col('trip_number') == 3).show(1)"
   ]
  },
  {
   "cell_type": "code",
   "execution_count": 26,
   "metadata": {
    "collapsed": false
   },
   "outputs": [
    {
     "name": "stdout",
     "output_type": "stream",
     "text": [
      "+----------+-----------+-----------+--------------------+----------+------------+-------------------+\n",
      "|   duty_dt|trip_number|route_order|       bus_stop_name| ist_epoch|lagged_epoch|time_from_prev_stop|\n",
      "+----------+-----------+-----------+--------------------+----------+------------+-------------------+\n",
      "|2017-01-01|          3|          1|Kadugodi Bus Station|1483243736|        null|               null|\n",
      "|2017-01-01|          3|          2|      KDGD Connector|1483243856|  1483243736|                120|\n",
      "|2017-01-01|          3|          3|     KDGD Dummy Stop|1483243686|  1483243856|               -170|\n",
      "|2017-01-01|          3|          4|           Hope Farm|1483243308|  1483243686|               -378|\n",
      "|2017-01-01|          3|          5|                 BPL|1483244593|  1483243308|               1285|\n",
      "|2017-01-01|          3|          6|   GR Tech Park ITPL|1483244632|  1483244593|                 39|\n",
      "|2017-01-01|          3|          7|                ITPL|1483244693|  1483244632|                 61|\n",
      "|2017-01-01|          3|          8|Pattandur Agrahar...|1483244832|  1483244693|                139|\n",
      "|2017-01-01|          3|          9|    Big Bazzar  ITPL|1483244931|  1483244832|                 99|\n",
      "|2017-01-01|          3|         10| Sathya Sai Hospital|1483245071|  1483244931|                140|\n",
      "+----------+-----------+-----------+--------------------+----------+------------+-------------------+\n",
      "only showing top 10 rows\n",
      "\n"
     ]
    }
   ],
   "source": [
    "vts_featured_2_df.filter((col(\"duty_dt\") == \"2017-01-01\") &\n",
    "                                    (col(\"vts_device_id\") == 150219641) &\n",
    "                                     (col(\"schedule_no\") == 24906) &\n",
    "                                     (col(\"route_id\") == 28884) &\n",
    "                                     (col(\"trip_number\") == 3) &\n",
    "                                     (col(\"start_time\") == \"09:20:00\") &\n",
    "                                     (col(\"end_time\") == \"11:00:00\"))\\\n",
    "                .select(\"duty_dt\",\"trip_number\", \"route_order\", \"bus_stop_name\",\n",
    "                                       \"ist_epoch\", \"lagged_epoch\", \"time_from_prev_stop\" )\\\n",
    "                .orderBy(\"route_order\")\\\n",
    "                .show(10)"
   ]
  },
  {
   "cell_type": "markdown",
   "metadata": {
    "collapsed": true
   },
   "source": [
    "### Make the negative time_from_prev_stop as NULL"
   ]
  },
  {
   "cell_type": "code",
   "execution_count": 27,
   "metadata": {
    "collapsed": true
   },
   "outputs": [],
   "source": [
    "def negTimeTravelNullConverter(time_from_prev_stop):\n",
    "    if(time_from_prev_stop < 0):\n",
    "        time_from_prev_stop = None\n",
    "    return time_from_prev_stop"
   ]
  },
  {
   "cell_type": "code",
   "execution_count": 28,
   "metadata": {
    "collapsed": false
   },
   "outputs": [],
   "source": [
    "from pyspark.sql.types import IntegerType\n",
    "negTimeTravelNullConverterUDF = udf(negTimeTravelNullConverter, IntegerType())"
   ]
  },
  {
   "cell_type": "code",
   "execution_count": 29,
   "metadata": {
    "collapsed": false
   },
   "outputs": [],
   "source": [
    "vts_featured_3_df = vts_featured_2_df.withColumn(\"time_from_prev_stop\", \n",
    "                                                      negTimeTravelNullConverterUDF(vts_featured_2_df.time_from_prev_stop))"
   ]
  },
  {
   "cell_type": "code",
   "execution_count": 30,
   "metadata": {
    "collapsed": false
   },
   "outputs": [],
   "source": [
    "# vts_featured_3_df.dtypes"
   ]
  },
  {
   "cell_type": "code",
   "execution_count": 31,
   "metadata": {
    "collapsed": false
   },
   "outputs": [
    {
     "name": "stdout",
     "output_type": "stream",
     "text": [
      "+----------+-----------+-----------+--------------------+----------+------------+-------------------+\n",
      "|   duty_dt|trip_number|route_order|       bus_stop_name| ist_epoch|lagged_epoch|time_from_prev_stop|\n",
      "+----------+-----------+-----------+--------------------+----------+------------+-------------------+\n",
      "|2017-01-01|          3|          1|Kadugodi Bus Station|1483243736|        null|               null|\n",
      "|2017-01-01|          3|          2|      KDGD Connector|1483243856|  1483243736|                120|\n",
      "|2017-01-01|          3|          3|     KDGD Dummy Stop|1483243686|  1483243856|               null|\n",
      "|2017-01-01|          3|          4|           Hope Farm|1483243308|  1483243686|               null|\n",
      "|2017-01-01|          3|          5|                 BPL|1483244593|  1483243308|               1285|\n",
      "|2017-01-01|          3|          6|   GR Tech Park ITPL|1483244632|  1483244593|                 39|\n",
      "|2017-01-01|          3|          7|                ITPL|1483244693|  1483244632|                 61|\n",
      "|2017-01-01|          3|          8|Pattandur Agrahar...|1483244832|  1483244693|                139|\n",
      "|2017-01-01|          3|          9|    Big Bazzar  ITPL|1483244931|  1483244832|                 99|\n",
      "|2017-01-01|          3|         10| Sathya Sai Hospital|1483245071|  1483244931|                140|\n",
      "+----------+-----------+-----------+--------------------+----------+------------+-------------------+\n",
      "only showing top 10 rows\n",
      "\n"
     ]
    }
   ],
   "source": [
    "vts_featured_3_df.filter((col(\"duty_dt\") == \"2017-01-01\") &\n",
    "                                    (col(\"vts_device_id\") == 150219641) &\n",
    "                                     (col(\"schedule_no\") == 24906) &\n",
    "                                     (col(\"route_id\") == 28884) &\n",
    "                                     (col(\"trip_number\") == 3) &\n",
    "                                     (col(\"start_time\") == \"09:20:00\") &\n",
    "                                     (col(\"end_time\") == \"11:00:00\"))\\\n",
    "                .select(\"duty_dt\",\"trip_number\", \"route_order\", \"bus_stop_name\",\n",
    "                                       \"ist_epoch\", \"lagged_epoch\", \"time_from_prev_stop\" )\\\n",
    "                .orderBy(\"route_order\")\\\n",
    "                .show(10)"
   ]
  },
  {
   "cell_type": "markdown",
   "metadata": {},
   "source": [
    "### 4) Feature: time_slot"
   ]
  },
  {
   "cell_type": "code",
   "execution_count": 32,
   "metadata": {
    "collapsed": true
   },
   "outputs": [],
   "source": [
    "vts_featured_4_df = vts_featured_3_df.withColumn(\"hour_of_day\", hour(vts_featured_1_df.ist_date))"
   ]
  },
  {
   "cell_type": "code",
   "execution_count": 33,
   "metadata": {
    "collapsed": false
   },
   "outputs": [
    {
     "name": "stdout",
     "output_type": "stream",
     "text": [
      "+--------+-----------+----------+-------------+-----------+-----------+----------+--------+-----------+---------------+----+--------+----+---------+---------+-------------+------------+--------+--------------+------------+----------------+-----------------+----+--------+--------+------------+-----------+--------+---------------------+-------------------+-----------+\n",
      "|route_id|bus_stop_id|   duty_dt|vts_device_id|schedule_no|trip_number|start_time|end_time|route_order|  bus_stop_name|  id|ist_date| lat|longitude|ist_epoch|schedule_name|service_type|route_no|etm_start_time|etm_end_time|latitude_current|longitude_current|dist|min_dist|min_time|lagged_epoch|day_of_week|distance|google_time_to_travel|time_from_prev_stop|hour_of_day|\n",
      "+--------+-----------+----------+-------------+-----------+-----------+----------+--------+-----------+---------------+----+--------+----+---------+---------+-------------+------------+--------+--------------+------------+----------------+-----------------+----+--------+--------+------------+-----------+--------+---------------------+-------------------+-----------+\n",
      "|    7114|        887|2017-01-03|    150813947|      24387|          2|  05:40:00|06:25:00|         29|Gangamma Circle|null|    null|null|     null|     null|         null|        null|    null|          null|        null|            null|             null|null|    null|    null|        null|          2|     605|                   69|               null|       null|\n",
      "+--------+-----------+----------+-------------+-----------+-----------+----------+--------+-----------+---------------+----+--------+----+---------+---------+-------------+------------+--------+--------------+------------+----------------+-----------------+----+--------+--------+------------+-----------+--------+---------------------+-------------------+-----------+\n",
      "only showing top 1 row\n",
      "\n"
     ]
    }
   ],
   "source": [
    "vts_featured_4_df.show(1)"
   ]
  },
  {
   "cell_type": "code",
   "execution_count": 34,
   "metadata": {
    "collapsed": false
   },
   "outputs": [
    {
     "data": {
      "text/plain": [
       "13358484"
      ]
     },
     "execution_count": 34,
     "metadata": {},
     "output_type": "execute_result"
    }
   ],
   "source": [
    "vts_featured_4_count = vts_featured_4_df.count()\n",
    "vts_featured_4_count"
   ]
  },
  {
   "cell_type": "markdown",
   "metadata": {},
   "source": [
    "### 5) Feature: month_of_trip"
   ]
  },
  {
   "cell_type": "code",
   "execution_count": 49,
   "metadata": {
    "collapsed": true
   },
   "outputs": [],
   "source": [
    "vts_featured_5_df = vts_featured_4_df.withColumn('month_of_trip', month(vts_featured_4_df['duty_dt']))"
   ]
  },
  {
   "cell_type": "markdown",
   "metadata": {
    "collapsed": true
   },
   "source": [
    "## Remove null rows"
   ]
  },
  {
   "cell_type": "code",
   "execution_count": 50,
   "metadata": {
    "collapsed": false
   },
   "outputs": [],
   "source": [
    "vts_filtered_df = vts_featured_5_df.filter(col(\"time_from_prev_stop\").isNotNull())"
   ]
  },
  {
   "cell_type": "code",
   "execution_count": 51,
   "metadata": {
    "collapsed": false
   },
   "outputs": [
    {
     "data": {
      "text/plain": [
       "7619688"
      ]
     },
     "execution_count": 51,
     "metadata": {},
     "output_type": "execute_result"
    }
   ],
   "source": [
    "vts_filtered_count = vts_filtered_df.count()\n",
    "vts_filtered_count"
   ]
  },
  {
   "cell_type": "code",
   "execution_count": 52,
   "metadata": {
    "collapsed": false
   },
   "outputs": [
    {
     "name": "stdout",
     "output_type": "stream",
     "text": [
      "+--------+-----------+----------+-------------+-----------+-----------+----------+--------+-----------+---------------+-----------+--------------------+---------+---------+----------+-------------------+------------+--------+--------------------+--------------------+----------------+-----------------+----+--------+----------+------------+-----------+--------+---------------------+-------------------+-----------+-------------+\n",
      "|route_id|bus_stop_id|   duty_dt|vts_device_id|schedule_no|trip_number|start_time|end_time|route_order|  bus_stop_name|         id|            ist_date|      lat|longitude| ist_epoch|      schedule_name|service_type|route_no|      etm_start_time|        etm_end_time|latitude_current|longitude_current|dist|min_dist|  min_time|lagged_epoch|day_of_week|distance|google_time_to_travel|time_from_prev_stop|hour_of_day|month_of_trip|\n",
      "+--------+-----------+----------+-------------+-----------+-----------+----------+--------+-----------+---------------+-----------+--------------------+---------+---------+----------+-------------------+------------+--------+--------------------+--------------------+----------------+-----------------+----+--------+----------+------------+-----------+--------+---------------------+-------------------+-----------+-------------+\n",
      "|    7114|        887|2017-02-01|    150220879|      24387|          2|  05:40:00|06:25:00|         29|Gangamma Circle|13227949432|2017-02-02 06:04:...|13.056518|77.546516|1485995651|V-500D/16-Week Days|           3|   507-A|2017-02-01 22:45:...|2017-02-02 06:13:...|      13.0564069|      77.54639828|18.0|    18.0|1485995651|  1485995572|          3|     605|                   69|                 79|          6|            2|\n",
      "+--------+-----------+----------+-------------+-----------+-----------+----------+--------+-----------+---------------+-----------+--------------------+---------+---------+----------+-------------------+------------+--------+--------------------+--------------------+----------------+-----------------+----+--------+----------+------------+-----------+--------+---------------------+-------------------+-----------+-------------+\n",
      "only showing top 1 row\n",
      "\n"
     ]
    }
   ],
   "source": [
    "vts_filtered_df.show(1)"
   ]
  },
  {
   "cell_type": "markdown",
   "metadata": {},
   "source": [
    "## Ready for Naive Prediction of ETA"
   ]
  },
  {
   "cell_type": "code",
   "execution_count": null,
   "metadata": {
    "collapsed": false
   },
   "outputs": [],
   "source": [
    "vts_filtered_mean_gdf = vts_filtered_df.groupBy(\"route_id\", \"bus_stop_id\", \\\n",
    "                                                \"month_of_trip\", \"day_of_week\", \"hour_of_day\")\\\n",
    "                                       .mean(\"time_from_prev_stop\")"
   ]
  },
  {
   "cell_type": "code",
   "execution_count": 47,
   "metadata": {
    "collapsed": false
   },
   "outputs": [
    {
     "name": "stdout",
     "output_type": "stream",
     "text": [
      "+--------+-----------+-----------+-----------+------------------------+\n",
      "|route_id|bus_stop_id|day_of_week|hour_of_day|avg(time_from_prev_stop)|\n",
      "+--------+-----------+-----------+-----------+------------------------+\n",
      "|   13340|       9297|          0|         11|      236.21621621621622|\n",
      "|   13340|       9297|          5|         12|      234.07142857142858|\n",
      "|   20187|       5841|          6|         22|                  184.25|\n",
      "|   21709|         20|          1|         15|                    71.0|\n",
      "|   25937|      10287|          0|         17|       333.4861111111111|\n",
      "|   27857|        695|          2|         15|                   318.0|\n",
      "|   29006|        162|          0|         23|                    67.6|\n",
      "|   29006|        162|          0|          7|                    60.0|\n",
      "|   29086|       5559|          1|         19|                   119.0|\n",
      "|   30485|       2587|          2|         14|      143.97692307692307|\n",
      "+--------+-----------+-----------+-----------+------------------------+\n",
      "only showing top 10 rows\n",
      "\n"
     ]
    }
   ],
   "source": [
    "vts_filtered_mean_gdf.show(10)"
   ]
  },
  {
   "cell_type": "code",
   "execution_count": 48,
   "metadata": {
    "collapsed": false
   },
   "outputs": [
    {
     "data": {
      "text/plain": [
       "517584"
      ]
     },
     "execution_count": 48,
     "metadata": {},
     "output_type": "execute_result"
    }
   ],
   "source": [
    "vts_filtered_mean_gdf.count()"
   ]
  },
  {
   "cell_type": "markdown",
   "metadata": {},
   "source": [
    "## Prediction based on the Third Quartile = 75th percentile"
   ]
  },
  {
   "cell_type": "code",
   "execution_count": 60,
   "metadata": {
    "collapsed": false
   },
   "outputs": [
    {
     "data": {
      "text/plain": [
       "DataFrame[]"
      ]
     },
     "execution_count": 60,
     "metadata": {},
     "output_type": "execute_result"
    }
   ],
   "source": [
    "sqlContext.sql(\"use bmtc_eta_default\")\n",
    "vts_filtered_df.registerTempTable(\"temp_vts_filtered_df\")\n",
    "\n",
    "vts_quartile3_df = sqlContext.sql(\"select route_id, bus_stop_id, route_order, distance, \\\n",
    "                                   google_time_to_travel, month_of_trip, day_of_week, hour_of_day, \\\n",
    "                                   round(percentile_approx(time_from_prev_stop, 0.75), 0) as Q3_val,\\\n",
    "                                   count(*) as count \\\n",
    "                             from temp_vts_filtered_df \\\n",
    "                             group by route_id, bus_stop_id, route_order,\\\n",
    "                                   distance, google_time_to_travel, month_of_trip, day_of_week, hour_of_day\")"
   ]
  },
  {
   "cell_type": "code",
   "execution_count": 61,
   "metadata": {
    "collapsed": false
   },
   "outputs": [
    {
     "name": "stdout",
     "output_type": "stream",
     "text": [
      "+--------+-----------+-----------+--------+---------------------+-------------+-----------+-----------+------+-----+\n",
      "|route_id|bus_stop_id|route_order|distance|google_time_to_travel|month_of_trip|day_of_week|hour_of_day|Q3_val|count|\n",
      "+--------+-----------+-----------+--------+---------------------+-------------+-----------+-----------+------+-----+\n",
      "|    4544|       2589|         23|     900|                  122|            1|          3|         17| 308.0|    1|\n",
      "|    4996|       8345|         16|    1400|                  191|            3|          3|         19| 598.0|    2|\n",
      "|    5800|       4650|          7|     500|                   56|            2|          0|         21|  71.0|    1|\n",
      "|    5806|        218|         15|     700|                   57|            1|          1|         19|  80.0|    1|\n",
      "|    5806|       4941|          9|     200|                   48|            1|          2|         18| 756.0|    5|\n",
      "|    7362|          7|         13|     665|                   98|            1|          5|         21| 468.0|    1|\n",
      "|    7362|         21|         10|     386|                   45|            3|          3|         15|  60.0|    1|\n",
      "|    7362|         28|         12|     760|                   98|            1|          6|         20| 640.0|    3|\n",
      "|    7362|         28|         12|     760|                   98|            3|          5|         15| 369.0|    4|\n",
      "|    7362|        161|         16|     566|                   48|            4|          6|         21| 109.0|    1|\n",
      "+--------+-----------+-----------+--------+---------------------+-------------+-----------+-----------+------+-----+\n",
      "only showing top 10 rows\n",
      "\n"
     ]
    }
   ],
   "source": [
    "vts_quartile3_df.show(10)"
   ]
  },
  {
   "cell_type": "code",
   "execution_count": 62,
   "metadata": {
    "collapsed": false
   },
   "outputs": [
    {
     "data": {
      "text/plain": [
       "1433448"
      ]
     },
     "execution_count": 62,
     "metadata": {},
     "output_type": "execute_result"
    }
   ],
   "source": [
    "vts_quartile3_df.count()"
   ]
  },
  {
   "cell_type": "code",
   "execution_count": 63,
   "metadata": {
    "collapsed": false
   },
   "outputs": [
    {
     "name": "stdout",
     "output_type": "stream",
     "text": [
      "+--------+-----------+-----------+--------+---------------------+-------------+-----------+-----------+------+-----+\n",
      "|route_id|bus_stop_id|route_order|distance|google_time_to_travel|month_of_trip|day_of_week|hour_of_day|Q3_val|count|\n",
      "+--------+-----------+-----------+--------+---------------------+-------------+-----------+-----------+------+-----+\n",
      "|   16924|       5927|          1|    null|                 null|            4|          1|         17|   0.0|    1|\n",
      "|   16924|        419|          2|    1064|                   99|            3|          1|         16| 175.0|    2|\n",
      "|   16924|        419|          2|    1064|                   99|            2|          1|         17| 329.0|    6|\n",
      "|   16924|        419|          2|    1064|                   99|            1|          1|         16| 229.0|    8|\n",
      "|   16924|        419|          2|    1064|                   99|            1|          1|         17| 288.0|    4|\n",
      "|   16924|        419|          2|    1064|                   99|            3|          1|         17|1313.0|    7|\n",
      "|   16924|        419|          2|    1064|                   99|            4|          1|         19|5260.0|    1|\n",
      "|   16924|        419|          2|    1064|                   99|            1|          1|         18|2029.0|    6|\n",
      "|   16924|        419|          2|    1064|                   99|            4|          1|         18| 797.0|    4|\n",
      "|   16924|        419|          2|    1064|                   99|            4|          1|         16| 109.0|    1|\n",
      "|   16924|        419|          2|    1064|                   99|            1|          1|         19|2330.0|    1|\n",
      "|   16924|        419|          2|    1064|                   99|            2|          1|         18|1354.0|    1|\n",
      "|   16924|        419|          2|    1064|                   99|            4|          1|         17| 625.0|    5|\n",
      "|   16924|        419|          2|    1064|                   99|            2|          1|         16| 199.0|    4|\n",
      "|   16924|        419|          2|    1064|                   99|            3|          1|         18| 921.0|    2|\n",
      "|   16924|       5728|          3|    1444|                  104|            4|          1|         18| 578.0|    4|\n",
      "|   16924|       5728|          3|    1444|                  104|            3|          1|         16| 134.0|    2|\n",
      "|   16924|       5728|          3|    1444|                  104|            1|          1|         19| 129.0|    1|\n",
      "|   16924|       5728|          3|    1444|                  104|            2|          1|         18| 916.0|    5|\n",
      "|   16924|       5728|          3|    1444|                  104|            1|          1|         15| 139.0|    1|\n",
      "|   16924|       5728|          3|    1444|                  104|            4|          1|         16| 499.0|    1|\n",
      "|   16924|       5728|          3|    1444|                  104|            2|          1|         17| 160.0|   12|\n",
      "|   16924|       5728|          3|    1444|                  104|            4|          1|         15| 120.0|    1|\n",
      "|   16924|       5728|          3|    1444|                  104|            4|          1|         17| 500.0|   10|\n",
      "|   16924|       5728|          3|    1444|                  104|            3|          1|         17| 150.0|   13|\n",
      "|   16924|       5728|          3|    1444|                  104|            1|          1|         18| 304.0|   11|\n",
      "|   16924|       5728|          3|    1444|                  104|            2|          1|         16| 145.0|    6|\n",
      "|   16924|       5728|          3|    1444|                  104|            1|          1|         16| 139.0|   11|\n",
      "|   16924|       5728|          3|    1444|                  104|            1|          1|         17| 637.0|   13|\n",
      "|   16924|       5728|          3|    1444|                  104|            3|          1|         18|1191.0|    9|\n",
      "|   16924|       5728|          3|    1444|                  104|            3|          1|         15|  90.0|    1|\n",
      "|   16924|      11413|          4|    1241|                  211|            3|          1|         15| 119.0|    1|\n",
      "|   16924|      11413|          4|    1241|                  211|            4|          1|         16|1291.0|    7|\n",
      "|   16924|      11413|          4|    1241|                  211|            4|          1|         18|1076.0|   10|\n",
      "|   16924|      11413|          4|    1241|                  211|            2|          1|         19| 368.0|    1|\n",
      "|   16924|      11413|          4|    1241|                  211|            1|          1|         16| 186.0|    8|\n",
      "|   16924|      11413|          4|    1241|                  211|            3|          1|         16| 867.0|    3|\n",
      "|   16924|      11413|          4|    1241|                  211|            4|          1|         17| 234.0|   13|\n",
      "|   16924|      11413|          4|    1241|                  211|            4|          1|         15| 139.0|    1|\n",
      "|   16924|      11413|          4|    1241|                  211|            2|          1|         17| 215.0|   15|\n",
      "|   16924|      11413|          4|    1241|                  211|            3|          1|         17| 235.0|   19|\n",
      "|   16924|      11413|          4|    1241|                  211|            3|          1|         18| 387.0|   13|\n",
      "|   16924|      11413|          4|    1241|                  211|            2|          1|         16| 271.0|    7|\n",
      "|   16924|      11413|          4|    1241|                  211|            1|          1|         17| 262.0|   19|\n",
      "|   16924|      11413|          4|    1241|                  211|            1|          1|         19| 820.0|    3|\n",
      "|   16924|      11413|          4|    1241|                  211|            2|          1|         18| 363.0|    7|\n",
      "|   16924|      11413|          4|    1241|                  211|            1|          1|         18| 550.0|    7|\n",
      "+--------+-----------+-----------+--------+---------------------+-------------+-----------+-----------+------+-----+\n",
      "\n"
     ]
    }
   ],
   "source": [
    "vts_quartile3_df.filter((col(\"route_id\") == 16924) & \n",
    "                        (col(\"day_of_week\") == 1)).orderBy(\"route_order\").show(50)"
   ]
  },
  {
   "cell_type": "code",
   "execution_count": 67,
   "metadata": {
    "collapsed": true
   },
   "outputs": [],
   "source": [
    "# vts_gdf = vts_filtered_df.groupBy(\"route_id\", \"bus_stop_id\", \"route_order\", \n",
    "#                                   \"distance\", \"google_time_to_travel\", \n",
    "#                                   \"day_of_week\", \"hour_of_day\").agg({\"*\": \"count\"})\\\n",
    "#                         .orderBy(col(\"count(1)\"), ascending=True)"
   ]
  },
  {
   "cell_type": "code",
   "execution_count": 68,
   "metadata": {
    "collapsed": true
   },
   "outputs": [],
   "source": [
    "# Assuming a bus travels at 6 kmph at a minimum\n",
    "vts_quartile3_speed_df = vts_quartile3_df.withColumn(\"time_cap\", format_number(col(\"distance\")/1.66,2))"
   ]
  },
  {
   "cell_type": "code",
   "execution_count": 69,
   "metadata": {
    "collapsed": false
   },
   "outputs": [
    {
     "name": "stdout",
     "output_type": "stream",
     "text": [
      "+--------+-----------+-----------+--------+---------------------+-------------+-----------+-----------+------+-----+--------+\n",
      "|route_id|bus_stop_id|route_order|distance|google_time_to_travel|month_of_trip|day_of_week|hour_of_day|Q3_val|count|time_cap|\n",
      "+--------+-----------+-----------+--------+---------------------+-------------+-----------+-----------+------+-----+--------+\n",
      "|    4544|       2589|         23|     900|                  122|            1|          3|         17| 308.0|    1|  542.17|\n",
      "|    4996|       8345|         16|    1400|                  191|            3|          3|         19| 598.0|    2|  843.37|\n",
      "|    5800|       4650|          7|     500|                   56|            2|          0|         21|  71.0|    1|  301.20|\n",
      "|    5806|        218|         15|     700|                   57|            1|          1|         19|  80.0|    1|  421.69|\n",
      "|    5806|       4941|          9|     200|                   48|            1|          2|         18| 756.0|    5|  120.48|\n",
      "|    7362|          7|         13|     665|                   98|            1|          5|         21| 468.0|    1|  400.60|\n",
      "|    7362|         21|         10|     386|                   45|            3|          3|         15|  60.0|    1|  232.53|\n",
      "|    7362|         28|         12|     760|                   98|            1|          6|         20| 640.0|    3|  457.83|\n",
      "|    7362|         28|         12|     760|                   98|            3|          5|         15| 369.0|    4|  457.83|\n",
      "|    7362|        161|         16|     566|                   48|            4|          6|         21| 109.0|    1|  340.96|\n",
      "+--------+-----------+-----------+--------+---------------------+-------------+-----------+-----------+------+-----+--------+\n",
      "only showing top 10 rows\n",
      "\n"
     ]
    }
   ],
   "source": [
    "vts_quartile3_speed_df.show(10)"
   ]
  },
  {
   "cell_type": "code",
   "execution_count": 71,
   "metadata": {
    "collapsed": false
   },
   "outputs": [
    {
     "data": {
      "text/plain": [
       "1199113"
      ]
     },
     "execution_count": 71,
     "metadata": {},
     "output_type": "execute_result"
    }
   ],
   "source": [
    "vts_normal_speed_df = vts_quartile3_speed_df.filter(col(\"Q3_val\") <= col(\"time_cap\"))\n",
    "vts_normal_speed_count = vts_normal_speed_df.count()\n",
    "vts_normal_speed_count"
   ]
  },
  {
   "cell_type": "code",
   "execution_count": 72,
   "metadata": {
    "collapsed": false
   },
   "outputs": [
    {
     "data": {
      "text/plain": [
       "91926"
      ]
     },
     "execution_count": 72,
     "metadata": {},
     "output_type": "execute_result"
    }
   ],
   "source": [
    "517588 - 425662"
   ]
  },
  {
   "cell_type": "code",
   "execution_count": 73,
   "metadata": {
    "collapsed": false
   },
   "outputs": [
    {
     "data": {
      "text/plain": [
       "DataFrame[]"
      ]
     },
     "execution_count": 73,
     "metadata": {},
     "output_type": "execute_result"
    },
    {
     "data": {
      "text/plain": [
       "DataFrame[]"
      ]
     },
     "execution_count": 73,
     "metadata": {},
     "output_type": "execute_result"
    }
   ],
   "source": [
    "# Delete existing table\n",
    "sqlContext.sql(\"use bmtc_eta_default\")\n",
    "sqlContext.sql(\"drop table vts_normal_speed\")"
   ]
  },
  {
   "cell_type": "code",
   "execution_count": 74,
   "metadata": {
    "collapsed": false
   },
   "outputs": [
    {
     "data": {
      "text/plain": [
       "DataFrame[]"
      ]
     },
     "execution_count": 74,
     "metadata": {},
     "output_type": "execute_result"
    },
    {
     "data": {
      "text/plain": [
       "DataFrame[]"
      ]
     },
     "execution_count": 74,
     "metadata": {},
     "output_type": "execute_result"
    }
   ],
   "source": [
    "# Instead of creating a persistent table using saveAsTable, make temp table and dump it as a hive table\n",
    "sqlContext.sql(\"use bmtc_eta_default\")\n",
    "vts_normal_speed_df.createOrReplaceTempView(\"temp_vts_normal_speed\") \n",
    "sqlContext.sql(\"create table vts_normal_speed as select * from temp_vts_normal_speed\")\n",
    "\n",
    "# sqlContext.sql(\"insert into vts_bus_stop_min_dist_apr17 select * from temp_VW_window_3_df\")"
   ]
  },
  {
   "cell_type": "code",
   "execution_count": 75,
   "metadata": {
    "collapsed": false
   },
   "outputs": [
    {
     "name": "stdout",
     "output_type": "stream",
     "text": [
      "+---------------------------+-----------+\n",
      "|tableName                  |isTemporary|\n",
      "+---------------------------+-----------+\n",
      "|vts_365r                   |false      |\n",
      "|vts_365r_distance          |false      |\n",
      "|vts_365r_distance_1        |false      |\n",
      "|vts_365r_filtered          |false      |\n",
      "|vts_bus_stop_min_dist_apr17|false      |\n",
      "|vts_bus_stop_min_dist_feb17|false      |\n",
      "|vts_bus_stop_min_dist_jan17|false      |\n",
      "|vts_bus_stop_min_dist_mar17|false      |\n",
      "|vts_full_bus_stops_apr17   |false      |\n",
      "|vts_full_bus_stops_feb17   |false      |\n",
      "|vts_full_bus_stops_jan17   |false      |\n",
      "|vts_full_bus_stops_mar17   |false      |\n",
      "|vts_jun2017                |false      |\n",
      "|vts_normal_speed           |false      |\n",
      "|vts_volvo_2017             |false      |\n",
      "|vts_volvo_oct2017          |false      |\n",
      "|vts_waybill_volvo_apr2017  |false      |\n",
      "|vts_waybill_volvo_feb2017  |false      |\n",
      "|vts_waybill_volvo_jan2017  |false      |\n",
      "|vts_waybill_volvo_jun2017  |false      |\n",
      "+---------------------------+-----------+\n",
      "only showing top 20 rows\n",
      "\n"
     ]
    }
   ],
   "source": [
    "sqlContext.sql(\"show tables\").show(truncate=False)"
   ]
  },
  {
   "cell_type": "code",
   "execution_count": 76,
   "metadata": {
    "collapsed": false
   },
   "outputs": [
    {
     "data": {
      "text/plain": [
       "1199113"
      ]
     },
     "execution_count": 76,
     "metadata": {},
     "output_type": "execute_result"
    }
   ],
   "source": [
    "vts_df = sqlContext.sql(\"select * from vts_normal_speed\")\n",
    "vts_df.count()"
   ]
  },
  {
   "cell_type": "code",
   "execution_count": null,
   "metadata": {
    "collapsed": true
   },
   "outputs": [],
   "source": []
  }
 ],
 "metadata": {
  "kernelspec": {
   "display_name": "Python 2",
   "language": "python",
   "name": "python2"
  },
  "language_info": {
   "codemirror_mode": {
    "name": "ipython",
    "version": 2
   },
   "file_extension": ".py",
   "mimetype": "text/x-python",
   "name": "python",
   "nbconvert_exporter": "python",
   "pygments_lexer": "ipython2",
   "version": "2.7.13"
  }
 },
 "nbformat": 4,
 "nbformat_minor": 2
}
