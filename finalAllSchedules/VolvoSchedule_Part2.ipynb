{
 "cells": [
  {
   "cell_type": "code",
   "execution_count": 1,
   "metadata": {
    "collapsed": false
   },
   "outputs": [
    {
     "data": {
      "text/plain": [
       "<pyspark.context.SparkContext at 0x7fa33008cd90>"
      ]
     },
     "execution_count": 1,
     "metadata": {},
     "output_type": "execute_result"
    }
   ],
   "source": [
    "sc"
   ]
  },
  {
   "cell_type": "code",
   "execution_count": 2,
   "metadata": {
    "collapsed": false
   },
   "outputs": [
    {
     "data": {
      "text/plain": [
       "u'application_1529929920393_0090'"
      ]
     },
     "execution_count": 2,
     "metadata": {},
     "output_type": "execute_result"
    }
   ],
   "source": [
    "sc.applicationId"
   ]
  },
  {
   "cell_type": "markdown",
   "metadata": {},
   "source": [
    "## Load libraries"
   ]
  },
  {
   "cell_type": "code",
   "execution_count": 17,
   "metadata": {
    "collapsed": false
   },
   "outputs": [],
   "source": [
    "import sys\n",
    "sys.path.append(\"/usr/lib/python2.7/site-packages\")\n",
    "\n",
    "import matplotlib.pyplot as plt\n",
    "import numpy as np\n",
    "import pandas as pd\n",
    "import datetime\n",
    "from pyspark.sql.functions import year, month, dayofmonth\n",
    "from pyspark.sql.functions import col, unix_timestamp,abs, log, from_unixtime, avg\n",
    "from pyspark.sql.functions import count, sum, desc, date_format, lit, concat\n",
    "from pyspark.sql import functions as F"
   ]
  },
  {
   "cell_type": "code",
   "execution_count": 18,
   "metadata": {
    "collapsed": true
   },
   "outputs": [],
   "source": [
    "# For displaying multiple outputs\n",
    "from IPython.core.interactiveshell import InteractiveShell\n",
    "InteractiveShell.ast_node_interactivity = \"all\""
   ]
  },
  {
   "cell_type": "markdown",
   "metadata": {},
   "source": [
    "## Load static data into Spark dataframes"
   ]
  },
  {
   "cell_type": "code",
   "execution_count": 19,
   "metadata": {
    "collapsed": false
   },
   "outputs": [
    {
     "data": {
      "text/plain": [
       "DataFrame[]"
      ]
     },
     "execution_count": 19,
     "metadata": {},
     "output_type": "execute_result"
    }
   ],
   "source": [
    "sqlContext.sql(\"use bmtc\")"
   ]
  },
  {
   "cell_type": "code",
   "execution_count": 20,
   "metadata": {
    "collapsed": false
   },
   "outputs": [],
   "source": [
    "# Get the route map\n",
    "route_map_df = sqlContext.sql(\"select route_id,start_bus_stop_id,end_bus_stop_id,\\\n",
    "                                      distance,time_to_travel,bus_stop_order,status \\\n",
    "                               from route_map\")\n",
    "\n",
    "# Get the route_point\n",
    "route_point_df = sqlContext.sql(\"select route_id, route_order, bus_stop_id from route_point\")\n",
    "\n",
    "bus_stop_df = sqlContext.sql(\"select bus_stop_id,bus_stop_name,latitude_current,longitude_current from bus_stop\")\n",
    "\n",
    "# Drop corrupted locations\n",
    "bus_stop_df = bus_stop_df.na.drop(subset=[\"latitude_current\"])\n",
    "bus_stop_df = bus_stop_df.na.drop(subset=[\"longitude_current\"])\n",
    "\n",
    "# Join the bus stop ID with lat,long\n",
    "route_point_joined_df = route_point_df.join(bus_stop_df,\\\n",
    "                                            [\"bus_stop_id\"],\\\n",
    "                                            \"left_outer\")\n",
    "\n",
    "form_four_df = sqlContext.sql(\"select form_four_id,form_four_name,schedule_number_id,\\\n",
    "                                      schedule_number_name,no_of_trips,start_time,\\\n",
    "                                      route_id,route_number,toll_zone,\\\n",
    "                                      area_limit,total_km,total_dead_km,\\\n",
    "                                      actual_km,total_running_time,total_break_time,\\\n",
    "                                      total_steering_time,spread_over_hours,ot_hours \\\n",
    "                               from form_four\")\n",
    "\n",
    "schedule_df = sqlContext.sql('select * from schedule')\n",
    "\n",
    "schedule_df = schedule_df.select(\"schedule_id\",\"schedule_number\",\"depot_id\",\"route_id\",\"schedule_type\")\n",
    "\n",
    "schedule_details_df = sqlContext.sql('select * from schedule_details')\n",
    "\n",
    "schedule_details_df = schedule_details_df.select(\"schedule_details_id\",\"form_four_id\",\"schedule_number\",\"number_of_trips\",\\\n",
    "                           \"trip_number\",\"trip_type\",\"start_point\",\"end_point\",\"route_number_id\",\\\n",
    "                           \"route_number\",\"route_direction\",\"distance\",\"start_time\",\"end_time\",\\\n",
    "                           \"running_time\",\"break_type_id\",\"shift_type_id\",\"is_dread_trip\")"
   ]
  },
  {
   "cell_type": "code",
   "execution_count": 21,
   "metadata": {
    "collapsed": false
   },
   "outputs": [
    {
     "data": {
      "text/plain": [
       "DataFrame[]"
      ]
     },
     "execution_count": 21,
     "metadata": {},
     "output_type": "execute_result"
    }
   ],
   "source": [
    "sqlContext.sql(\"use bmtcwaybill\")\n",
    "\n",
    "# Get the waybill details, and clean it\n",
    "waybill_trip_details_df = sqlContext.sql(\"select * from waybill_trip_details\")\n",
    "\n",
    "waybill_trip_details_df = waybill_trip_details_df.select(\"id\",\"waybill_id\",\"duty_dt\",\n",
    "                                                         col(\"device_id\").alias(\"WB_device_id\"),\n",
    "                                                         \"schedule_type_id\",\"schedule_no\",\"schedule_name\",\n",
    "                                                         \"service_type\", \"service_name\",\n",
    "                                                         \"trip_number\",\"start_point\",\"start_bus_stop_name\",\n",
    "                                                         \"end_point\",\"end_bus_stop_name\",\n",
    "                                                         \"route_id\",\"route_no\",\"distance\",\n",
    "                                                         \"start_time\",\"act_start_time\",\n",
    "                                                         \"etm_start_time\",\"end_time\",\"act_end_time\",\"etm_end_time\",\n",
    "                                                         \"running_time\",\"is_dread_trip\")"
   ]
  },
  {
   "cell_type": "markdown",
   "metadata": {},
   "source": [
    "## Run this month-wise \n",
    "### >>> Input: Month"
   ]
  },
  {
   "cell_type": "code",
   "execution_count": 22,
   "metadata": {
    "collapsed": false
   },
   "outputs": [],
   "source": [
    "# Filter for months in 2017\n",
    "waybill_trip_details_filtered_df = waybill_trip_details_df.filter(((year(waybill_trip_details_df.duty_dt) == 2017) & \n",
    "                                                                   (month(waybill_trip_details_df.duty_dt) == 11)))"
   ]
  },
  {
   "cell_type": "code",
   "execution_count": 23,
   "metadata": {
    "collapsed": false
   },
   "outputs": [
    {
     "data": {
      "text/plain": [
       "236588"
      ]
     },
     "execution_count": 23,
     "metadata": {},
     "output_type": "execute_result"
    }
   ],
   "source": [
    "volvo_waybill_df = waybill_trip_details_filtered_df.filter(col(\"schedule_name\").like(\"V%\"))\n",
    "volvo_waybill_count = volvo_waybill_df.count()\n",
    "volvo_waybill_count"
   ]
  },
  {
   "cell_type": "code",
   "execution_count": 24,
   "metadata": {
    "collapsed": false
   },
   "outputs": [],
   "source": [
    "# volvo_waybill_grouped_df = volvo_waybill_df.groupby([year(volvo_waybill_df.duty_dt),\n",
    "#                                                         month(volvo_waybill_df.duty_dt),\n",
    "#                                                         dayofmonth(volvo_waybill_df.duty_dt)])\\\n",
    "#                                            .count().orderBy(desc('dayofmonth(duty_dt)'))\n",
    "\n",
    "# volvo_waybill_grouped_df.show(31)"
   ]
  },
  {
   "cell_type": "markdown",
   "metadata": {},
   "source": [
    "## Filter out invalid trips as recorded in waybill as null values in ETM start and end times"
   ]
  },
  {
   "cell_type": "code",
   "execution_count": 25,
   "metadata": {
    "collapsed": false
   },
   "outputs": [],
   "source": [
    "# Find out why certain entries have null ETM values\n",
    "volvo_waybill_etm_invalid_df = volvo_waybill_df.filter((col(\"etm_start_time\") == \"null\") |  \n",
    "                                                      (col(\"etm_end_time\") == \"null\"))"
   ]
  },
  {
   "cell_type": "code",
   "execution_count": 26,
   "metadata": {
    "collapsed": false
   },
   "outputs": [],
   "source": [
    "volvo_waybill_etm_valid_df = volvo_waybill_df.filter((col(\"etm_start_time\") != \"null\") & \n",
    "                                                     (col(\"etm_end_time\") != \"null\"))"
   ]
  },
  {
   "cell_type": "code",
   "execution_count": 27,
   "metadata": {
    "collapsed": false
   },
   "outputs": [
    {
     "name": "stdout",
     "output_type": "stream",
     "text": [
      "+--------+----------+----------+------------+----------------+-----------+------------------+------------+------------+-----------+-----------+--------------------+---------+--------------------+--------+--------+--------+----------+--------------+--------------------+--------+------------+--------------------+------------+-------------+\n",
      "|      id|waybill_id|   duty_dt|WB_device_id|schedule_type_id|schedule_no|     schedule_name|service_type|service_name|trip_number|start_point| start_bus_stop_name|end_point|   end_bus_stop_name|route_id|route_no|distance|start_time|act_start_time|      etm_start_time|end_time|act_end_time|        etm_end_time|running_time|is_dread_trip|\n",
      "+--------+----------+----------+------------+----------------+-----------+------------------+------------+------------+-----------+-----------+--------------------+---------+--------------------+--------+--------+--------+----------+--------------+--------------------+--------+------------+--------------------+------------+-------------+\n",
      "|61587497|    143181|2017-11-01|   150218364|               2|      34081|V-342F/10-All Days|           3|       Vajra|          2|        160|Kempegowda Bus St...|     4382|           Sarjapura|   23394|  V-342F|    31.5|  07:20:00|      06:56:04|2017-11-02 07:03:...|08:50:00|    08:45:48|2017-11-02 09:05:...|    01:30:00|            0|\n",
      "|61589767|    143377|2017-11-02|   150219265|               1|      22948|V-500KM/3-All Days|           3|       Vajra|          5|      11421|      Kalyani Magnum|     6915|                ITPL|   29084| V-500KM|    26.9|  10:05:00|      00:00:00|2017-11-02 10:51:...|11:35:00|    00:00:00|2017-11-02 10:51:...|    01:30:00|            0|\n",
      "|61590184|    143401|2017-11-02|   150220335|               2|      47552|V-500F/1-Week Days|           3|       Vajra|          6|        402|                ITPL|     2241|Central Silk Boar...|   28222|  V-500F|    20.0|  10:20:00|      00:00:00|2017-11-03 10:33:...|11:15:00|    00:00:00|2017-11-03 11:24:...|    00:55:00|            0|\n",
      "|61693772|    143504|2017-11-03|   150222163|               2|      22907| V-356M/2-All Days|           3|       Vajra|          2|        362|Depot-25 Gate (Ce...|     3340|              Anekal|   30240| D25-ANK|    27.8|  15:22:00|      16:04:43|2017-11-03 15:27:...|16:40:00|    00:00:00|2017-11-03 16:49:...|    01:18:00|            0|\n",
      "|61694262|    143543|2017-11-03|   150219240|               1|      33557|V-356/15-Week Days|           3|       Vajra|          5|       5927|Hebbala Bridge (T...|       42|Electronic City (...|   37503|  V-500E|    42.0|  09:25:00|      08:50:52|2017-11-03 08:49:...|11:25:00|    10:52:13|2017-11-03 11:03:...|    02:00:00|            0|\n",
      "+--------+----------+----------+------------+----------------+-----------+------------------+------------+------------+-----------+-----------+--------------------+---------+--------------------+--------+--------+--------+----------+--------------+--------------------+--------+------------+--------------------+------------+-------------+\n",
      "only showing top 5 rows\n",
      "\n"
     ]
    }
   ],
   "source": [
    "# These rows correspond to trips that were COMPLETED\n",
    "volvo_waybill_etm_valid_df.show(5)"
   ]
  },
  {
   "cell_type": "code",
   "execution_count": 28,
   "metadata": {
    "collapsed": false
   },
   "outputs": [
    {
     "name": "stdout",
     "output_type": "stream",
     "text": [
      "+--------+----------+----------+------------+----------------+-----------+-------------------+------------+------------+-----------+-----------+--------------------+---------+--------------------+--------+--------+--------+----------+--------------+--------------+--------+------------+------------+------------+-------------+\n",
      "|      id|waybill_id|   duty_dt|WB_device_id|schedule_type_id|schedule_no|      schedule_name|service_type|service_name|trip_number|start_point| start_bus_stop_name|end_point|   end_bus_stop_name|route_id|route_no|distance|start_time|act_start_time|etm_start_time|end_time|act_end_time|etm_end_time|running_time|is_dread_trip|\n",
      "+--------+----------+----------+------------+----------------+-----------+-------------------+------------+------------+-----------+-----------+--------------------+---------+--------------------+--------+--------+--------+----------+--------------+--------------+--------+------------+------------+------------+-------------+\n",
      "|61587112|    143146|2017-11-01|   150221652|               1|      46545| V-500CA/23-Holiday|           3|       Vajra|          5|          9|   Banashankari TTMC|     6915|                ITPL|   34851| V-500CA|    25.2|  12:35:00|          null|          null|13:50:00|        null|        null|    01:15:00|            0|\n",
      "|61587421|    143177|2017-11-01|   150222935|               2|      33323|V-500D/40-Week Days|           3|       Vajra|          7|      10287|Central Silk Boar...|     3488|         Tin Factory|   30485|  V-500D|    20.2|  20:20:00|          null|          null|21:20:00|        null|        null|    01:00:00|            0|\n",
      "|61588255|    143246|2017-11-01|  0e8e56403f|               2|      43412|V-201R/22-Week Days|           3|       Vajra|          1|       1574|Srinagara Bus Sta...|        7|Central Silk Boar...|   24726|  V-201R|    11.5|  05:10:00|          null|          null|05:40:00|        null|        null|    00:30:00|            0|\n",
      "|61588263|    143245|2017-11-01|   150220349|               2|      44134|V-500CA/8-Week Days|           3|       Vajra|          5|        402|                ITPL|     4140|   Banashankari TTMC|   34852| V-500CA|    25.2|  09:05:00|          null|          null|10:35:00|        null|        null|    01:30:00|            0|\n",
      "|61588273|    143252|2017-11-01|   150219755|               2|      29249|V-500CA/18-All Days|           3|       Vajra|          6|        402|                ITPL|     4140|   Banashankari TTMC|   34852| V-500CA|    25.2|  19:00:00|          null|          null|20:20:00|        null|        null|    01:20:00|            0|\n",
      "+--------+----------+----------+------------+----------------+-----------+-------------------+------------+------------+-----------+-----------+--------------------+---------+--------------------+--------+--------+--------+----------+--------------+--------------+--------+------------+------------+------------+-------------+\n",
      "only showing top 5 rows\n",
      "\n"
     ]
    }
   ],
   "source": [
    "# These rows correspond to trips that were CANCELLED\n",
    "volvo_waybill_etm_invalid_df.show(5)"
   ]
  },
  {
   "cell_type": "code",
   "execution_count": 29,
   "metadata": {
    "collapsed": false
   },
   "outputs": [
    {
     "data": {
      "text/plain": [
       "98676"
      ]
     },
     "execution_count": 29,
     "metadata": {},
     "output_type": "execute_result"
    }
   ],
   "source": [
    "volvo_waybill_etm_valid_count = volvo_waybill_etm_valid_df.count()\n",
    "volvo_waybill_etm_valid_count"
   ]
  },
  {
   "cell_type": "markdown",
   "metadata": {
    "collapsed": true
   },
   "source": [
    "## Feature engineering: Time Window to construct trips"
   ]
  },
  {
   "cell_type": "code",
   "execution_count": 30,
   "metadata": {
    "collapsed": false
   },
   "outputs": [],
   "source": [
    "# Select the required columns\n",
    "volvo_waybill_filtered_df = volvo_waybill_etm_valid_df.select(\"duty_dt\", \"WB_device_id\", \n",
    "                                                              \"schedule_no\", \"schedule_name\",\n",
    "                                                              \"service_type\", \"trip_number\",\n",
    "                                                              \"start_time\", \"end_time\",\n",
    "                                                              \"route_id\", \"route_no\",\n",
    "                                                              \"etm_start_time\", \"etm_end_time\",\"is_dread_trip\")"
   ]
  },
  {
   "cell_type": "code",
   "execution_count": 31,
   "metadata": {
    "collapsed": false
   },
   "outputs": [],
   "source": [
    "# Define functions to extract elements of a datetype object\n",
    "dateTimeFmt = \"yyyy-MM-dd HH:mm:ss.S\"\n",
    "dateFmt = \"yyyy-MM-dd\"\n",
    "timeFmt = \"HH:mm:ss\"\n",
    "\n",
    "extractDateWB = from_unixtime(unix_timestamp('etm_start_time', format=dateTimeFmt), format=dateFmt)\n",
    "extractStartTime = from_unixtime(unix_timestamp('etm_start_time', format=dateTimeFmt), format=timeFmt)\n",
    "extractEndTime = from_unixtime(unix_timestamp('etm_end_time', format=dateTimeFmt), format=timeFmt)\n",
    "extractStartTimestamp = unix_timestamp('etm_start_time', format=dateTimeFmt)\n",
    "extractEndTimestamp = unix_timestamp('etm_end_time', format=dateTimeFmt)\n",
    "extractScheduleStartTimestamp = unix_timestamp('start_time', format=timeFmt) + \\\n",
    "                                unix_timestamp('WB_commute_date', format=dateFmt) + 19800\n",
    "extractScheduleEndTimestamp = unix_timestamp('end_time', format=timeFmt) + \\\n",
    "                                unix_timestamp('WB_commute_date', format=dateFmt) + 19800"
   ]
  },
  {
   "cell_type": "code",
   "execution_count": 32,
   "metadata": {
    "collapsed": false
   },
   "outputs": [],
   "source": [
    "# Add columns corresponding to the trip details for the schedules\n",
    "volvo_waybill_time_window_df = volvo_waybill_filtered_df.withColumn(\"WB_commute_date\", extractDateWB)\n",
    "volvo_waybill_time_window_df = volvo_waybill_time_window_df.withColumn(\"trip_start_time\", extractStartTime)\n",
    "volvo_waybill_time_window_df = volvo_waybill_time_window_df.withColumn(\"trip_end_time\", extractEndTime)\n",
    "volvo_waybill_time_window_df = volvo_waybill_time_window_df.withColumn(\"epoch_start_time\", extractStartTimestamp)\n",
    "volvo_waybill_time_window_df = volvo_waybill_time_window_df.withColumn(\"epoch_end_time\", extractEndTimestamp)\n",
    "volvo_waybill_time_window_df = volvo_waybill_time_window_df.withColumn(\"epoch_sched_start_time\", \n",
    "                                                                       extractScheduleStartTimestamp)\n",
    "volvo_waybill_time_window_df = volvo_waybill_time_window_df.withColumn(\"epoch_sched_end_time\", \n",
    "                                                                       extractScheduleEndTimestamp)"
   ]
  },
  {
   "cell_type": "code",
   "execution_count": 33,
   "metadata": {
    "collapsed": false
   },
   "outputs": [
    {
     "name": "stdout",
     "output_type": "stream",
     "text": [
      "+----------+------------+-----------+------------------+------------+-----------+----------+--------+--------+--------+--------------------+--------------------+-------------+---------------+---------------+-------------+----------------+--------------+----------------------+--------------------+\n",
      "|   duty_dt|WB_device_id|schedule_no|     schedule_name|service_type|trip_number|start_time|end_time|route_id|route_no|      etm_start_time|        etm_end_time|is_dread_trip|WB_commute_date|trip_start_time|trip_end_time|epoch_start_time|epoch_end_time|epoch_sched_start_time|epoch_sched_end_time|\n",
      "+----------+------------+-----------+------------------+------------+-----------+----------+--------+--------+--------+--------------------+--------------------+-------------+---------------+---------------+-------------+----------------+--------------+----------------------+--------------------+\n",
      "|2017-11-01|   150218364|      34081|V-342F/10-All Days|           3|          2|  07:20:00|08:50:00|   23394|  V-342F|2017-11-02 07:03:...|2017-11-02 09:05:...|            0|     2017-11-02|       07:03:54|     09:05:21|      1509586434|    1509593721|            1509587400|          1509592800|\n",
      "+----------+------------+-----------+------------------+------------+-----------+----------+--------+--------+--------+--------------------+--------------------+-------------+---------------+---------------+-------------+----------------+--------------+----------------------+--------------------+\n",
      "only showing top 1 row\n",
      "\n"
     ]
    },
    {
     "data": {
      "text/plain": [
       "98676"
      ]
     },
     "execution_count": 33,
     "metadata": {},
     "output_type": "execute_result"
    }
   ],
   "source": [
    "volvo_waybill_time_window_df.show(1)\n",
    "volvo_waybill_time_window_count = volvo_waybill_time_window_df.count()\n",
    "volvo_waybill_time_window_count"
   ]
  },
  {
   "cell_type": "markdown",
   "metadata": {},
   "source": [
    "## If the duration of the trip per the ETM timestamps is absurd (start to end < 30% of schedule duration), then delete the corresponding rows"
   ]
  },
  {
   "cell_type": "code",
   "execution_count": 34,
   "metadata": {
    "collapsed": true
   },
   "outputs": [],
   "source": [
    "from pyspark.sql.functions import udf\n",
    "\n",
    "def isValidETMRecordingFunc(epoch_start_time,epoch_end_time,epoch_sched_start_time,epoch_sched_end_time):\n",
    "    etm_running_time = (epoch_end_time - epoch_start_time)\n",
    "    schedule_running_time = (epoch_sched_end_time - epoch_sched_start_time)\n",
    "    if (etm_running_time > 0.3*schedule_running_time):\n",
    "        return 1\n",
    "    else:\n",
    "        return 0"
   ]
  },
  {
   "cell_type": "code",
   "execution_count": 35,
   "metadata": {
    "collapsed": true
   },
   "outputs": [],
   "source": [
    "isValidETMRecordingFuncUDF = udf(isValidETMRecordingFunc)"
   ]
  },
  {
   "cell_type": "code",
   "execution_count": 36,
   "metadata": {
    "collapsed": false
   },
   "outputs": [
    {
     "data": {
      "text/plain": [
       "98676"
      ]
     },
     "execution_count": 36,
     "metadata": {},
     "output_type": "execute_result"
    }
   ],
   "source": [
    "volvo_waybill_time_window_valid_df = volvo_waybill_time_window_df.withColumn(\"isValidETMRecording\",\n",
    "                                                                             isValidETMRecordingFuncUDF(\n",
    "                                                                             volvo_waybill_time_window_df.epoch_start_time,\n",
    "                                                                             volvo_waybill_time_window_df.epoch_end_time,\n",
    "                                                                             volvo_waybill_time_window_df.epoch_sched_start_time,\n",
    "                                                                             volvo_waybill_time_window_df.epoch_sched_end_time))\n",
    "volvo_waybill_time_window_valid_count = volvo_waybill_time_window_valid_df.count()\n",
    "volvo_waybill_time_window_valid_count"
   ]
  },
  {
   "cell_type": "code",
   "execution_count": 37,
   "metadata": {
    "collapsed": false
   },
   "outputs": [
    {
     "name": "stdout",
     "output_type": "stream",
     "text": [
      "+----------+------------+-----------+------------------+------------+-----------+----------+--------+--------+--------+--------------------+--------------------+-------------+---------------+---------------+-------------+----------------+--------------+----------------------+--------------------+-------------------+\n",
      "|   duty_dt|WB_device_id|schedule_no|     schedule_name|service_type|trip_number|start_time|end_time|route_id|route_no|      etm_start_time|        etm_end_time|is_dread_trip|WB_commute_date|trip_start_time|trip_end_time|epoch_start_time|epoch_end_time|epoch_sched_start_time|epoch_sched_end_time|isValidETMRecording|\n",
      "+----------+------------+-----------+------------------+------------+-----------+----------+--------+--------+--------+--------------------+--------------------+-------------+---------------+---------------+-------------+----------------+--------------+----------------------+--------------------+-------------------+\n",
      "|2017-11-01|   150218364|      34081|V-342F/10-All Days|           3|          2|  07:20:00|08:50:00|   23394|  V-342F|2017-11-02 07:03:...|2017-11-02 09:05:...|            0|     2017-11-02|       07:03:54|     09:05:21|      1509586434|    1509593721|            1509587400|          1509592800|                  1|\n",
      "|2017-11-02|   150219265|      22948|V-500KM/3-All Days|           3|          5|  10:05:00|11:35:00|   29084| V-500KM|2017-11-02 10:51:...|2017-11-02 10:51:...|            0|     2017-11-02|       10:51:38|     10:51:53|      1509600098|    1509600113|            1509597300|          1509602700|                  0|\n",
      "+----------+------------+-----------+------------------+------------+-----------+----------+--------+--------+--------+--------------------+--------------------+-------------+---------------+---------------+-------------+----------------+--------------+----------------------+--------------------+-------------------+\n",
      "only showing top 2 rows\n",
      "\n"
     ]
    }
   ],
   "source": [
    "volvo_waybill_time_window_valid_df.show(2)"
   ]
  },
  {
   "cell_type": "code",
   "execution_count": 38,
   "metadata": {
    "collapsed": false
   },
   "outputs": [
    {
     "name": "stdout",
     "output_type": "stream",
     "text": [
      "+-------+-------------------+\n",
      "|summary|isValidETMRecording|\n",
      "+-------+-------------------+\n",
      "|  count|              98676|\n",
      "|   mean|  0.856834488629454|\n",
      "| stddev| 0.3502433309685543|\n",
      "|    min|                  0|\n",
      "|    max|                  1|\n",
      "+-------+-------------------+\n",
      "\n"
     ]
    }
   ],
   "source": [
    "volvo_waybill_time_window_valid_df.describe(\"isValidETMRecording\").show()"
   ]
  },
  {
   "cell_type": "code",
   "execution_count": 39,
   "metadata": {
    "collapsed": false
   },
   "outputs": [
    {
     "data": {
      "text/plain": [
       "DataFrame[duty_dt: string, WB_device_id: string, schedule_no: bigint, schedule_name: string, service_type: int, trip_number: int, start_time: string, end_time: string, route_id: int, route_no: string, etm_start_time: string, etm_end_time: string, is_dread_trip: int, WB_commute_date: string, trip_start_time: string, trip_end_time: string, epoch_start_time: bigint, epoch_end_time: bigint, epoch_sched_start_time: bigint, epoch_sched_end_time: bigint, isValidETMRecording: string]"
      ]
     },
     "execution_count": 39,
     "metadata": {},
     "output_type": "execute_result"
    }
   ],
   "source": [
    "volvo_waybill_time_window_valid_df.cache()"
   ]
  },
  {
   "cell_type": "code",
   "execution_count": 40,
   "metadata": {
    "collapsed": true
   },
   "outputs": [],
   "source": [
    "volvo_waybill_time_window_valid_1_df = volvo_waybill_time_window_valid_df.filter(col(\"isValidETMRecording\") == 1)"
   ]
  },
  {
   "cell_type": "code",
   "execution_count": 41,
   "metadata": {
    "collapsed": false
   },
   "outputs": [
    {
     "name": "stdout",
     "output_type": "stream",
     "text": [
      "+----------+------------+-----------+------------------+------------+-----------+----------+--------+--------+--------+--------------------+--------------------+-------------+---------------+---------------+-------------+----------------+--------------+----------------------+--------------------+-------------------+\n",
      "|   duty_dt|WB_device_id|schedule_no|     schedule_name|service_type|trip_number|start_time|end_time|route_id|route_no|      etm_start_time|        etm_end_time|is_dread_trip|WB_commute_date|trip_start_time|trip_end_time|epoch_start_time|epoch_end_time|epoch_sched_start_time|epoch_sched_end_time|isValidETMRecording|\n",
      "+----------+------------+-----------+------------------+------------+-----------+----------+--------+--------+--------+--------------------+--------------------+-------------+---------------+---------------+-------------+----------------+--------------+----------------------+--------------------+-------------------+\n",
      "|2017-11-01|   150218364|      34081|V-342F/10-All Days|           3|          2|  07:20:00|08:50:00|   23394|  V-342F|2017-11-02 07:03:...|2017-11-02 09:05:...|            0|     2017-11-02|       07:03:54|     09:05:21|      1509586434|    1509593721|            1509587400|          1509592800|                  1|\n",
      "|2017-11-02|   150220335|      47552|V-500F/1-Week Days|           3|          6|  10:20:00|11:15:00|   28222|  V-500F|2017-11-03 10:33:...|2017-11-03 11:24:...|            0|     2017-11-03|       10:33:13|     11:24:57|      1509685393|    1509688497|            1509684600|          1509687900|                  1|\n",
      "+----------+------------+-----------+------------------+------------+-----------+----------+--------+--------+--------+--------------------+--------------------+-------------+---------------+---------------+-------------+----------------+--------------+----------------------+--------------------+-------------------+\n",
      "only showing top 2 rows\n",
      "\n"
     ]
    }
   ],
   "source": [
    "volvo_waybill_time_window_valid_1_df.show(2)"
   ]
  },
  {
   "cell_type": "code",
   "execution_count": 42,
   "metadata": {
    "collapsed": false
   },
   "outputs": [
    {
     "data": {
      "text/plain": [
       "84549"
      ]
     },
     "execution_count": 42,
     "metadata": {},
     "output_type": "execute_result"
    }
   ],
   "source": [
    "volvo_waybill_time_window_valid_1_count = volvo_waybill_time_window_valid_1_df.count()\n",
    "volvo_waybill_time_window_valid_1_count"
   ]
  },
  {
   "cell_type": "markdown",
   "metadata": {},
   "source": [
    "### Read the VTS data from Hive"
   ]
  },
  {
   "cell_type": "code",
   "execution_count": 43,
   "metadata": {
    "collapsed": false
   },
   "outputs": [
    {
     "data": {
      "text/plain": [
       "DataFrame[]"
      ]
     },
     "execution_count": 43,
     "metadata": {},
     "output_type": "execute_result"
    },
    {
     "data": {
      "text/plain": [
       "956091019"
      ]
     },
     "execution_count": 43,
     "metadata": {},
     "output_type": "execute_result"
    }
   ],
   "source": [
    "sqlContext.sql(\"use bmtc_eta_default\")\n",
    "vts_volvo_df = sqlContext.sql(\"select * from vts_volvo_2017\")\n",
    "vts_volvo_count = vts_volvo_df.count()\n",
    "vts_volvo_count"
   ]
  },
  {
   "cell_type": "code",
   "execution_count": 44,
   "metadata": {
    "collapsed": false
   },
   "outputs": [
    {
     "name": "stdout",
     "output_type": "stream",
     "text": [
      "+-----------+-------------+--------------------+---------+---------+\n",
      "|         id|vts_device_id|            ist_date|      lat|longitude|\n",
      "+-----------+-------------+--------------------+---------+---------+\n",
      "|12139365428|    150221993|2017-01-01 08:56:...|12.914202| 77.60006|\n",
      "|12139369184|    150220827|2017-01-01 08:56:...|12.919712| 77.64328|\n",
      "+-----------+-------------+--------------------+---------+---------+\n",
      "only showing top 2 rows\n",
      "\n"
     ]
    }
   ],
   "source": [
    "vts_volvo_df.show(2)"
   ]
  },
  {
   "cell_type": "markdown",
   "metadata": {},
   "source": [
    "### >>> Input: Select the desired month again here"
   ]
  },
  {
   "cell_type": "code",
   "execution_count": 45,
   "metadata": {
    "collapsed": false
   },
   "outputs": [],
   "source": [
    "vts_volvo_filtered_df = vts_volvo_df.filter(((year(vts_volvo_df.ist_date) == 2017) & \n",
    "                                             (month(vts_volvo_df.ist_date) == 11)))"
   ]
  },
  {
   "cell_type": "code",
   "execution_count": 46,
   "metadata": {
    "collapsed": false
   },
   "outputs": [],
   "source": [
    "# Define function to extract datetime objects\n",
    "extractDateVTS = from_unixtime(unix_timestamp('ist_date', format=dateTimeFmt), format=dateFmt)\n",
    "extractTime = from_unixtime(unix_timestamp('ist_date', format=dateTimeFmt), format=timeFmt)\n",
    "extractTimestamp = unix_timestamp('ist_date', format=dateTimeFmt)\n",
    "\n",
    "vts_volvo_augmented_df = vts_volvo_filtered_df.withColumn(\"commute_date\", extractDateVTS)\n",
    "vts_volvo_augmented_df = vts_volvo_augmented_df.withColumn(\"ist_time\", extractTime)\n",
    "vts_volvo_augmented_df = vts_volvo_augmented_df.withColumn(\"ist_epoch\", extractTimestamp)"
   ]
  },
  {
   "cell_type": "code",
   "execution_count": 47,
   "metadata": {
    "collapsed": false
   },
   "outputs": [
    {
     "name": "stdout",
     "output_type": "stream",
     "text": [
      "+-----------+-------------+--------------------+---------+---------+------------+--------+----------+\n",
      "|         id|vts_device_id|            ist_date|      lat|longitude|commute_date|ist_time| ist_epoch|\n",
      "+-----------+-------------+--------------------+---------+---------+------------+--------+----------+\n",
      "|22205704442|    150810061|2017-11-01 08:51:...|13.040477|77.624336|  2017-11-01|08:51:54|1509506514|\n",
      "|22205705570|    150812124|2017-11-01 08:51:...|12.977475|77.725647|  2017-11-01|08:51:58|1509506518|\n",
      "|22205709431|    150221065|2017-11-01 08:50:...|12.996613|77.669182|  2017-11-01|08:50:12|1509506412|\n",
      "|22205709495|    150221737|2017-11-01 08:52:...|12.976693|77.726303|  2017-11-01|08:52:04|1509506524|\n",
      "|22205718394|    150221760|2017-11-01 08:52:...|12.966127|77.606819|  2017-11-01|08:52:18|1509506538|\n",
      "+-----------+-------------+--------------------+---------+---------+------------+--------+----------+\n",
      "only showing top 5 rows\n",
      "\n"
     ]
    }
   ],
   "source": [
    "vts_volvo_augmented_df.show(5)"
   ]
  },
  {
   "cell_type": "markdown",
   "metadata": {},
   "source": [
    "## We define functions to augment vts_parse_data with schedule_id, route_id and trip_number based upon the available device_id and ist_date"
   ]
  },
  {
   "cell_type": "code",
   "execution_count": 48,
   "metadata": {
    "collapsed": false
   },
   "outputs": [],
   "source": [
    "# Define a UDF for calculating the distance between the two geo points\n",
    "from pyspark.sql.functions import udf"
   ]
  },
  {
   "cell_type": "code",
   "execution_count": 49,
   "metadata": {
    "collapsed": false
   },
   "outputs": [
    {
     "name": "stdout",
     "output_type": "stream",
     "text": [
      "+----------+------------+-----------+------------------+------------+-----------+----------+--------+--------+--------+--------------------+--------------------+-------------+---------------+---------------+-------------+----------------+--------------+----------------------+--------------------+\n",
      "|   duty_dt|WB_device_id|schedule_no|     schedule_name|service_type|trip_number|start_time|end_time|route_id|route_no|      etm_start_time|        etm_end_time|is_dread_trip|WB_commute_date|trip_start_time|trip_end_time|epoch_start_time|epoch_end_time|epoch_sched_start_time|epoch_sched_end_time|\n",
      "+----------+------------+-----------+------------------+------------+-----------+----------+--------+--------+--------+--------------------+--------------------+-------------+---------------+---------------+-------------+----------------+--------------+----------------------+--------------------+\n",
      "|2017-11-01|   150218364|      34081|V-342F/10-All Days|           3|          2|  07:20:00|08:50:00|   23394|  V-342F|2017-11-02 07:03:...|2017-11-02 09:05:...|            0|     2017-11-02|       07:03:54|     09:05:21|      1509586434|    1509593721|            1509587400|          1509592800|\n",
      "+----------+------------+-----------+------------------+------------+-----------+----------+--------+--------+--------+--------------------+--------------------+-------------+---------------+---------------+-------------+----------------+--------------+----------------------+--------------------+\n",
      "only showing top 1 row\n",
      "\n",
      "+-----------+-------------+--------------------+---------+---------+------------+--------+----------+\n",
      "|         id|vts_device_id|            ist_date|      lat|longitude|commute_date|ist_time| ist_epoch|\n",
      "+-----------+-------------+--------------------+---------+---------+------------+--------+----------+\n",
      "|22205704442|    150810061|2017-11-01 08:51:...|13.040477|77.624336|  2017-11-01|08:51:54|1509506514|\n",
      "+-----------+-------------+--------------------+---------+---------+------------+--------+----------+\n",
      "only showing top 1 row\n",
      "\n"
     ]
    }
   ],
   "source": [
    "volvo_waybill_time_window_df.show(1)\n",
    "vts_volvo_augmented_df.show(1)"
   ]
  },
  {
   "cell_type": "code",
   "execution_count": 50,
   "metadata": {
    "collapsed": false
   },
   "outputs": [],
   "source": [
    "join_condition = [vts_volvo_augmented_df.vts_device_id == volvo_waybill_time_window_valid_1_df.WB_device_id,\n",
    "                  vts_volvo_augmented_df.ist_epoch > volvo_waybill_time_window_valid_1_df.epoch_start_time - 300,\n",
    "                  vts_volvo_augmented_df.ist_epoch < volvo_waybill_time_window_valid_1_df.epoch_end_time + 300]\n",
    "\n",
    "vts_volvo_waybill_joined_df = vts_volvo_augmented_df.join(volvo_waybill_time_window_valid_1_df,\n",
    "                                                           join_condition, \n",
    "                                                           \"left_outer\").drop(\"WB_device_id\")"
   ]
  },
  {
   "cell_type": "code",
   "execution_count": 51,
   "metadata": {
    "collapsed": false
   },
   "outputs": [],
   "source": [
    "# vts_waybill_augmented_1_grouped_count = vts_waybill_augmented_1_df.groupby([year(vts_waybill_augmented_1_df.ist_date),\n",
    "#                                                                  month(vts_waybill_augmented_1_df.ist_date),\n",
    "#                                                                  dayofmonth(vts_waybill_augmented_1_df.ist_date)])\\\n",
    "#                                                        .count().orderBy(desc('dayofmonth(ist_date)'))\n",
    "# vts_waybill_augmented_1_grouped_count.show(50)"
   ]
  },
  {
   "cell_type": "code",
   "execution_count": 52,
   "metadata": {
    "collapsed": false
   },
   "outputs": [
    {
     "name": "stdout",
     "output_type": "stream",
     "text": [
      "+-----------+-------------+--------------------+---------+---------+------------+--------+----------+-------+-----------+-------------+------------+-----------+----------+--------+--------+--------+--------------+------------+-------------+---------------+---------------+-------------+----------------+--------------+----------------------+--------------------+-------------------+\n",
      "|         id|vts_device_id|            ist_date|      lat|longitude|commute_date|ist_time| ist_epoch|duty_dt|schedule_no|schedule_name|service_type|trip_number|start_time|end_time|route_id|route_no|etm_start_time|etm_end_time|is_dread_trip|WB_commute_date|trip_start_time|trip_end_time|epoch_start_time|epoch_end_time|epoch_sched_start_time|epoch_sched_end_time|isValidETMRecording|\n",
      "+-----------+-------------+--------------------+---------+---------+------------+--------+----------+-------+-----------+-------------+------------+-----------+----------+--------+--------+--------+--------------+------------+-------------+---------------+---------------+-------------+----------------+--------------+----------------------+--------------------+-------------------+\n",
      "|22206417276|    150220748|2017-11-01 09:17:...|12.989799|77.572678|  2017-11-01|09:17:31|1509508051|   null|       null|         null|        null|       null|      null|    null|    null|    null|          null|        null|         null|           null|           null|         null|            null|          null|                  null|                null|               null|\n",
      "|22210910903|    150220748|2017-11-01 12:01:...| 12.99638|77.571396|  2017-11-01|12:01:58|1509517918|   null|       null|         null|        null|       null|      null|    null|    null|    null|          null|        null|         null|           null|           null|         null|            null|          null|                  null|                null|               null|\n",
      "+-----------+-------------+--------------------+---------+---------+------------+--------+----------+-------+-----------+-------------+------------+-----------+----------+--------+--------+--------+--------------+------------+-------------+---------------+---------------+-------------+----------------+--------------+----------------------+--------------------+-------------------+\n",
      "only showing top 2 rows\n",
      "\n"
     ]
    }
   ],
   "source": [
    "vts_volvo_waybill_joined_df.show(2)"
   ]
  },
  {
   "cell_type": "code",
   "execution_count": 53,
   "metadata": {
    "collapsed": false
   },
   "outputs": [
    {
     "data": {
      "text/plain": [
       "89802371"
      ]
     },
     "execution_count": 53,
     "metadata": {},
     "output_type": "execute_result"
    }
   ],
   "source": [
    "vts_volvo_waybill_joined_count = vts_volvo_waybill_joined_df.count()\n",
    "vts_volvo_waybill_joined_count"
   ]
  },
  {
   "cell_type": "code",
   "execution_count": 54,
   "metadata": {
    "collapsed": false
   },
   "outputs": [
    {
     "data": {
      "text/plain": [
       "89802371"
      ]
     },
     "execution_count": 54,
     "metadata": {},
     "output_type": "execute_result"
    }
   ],
   "source": [
    "vts_waybill_distinct_df = vts_volvo_waybill_joined_df.distinct()\n",
    "vts_waybill_distinct_count = vts_waybill_distinct_df.count()\n",
    "vts_waybill_distinct_count"
   ]
  },
  {
   "cell_type": "code",
   "execution_count": 55,
   "metadata": {
    "collapsed": false,
    "scrolled": false
   },
   "outputs": [
    {
     "data": {
      "text/plain": [
       "27017321"
      ]
     },
     "execution_count": 55,
     "metadata": {},
     "output_type": "execute_result"
    }
   ],
   "source": [
    "# Drop columns with Null route id\n",
    "vts_waybill_distinct_2_df = vts_waybill_distinct_df.filter(col(\"route_id\").isNotNull())\n",
    "#vts_waybill_augmented_3_df.cache()\n",
    "\n",
    "vts_waybill_distinct_2_count = vts_waybill_distinct_2_df.count()\n",
    "vts_waybill_distinct_2_count"
   ]
  },
  {
   "cell_type": "markdown",
   "metadata": {},
   "source": [
    "### Remove rows corresponding to negative time window"
   ]
  },
  {
   "cell_type": "code",
   "execution_count": 56,
   "metadata": {
    "collapsed": true
   },
   "outputs": [],
   "source": [
    "vts_waybill_distinct_3_df = vts_waybill_distinct_2_df.filter(vts_waybill_distinct_2_df.epoch_end_time >= \\\n",
    "                                                             vts_waybill_distinct_2_df.epoch_start_time)"
   ]
  },
  {
   "cell_type": "code",
   "execution_count": 57,
   "metadata": {
    "collapsed": false
   },
   "outputs": [
    {
     "data": {
      "text/plain": [
       "27017321"
      ]
     },
     "execution_count": 57,
     "metadata": {},
     "output_type": "execute_result"
    }
   ],
   "source": [
    "vts_waybill_distinct_3_count = vts_waybill_distinct_3_df.count()\n",
    "vts_waybill_distinct_3_count"
   ]
  },
  {
   "cell_type": "markdown",
   "metadata": {},
   "source": [
    "## Explore the data for consistency - we pick Volvo 44489 | V-365J/7-All Days"
   ]
  },
  {
   "cell_type": "code",
   "execution_count": 260,
   "metadata": {
    "collapsed": false
   },
   "outputs": [],
   "source": [
    "# vts_waybill_365J_df = vts_waybill_distinct_3_df.filter(col(\"schedule_no\") == 44489)\n",
    "# vts_waybill_365J_count = vts_waybill_365J_df.count()\n",
    "# vts_waybill_365J_count"
   ]
  },
  {
   "cell_type": "code",
   "execution_count": 261,
   "metadata": {
    "collapsed": false
   },
   "outputs": [],
   "source": [
    "# vts_waybill_365J_21Oct_df = vts_waybill_365J_df.filter(dayofmonth(vts_waybill_365J_df.ist_date) == 23)\n",
    "# vts_waybill_365J_21Oct_count = vts_waybill_365J_21Oct_df.count()\n",
    "# vts_waybill_365J_21Oct_count\n",
    "\n",
    "# vts_waybill_365J_21Oct_ordered_df = vts_waybill_365J_21Oct_df.orderBy(\"ist_epoch\")\n",
    "\n",
    "# vts_waybill_365J_21Oct_ordered_df.select(\"ist_date\", \"lat\", \"longitude\", \"ist_epoch\", \"trip_number\", \"route_id\", \n",
    "#                                          \"etm_start_time\", \"etm_end_time\").show(715)"
   ]
  },
  {
   "cell_type": "markdown",
   "metadata": {},
   "source": [
    "## Saving the intermediate result to Hive"
   ]
  },
  {
   "cell_type": "code",
   "execution_count": 262,
   "metadata": {
    "collapsed": false
   },
   "outputs": [
    {
     "name": "stdout",
     "output_type": "stream",
     "text": [
      "+--------------------+-----------+\n",
      "|           tableName|isTemporary|\n",
      "+--------------------+-----------+\n",
      "|            vts_365r|      false|\n",
      "|   vts_365r_distance|      false|\n",
      "| vts_365r_distance_1|      false|\n",
      "|   vts_365r_filtered|      false|\n",
      "|vts_bus_stop_min_...|      false|\n",
      "|vts_bus_stop_min_...|      false|\n",
      "|vts_bus_stop_min_...|      false|\n",
      "|vts_bus_stop_min_...|      false|\n",
      "|vts_full_bus_stop...|      false|\n",
      "|vts_full_bus_stop...|      false|\n",
      "|vts_full_bus_stop...|      false|\n",
      "|vts_full_bus_stop...|      false|\n",
      "|         vts_jun2017|      false|\n",
      "|    vts_normal_speed|      false|\n",
      "|      vts_volvo_2017|      false|\n",
      "|   vts_volvo_oct2017|      false|\n",
      "|vts_waybill_volvo...|      false|\n",
      "|vts_waybill_volvo...|      false|\n",
      "|vts_waybill_volvo...|      false|\n",
      "|vts_waybill_volvo...|      false|\n",
      "+--------------------+-----------+\n",
      "only showing top 20 rows\n",
      "\n"
     ]
    }
   ],
   "source": [
    "sqlContext.sql(\"show tables\").show()"
   ]
  },
  {
   "cell_type": "markdown",
   "metadata": {},
   "source": [
    "### >>> Input: Month in table name "
   ]
  },
  {
   "cell_type": "code",
   "execution_count": 263,
   "metadata": {
    "collapsed": false
   },
   "outputs": [
    {
     "data": {
      "text/plain": [
       "DataFrame[]"
      ]
     },
     "execution_count": 263,
     "metadata": {},
     "output_type": "execute_result"
    }
   ],
   "source": [
    "# Instead of creating a persistent table using saveAsTable, make temp table and dump it as a hive table\n",
    "vts_waybill_distinct_3_df.createOrReplaceTempView(\"temp_vts_waybill_distinct_3_df\") \n",
    "sqlContext.sql(\"create table vts_waybill_volvo_dec2017 as select * from temp_vts_waybill_distinct_3_df\")"
   ]
  },
  {
   "cell_type": "code",
   "execution_count": 4,
   "metadata": {
    "collapsed": false
   },
   "outputs": [
    {
     "name": "stdout",
     "output_type": "stream",
     "text": [
      "+---------------------------+-----------+\n",
      "|tableName                  |isTemporary|\n",
      "+---------------------------+-----------+\n",
      "|vts_365r                   |false      |\n",
      "|vts_365r_distance          |false      |\n",
      "|vts_365r_distance_1        |false      |\n",
      "|vts_365r_filtered          |false      |\n",
      "|vts_bus_stop_min_dist_apr17|false      |\n",
      "|vts_bus_stop_min_dist_feb17|false      |\n",
      "|vts_bus_stop_min_dist_jan17|false      |\n",
      "|vts_bus_stop_min_dist_mar17|false      |\n",
      "|vts_full_bus_stops_apr17   |false      |\n",
      "|vts_full_bus_stops_feb17   |false      |\n",
      "|vts_full_bus_stops_jan17   |false      |\n",
      "|vts_full_bus_stops_mar17   |false      |\n",
      "|vts_jun2017                |false      |\n",
      "|vts_normal_speed           |false      |\n",
      "|vts_volvo_2017             |false      |\n",
      "|vts_volvo_oct2017          |false      |\n",
      "|vts_waybill_volvo_apr2017  |false      |\n",
      "|vts_waybill_volvo_aug2017  |false      |\n",
      "|vts_waybill_volvo_dec2017  |false      |\n",
      "|vts_waybill_volvo_feb2017  |false      |\n",
      "|vts_waybill_volvo_jan2017  |false      |\n",
      "|vts_waybill_volvo_jul2017  |false      |\n",
      "|vts_waybill_volvo_jun2017  |false      |\n",
      "|vts_waybill_volvo_mar2017  |false      |\n",
      "|vts_waybill_volvo_may2017  |false      |\n",
      "|vts_waybill_volvo_nov2017  |false      |\n",
      "|vts_waybill_volvo_oct2017  |false      |\n",
      "|vts_waybill_volvo_sep2017  |false      |\n",
      "+---------------------------+-----------+\n",
      "\n"
     ]
    }
   ],
   "source": [
    "sqlContext.sql(\"use bmtc_eta_default\")\n",
    "sqlContext.sql(\"show tables\").show(40,truncate=False)"
   ]
  },
  {
   "cell_type": "markdown",
   "metadata": {
    "collapsed": true
   },
   "source": [
    "### Validation Part "
   ]
  },
  {
   "cell_type": "code",
   "execution_count": 5,
   "metadata": {
    "collapsed": false
   },
   "outputs": [
    {
     "data": {
      "text/plain": [
       "38277567"
      ]
     },
     "execution_count": 5,
     "metadata": {},
     "output_type": "execute_result"
    }
   ],
   "source": [
    "temp_df = sqlContext.sql(\"select * from vts_waybill_volvo_jan2017\")\n",
    "temp_count = temp_df.count()\n",
    "temp_count"
   ]
  },
  {
   "cell_type": "code",
   "execution_count": 6,
   "metadata": {
    "collapsed": false
   },
   "outputs": [
    {
     "data": {
      "text/plain": [
       "33598754"
      ]
     },
     "execution_count": 6,
     "metadata": {},
     "output_type": "execute_result"
    }
   ],
   "source": [
    "temp_df = sqlContext.sql(\"select * from vts_waybill_volvo_feb2017\")\n",
    "temp_count = temp_df.count()\n",
    "temp_count"
   ]
  },
  {
   "cell_type": "code",
   "execution_count": 7,
   "metadata": {
    "collapsed": false
   },
   "outputs": [
    {
     "data": {
      "text/plain": [
       "36067690"
      ]
     },
     "execution_count": 7,
     "metadata": {},
     "output_type": "execute_result"
    }
   ],
   "source": [
    "temp_df = sqlContext.sql(\"select * from vts_waybill_volvo_mar2017\")\n",
    "temp_count = temp_df.count()\n",
    "temp_count"
   ]
  },
  {
   "cell_type": "code",
   "execution_count": 8,
   "metadata": {
    "collapsed": false
   },
   "outputs": [
    {
     "data": {
      "text/plain": [
       "32082425"
      ]
     },
     "execution_count": 8,
     "metadata": {},
     "output_type": "execute_result"
    }
   ],
   "source": [
    "temp_df = sqlContext.sql(\"select * from vts_waybill_volvo_apr2017\")\n",
    "temp_count = temp_df.count()\n",
    "temp_count"
   ]
  },
  {
   "cell_type": "code",
   "execution_count": 9,
   "metadata": {
    "collapsed": false
   },
   "outputs": [
    {
     "data": {
      "text/plain": [
       "31459481"
      ]
     },
     "execution_count": 9,
     "metadata": {},
     "output_type": "execute_result"
    }
   ],
   "source": [
    "temp_df = sqlContext.sql(\"select * from vts_waybill_volvo_may2017\")\n",
    "temp_count = temp_df.count()\n",
    "temp_count"
   ]
  },
  {
   "cell_type": "code",
   "execution_count": 10,
   "metadata": {
    "collapsed": false
   },
   "outputs": [
    {
     "data": {
      "text/plain": [
       "24305551"
      ]
     },
     "execution_count": 10,
     "metadata": {},
     "output_type": "execute_result"
    }
   ],
   "source": [
    "temp_df = sqlContext.sql(\"select * from vts_waybill_volvo_jun2017\")\n",
    "temp_count = temp_df.count()\n",
    "temp_count"
   ]
  },
  {
   "cell_type": "code",
   "execution_count": 11,
   "metadata": {
    "collapsed": false
   },
   "outputs": [
    {
     "data": {
      "text/plain": [
       "24460343"
      ]
     },
     "execution_count": 11,
     "metadata": {},
     "output_type": "execute_result"
    }
   ],
   "source": [
    "temp_df = sqlContext.sql(\"select * from vts_waybill_volvo_jul2017\")\n",
    "temp_count = temp_df.count()\n",
    "temp_count"
   ]
  },
  {
   "cell_type": "code",
   "execution_count": 12,
   "metadata": {
    "collapsed": false
   },
   "outputs": [
    {
     "data": {
      "text/plain": [
       "27068360"
      ]
     },
     "execution_count": 12,
     "metadata": {},
     "output_type": "execute_result"
    }
   ],
   "source": [
    "temp_df = sqlContext.sql(\"select * from vts_waybill_volvo_aug2017\")\n",
    "temp_count = temp_df.count()\n",
    "temp_count"
   ]
  },
  {
   "cell_type": "code",
   "execution_count": 13,
   "metadata": {
    "collapsed": false
   },
   "outputs": [
    {
     "data": {
      "text/plain": [
       "23532256"
      ]
     },
     "execution_count": 13,
     "metadata": {},
     "output_type": "execute_result"
    }
   ],
   "source": [
    "temp_df = sqlContext.sql(\"select * from vts_waybill_volvo_sep2017\")\n",
    "temp_count = temp_df.count()\n",
    "temp_count"
   ]
  },
  {
   "cell_type": "code",
   "execution_count": 14,
   "metadata": {
    "collapsed": false
   },
   "outputs": [
    {
     "data": {
      "text/plain": [
       "25473694"
      ]
     },
     "execution_count": 14,
     "metadata": {},
     "output_type": "execute_result"
    }
   ],
   "source": [
    "temp_df = sqlContext.sql(\"select * from vts_waybill_volvo_oct2017\")\n",
    "temp_count = temp_df.count()\n",
    "temp_count"
   ]
  },
  {
   "cell_type": "code",
   "execution_count": 15,
   "metadata": {
    "collapsed": false
   },
   "outputs": [
    {
     "data": {
      "text/plain": [
       "27017321"
      ]
     },
     "execution_count": 15,
     "metadata": {},
     "output_type": "execute_result"
    }
   ],
   "source": [
    "temp_df = sqlContext.sql(\"select * from vts_waybill_volvo_nov2017\")\n",
    "temp_count = temp_df.count()\n",
    "temp_count"
   ]
  },
  {
   "cell_type": "code",
   "execution_count": 16,
   "metadata": {
    "collapsed": false
   },
   "outputs": [
    {
     "data": {
      "text/plain": [
       "0"
      ]
     },
     "execution_count": 16,
     "metadata": {},
     "output_type": "execute_result"
    }
   ],
   "source": [
    "temp_df = sqlContext.sql(\"select * from vts_waybill_volvo_dec2017\")\n",
    "temp_count = temp_df.count()\n",
    "temp_count"
   ]
  },
  {
   "cell_type": "code",
   "execution_count": null,
   "metadata": {
    "collapsed": true
   },
   "outputs": [],
   "source": []
  }
 ],
 "metadata": {
  "kernelspec": {
   "display_name": "Python 2",
   "language": "python",
   "name": "python2"
  },
  "language_info": {
   "codemirror_mode": {
    "name": "ipython",
    "version": 2
   },
   "file_extension": ".py",
   "mimetype": "text/x-python",
   "name": "python",
   "nbconvert_exporter": "python",
   "pygments_lexer": "ipython2",
   "version": "2.7.13"
  }
 },
 "nbformat": 4,
 "nbformat_minor": 2
}
