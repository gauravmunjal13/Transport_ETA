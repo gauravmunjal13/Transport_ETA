{
 "cells": [
  {
   "cell_type": "code",
   "execution_count": 170,
   "metadata": {
    "collapsed": false
   },
   "outputs": [
    {
     "data": {
      "text/plain": [
       "<pyspark.context.SparkContext at 0x7f06359c5d90>"
      ]
     },
     "execution_count": 170,
     "metadata": {},
     "output_type": "execute_result"
    }
   ],
   "source": [
    "sc"
   ]
  },
  {
   "cell_type": "code",
   "execution_count": 199,
   "metadata": {
    "collapsed": false
   },
   "outputs": [
    {
     "data": {
      "text/plain": [
       "u'application_1529929920393_0152'"
      ]
     },
     "execution_count": 199,
     "metadata": {},
     "output_type": "execute_result"
    }
   ],
   "source": [
    "sc.applicationId"
   ]
  },
  {
   "cell_type": "markdown",
   "metadata": {},
   "source": [
    "## Load the libraries"
   ]
  },
  {
   "cell_type": "code",
   "execution_count": 200,
   "metadata": {
    "collapsed": true
   },
   "outputs": [],
   "source": [
    "import sys\n",
    "sys.path.append(\"/usr/lib/python2.7/site-packages\")\n",
    "\n",
    "import matplotlib.pyplot as plt\n",
    "import numpy as np\n",
    "import pandas as pd\n",
    "from datetime import datetime\n",
    "\n",
    "from pyspark.sql.functions import year, month, dayofmonth, isnan, hour, format_number\n",
    "from pyspark.sql.functions import col, unix_timestamp,abs, log, from_unixtime, avg\n",
    "from pyspark.sql.functions import count, sum, desc, date_format, lit, concat, udf\n",
    "from pyspark.sql import functions as F\n",
    "from pyspark.sql import Window\n",
    "from pyspark.sql.types import IntegerType"
   ]
  },
  {
   "cell_type": "code",
   "execution_count": 201,
   "metadata": {
    "collapsed": true
   },
   "outputs": [],
   "source": [
    "# For displaying multiple outputs\n",
    "from IPython.core.interactiveshell import InteractiveShell\n",
    "InteractiveShell.ast_node_interactivity = \"all\""
   ]
  },
  {
   "cell_type": "markdown",
   "metadata": {},
   "source": [
    "## Load the data from Part 5 "
   ]
  },
  {
   "cell_type": "code",
   "execution_count": 202,
   "metadata": {
    "collapsed": false
   },
   "outputs": [
    {
     "data": {
      "text/plain": [
       "DataFrame[]"
      ]
     },
     "execution_count": 202,
     "metadata": {},
     "output_type": "execute_result"
    },
    {
     "data": {
      "text/plain": [
       "1199113"
      ]
     },
     "execution_count": 202,
     "metadata": {},
     "output_type": "execute_result"
    }
   ],
   "source": [
    "sqlContext.sql(\"use bmtc_eta_default\")\n",
    "\n",
    "# Read bus stop traversal times with a cap on the gap\n",
    "# between bus stops\n",
    "engineered_df = sqlContext.sql(\"select * from vts_normal_speed\")\n",
    "engineered_count = engineered_df.count()\n",
    "engineered_count"
   ]
  },
  {
   "cell_type": "code",
   "execution_count": 203,
   "metadata": {
    "collapsed": false
   },
   "outputs": [
    {
     "name": "stdout",
     "output_type": "stream",
     "text": [
      "+--------+-----------+-----------+--------+---------------------+-------------+-----------+-----------+------+-----+--------+\n",
      "|route_id|bus_stop_id|route_order|distance|google_time_to_travel|month_of_trip|day_of_week|hour_of_day|q3_val|count|time_cap|\n",
      "+--------+-----------+-----------+--------+---------------------+-------------+-----------+-----------+------+-----+--------+\n",
      "|    4544|       2589|         23|     900|                  122|            1|          3|         17| 308.0|    1|  542.17|\n",
      "|    4996|       8345|         16|    1400|                  191|            3|          3|         19| 598.0|    2|  843.37|\n",
      "|    5800|       4650|          7|     500|                   56|            2|          0|         21|  71.0|    1|  301.20|\n",
      "|    5806|        218|         15|     700|                   57|            1|          1|         19|  80.0|    1|  421.69|\n",
      "|    7362|         21|         10|     386|                   45|            3|          3|         15|  60.0|    1|  232.53|\n",
      "+--------+-----------+-----------+--------+---------------------+-------------+-----------+-----------+------+-----+--------+\n",
      "only showing top 5 rows\n",
      "\n"
     ]
    }
   ],
   "source": [
    "engineered_df.show(5)"
   ]
  },
  {
   "cell_type": "code",
   "execution_count": 204,
   "metadata": {
    "collapsed": false
   },
   "outputs": [
    {
     "data": {
      "text/plain": [
       "DataFrame[]"
      ]
     },
     "execution_count": 204,
     "metadata": {},
     "output_type": "execute_result"
    }
   ],
   "source": [
    "sqlContext.sql(\"use bmtc\")\n",
    "\n",
    "# Get the route map\n",
    "route_map_df = sqlContext.sql(\"select route_id,start_bus_stop_id as prev_bus_stop_id,\\\n",
    "                               end_bus_stop_id as bus_stop_id,\\\n",
    "                               bus_stop_order as prev_bus_stop_order from route_map\")\n",
    "\n",
    "# Get the route_point\n",
    "route_point_df = sqlContext.sql(\"select route_id, route_order, bus_stop_id from route_point\")"
   ]
  },
  {
   "cell_type": "code",
   "execution_count": 205,
   "metadata": {
    "collapsed": false
   },
   "outputs": [
    {
     "name": "stdout",
     "output_type": "stream",
     "text": [
      "+--------+----------------+-----------+-------------------+\n",
      "|route_id|prev_bus_stop_id|bus_stop_id|prev_bus_stop_order|\n",
      "+--------+----------------+-----------+-------------------+\n",
      "|    4544|             480|       8882|                  1|\n",
      "+--------+----------------+-----------+-------------------+\n",
      "only showing top 1 row\n",
      "\n"
     ]
    }
   ],
   "source": [
    "route_map_df.filter(col(\"route_id\") == 4544).show(1)"
   ]
  },
  {
   "cell_type": "markdown",
   "metadata": {},
   "source": [
    "## Data Engineering:"
   ]
  },
  {
   "cell_type": "markdown",
   "metadata": {},
   "source": [
    "### For OD matrix, add the previous bus stop information based upon the route ID"
   ]
  },
  {
   "cell_type": "code",
   "execution_count": 206,
   "metadata": {
    "collapsed": true
   },
   "outputs": [],
   "source": [
    "OD_entry_df = engineered_df.join(route_map_df, [\"route_id\", \"bus_stop_id\"], \"left_outer\")"
   ]
  },
  {
   "cell_type": "code",
   "execution_count": 207,
   "metadata": {
    "collapsed": false
   },
   "outputs": [
    {
     "name": "stdout",
     "output_type": "stream",
     "text": [
      "+--------+-----------+-----------+--------+---------------------+-------------+-----------+-----------+------+-----+--------+----------------+-------------------+\n",
      "|route_id|bus_stop_id|route_order|distance|google_time_to_travel|month_of_trip|day_of_week|hour_of_day|q3_val|count|time_cap|prev_bus_stop_id|prev_bus_stop_order|\n",
      "+--------+-----------+-----------+--------+---------------------+-------------+-----------+-----------+------+-----+--------+----------------+-------------------+\n",
      "|    7114|        887|         29|     605|                   69|            2|          3|          6|  79.0|    1|  364.46|             888|                 28|\n",
      "|   13340|       6091|         15|     739|                   49|            2|          1|          6|  60.0|    8|  445.18|            7509|                 14|\n",
      "|   13340|       6091|         15|     739|                   49|            3|          4|         16|  52.0|    2|  445.18|            7509|                 14|\n",
      "|   13340|       6091|         15|     739|                   49|            1|          2|         15|  60.0|   14|  445.18|            7509|                 14|\n",
      "|   13340|       6091|         15|     739|                   49|            3|          2|         15|  66.0|   17|  445.18|            7509|                 14|\n",
      "+--------+-----------+-----------+--------+---------------------+-------------+-----------+-----------+------+-----+--------+----------------+-------------------+\n",
      "only showing top 5 rows\n",
      "\n"
     ]
    }
   ],
   "source": [
    "OD_entry_df.show(5)"
   ]
  },
  {
   "cell_type": "code",
   "execution_count": null,
   "metadata": {
    "collapsed": true
   },
   "outputs": [],
   "source": [
    "#TODO: What if the bus stop id is 1"
   ]
  },
  {
   "cell_type": "markdown",
   "metadata": {},
   "source": [
    "### Add the categorical features"
   ]
  },
  {
   "cell_type": "code",
   "execution_count": 208,
   "metadata": {
    "collapsed": true
   },
   "outputs": [],
   "source": [
    "# Information as conveyed to us by BMTC regarding traffic patterns\n",
    "def monthBlock(mth):\n",
    "    if(mth <= 5):\n",
    "        block = 1\n",
    "    elif(mth <= 10):\n",
    "        block = 2\n",
    "    elif(mth <= 12):\n",
    "        block = 3\n",
    "    else:\n",
    "        block = -1\n",
    "    return(block)"
   ]
  },
  {
   "cell_type": "code",
   "execution_count": 209,
   "metadata": {
    "collapsed": true
   },
   "outputs": [],
   "source": [
    "udfMonthBlock = udf(monthBlock)"
   ]
  },
  {
   "cell_type": "code",
   "execution_count": 210,
   "metadata": {
    "collapsed": true
   },
   "outputs": [],
   "source": [
    "OD_entry_2_df = OD_entry_df.withColumn(\"month_block\", udfMonthBlock(OD_entry_df.month_of_trip))"
   ]
  },
  {
   "cell_type": "code",
   "execution_count": 211,
   "metadata": {
    "collapsed": false
   },
   "outputs": [
    {
     "name": "stdout",
     "output_type": "stream",
     "text": [
      "+--------+-----------+-----------+--------+---------------------+-------------+-----------+-----------+------+-----+--------+----------------+-------------------+-----------+\n",
      "|route_id|bus_stop_id|route_order|distance|google_time_to_travel|month_of_trip|day_of_week|hour_of_day|q3_val|count|time_cap|prev_bus_stop_id|prev_bus_stop_order|month_block|\n",
      "+--------+-----------+-----------+--------+---------------------+-------------+-----------+-----------+------+-----+--------+----------------+-------------------+-----------+\n",
      "|    7114|        887|         29|     605|                   69|            2|          3|          6|  79.0|    1|  364.46|             888|                 28|          1|\n",
      "+--------+-----------+-----------+--------+---------------------+-------------+-----------+-----------+------+-----+--------+----------------+-------------------+-----------+\n",
      "only showing top 1 row\n",
      "\n"
     ]
    }
   ],
   "source": [
    "OD_entry_2_df.show(1)"
   ]
  },
  {
   "cell_type": "code",
   "execution_count": 212,
   "metadata": {
    "collapsed": true
   },
   "outputs": [],
   "source": [
    "def hourBlock(hour_of_day):\n",
    "    if(hour_of_day <= 7):\n",
    "        block = 1\n",
    "    elif(hour_of_day <= 11):\n",
    "        block = 2\n",
    "    elif(hour_of_day <= 16):\n",
    "        block = 3\n",
    "    elif(hour_of_day <= 20):\n",
    "        block = 4\n",
    "    elif(hour_of_day <= 23):\n",
    "        block = 1\n",
    "    else:\n",
    "        block = -1\n",
    "    return(block)"
   ]
  },
  {
   "cell_type": "code",
   "execution_count": 213,
   "metadata": {
    "collapsed": true
   },
   "outputs": [],
   "source": [
    "udfHourBlock = udf(hourBlock)"
   ]
  },
  {
   "cell_type": "code",
   "execution_count": 214,
   "metadata": {
    "collapsed": true
   },
   "outputs": [],
   "source": [
    "OD_entry_3_df = OD_entry_2_df.withColumn(\"hour_block\", udfHourBlock(OD_entry_2_df.hour_of_day))"
   ]
  },
  {
   "cell_type": "code",
   "execution_count": 215,
   "metadata": {
    "collapsed": false
   },
   "outputs": [
    {
     "name": "stdout",
     "output_type": "stream",
     "text": [
      "+--------+-----------+-----------+--------+---------------------+-------------+-----------+-----------+------+-----+--------+----------------+-------------------+-----------+----------+\n",
      "|route_id|bus_stop_id|route_order|distance|google_time_to_travel|month_of_trip|day_of_week|hour_of_day|q3_val|count|time_cap|prev_bus_stop_id|prev_bus_stop_order|month_block|hour_block|\n",
      "+--------+-----------+-----------+--------+---------------------+-------------+-----------+-----------+------+-----+--------+----------------+-------------------+-----------+----------+\n",
      "|    7114|        887|         29|     605|                   69|            2|          3|          6|  79.0|    1|  364.46|             888|                 28|          1|         1|\n",
      "+--------+-----------+-----------+--------+---------------------+-------------+-----------+-----------+------+-----+--------+----------------+-------------------+-----------+----------+\n",
      "only showing top 1 row\n",
      "\n"
     ]
    }
   ],
   "source": [
    "OD_entry_3_df.show(1)"
   ]
  },
  {
   "cell_type": "code",
   "execution_count": 216,
   "metadata": {
    "collapsed": true
   },
   "outputs": [],
   "source": [
    "OD_entry_3_df = OD_entry_3_df.withColumn(\"day_of_week\", OD_entry_3_df[\"day_of_week\"].cast(IntegerType()))"
   ]
  },
  {
   "cell_type": "code",
   "execution_count": 217,
   "metadata": {
    "collapsed": true
   },
   "outputs": [],
   "source": [
    "def dayBlock(day_of_week):\n",
    "    # print(\"dayBlock: {}\".format(day_of_week))\n",
    "    if(day_of_week == 0):\n",
    "        block = 1\n",
    "    elif(day_of_week <= 5):\n",
    "        block = 2\n",
    "    elif(day_of_week == 6):\n",
    "        block = 1\n",
    "    else:\n",
    "        block = -1\n",
    "    return(block)"
   ]
  },
  {
   "cell_type": "code",
   "execution_count": 218,
   "metadata": {
    "collapsed": true
   },
   "outputs": [],
   "source": [
    "udfDayBlock = udf(dayBlock)"
   ]
  },
  {
   "cell_type": "code",
   "execution_count": 219,
   "metadata": {
    "collapsed": true
   },
   "outputs": [],
   "source": [
    "OD_entry_4_df = OD_entry_3_df.withColumn(\"day_block\", udfDayBlock(OD_entry_3_df.day_of_week))"
   ]
  },
  {
   "cell_type": "code",
   "execution_count": 225,
   "metadata": {
    "collapsed": true
   },
   "outputs": [],
   "source": [
    "OD_entry_4_df = OD_entry_4_df.withColumn(\"q3_count\", col(\"q3_val\") * col(\"count\"))"
   ]
  },
  {
   "cell_type": "code",
   "execution_count": 226,
   "metadata": {
    "collapsed": false
   },
   "outputs": [
    {
     "name": "stdout",
     "output_type": "stream",
     "text": [
      "+--------+-----------+-----------+--------+---------------------+-------------+-----------+-----------+------+-----+--------+----------------+-------------------+-----------+----------+---------+--------+\n",
      "|route_id|bus_stop_id|route_order|distance|google_time_to_travel|month_of_trip|day_of_week|hour_of_day|q3_val|count|time_cap|prev_bus_stop_id|prev_bus_stop_order|month_block|hour_block|day_block|q3_count|\n",
      "+--------+-----------+-----------+--------+---------------------+-------------+-----------+-----------+------+-----+--------+----------------+-------------------+-----------+----------+---------+--------+\n",
      "|    7114|        887|         29|     605|                   69|            2|          3|          6|  79.0|    1|  364.46|             888|                 28|          1|         1|        2|    79.0|\n",
      "|   13340|       6091|         15|     739|                   49|            2|          1|          6|  60.0|    8|  445.18|            7509|                 14|          1|         1|        2|   480.0|\n",
      "+--------+-----------+-----------+--------+---------------------+-------------+-----------+-----------+------+-----+--------+----------------+-------------------+-----------+----------+---------+--------+\n",
      "only showing top 2 rows\n",
      "\n"
     ]
    }
   ],
   "source": [
    "OD_entry_4_df.show(2)"
   ]
  },
  {
   "cell_type": "code",
   "execution_count": 227,
   "metadata": {
    "collapsed": false
   },
   "outputs": [
    {
     "data": {
      "text/plain": [
       "1199116"
      ]
     },
     "execution_count": 227,
     "metadata": {},
     "output_type": "execute_result"
    }
   ],
   "source": [
    "OD_entry_4_count = OD_entry_4_df.count()\n",
    "OD_entry_4_count"
   ]
  },
  {
   "cell_type": "markdown",
   "metadata": {},
   "source": [
    "### Ready to create OD matrices by [ month_block, day_block, hour_block ]"
   ]
  },
  {
   "cell_type": "code",
   "execution_count": 228,
   "metadata": {
    "collapsed": true
   },
   "outputs": [],
   "source": [
    "from pyspark.sql.functions import lag, col\n",
    "from pyspark.sql.window import Window"
   ]
  },
  {
   "cell_type": "code",
   "execution_count": 231,
   "metadata": {
    "collapsed": false
   },
   "outputs": [],
   "source": [
    "OD_entry_5_df = OD_entry_4_df.groupBy(\"month_block\",\"day_block\",\"hour_block\", \n",
    "                                    \"prev_bus_stop_id\", \"bus_stop_id\").agg({\"q3_count\": \"sum\", \"count\": \"sum\"})"
   ]
  },
  {
   "cell_type": "code",
   "execution_count": 232,
   "metadata": {
    "collapsed": false
   },
   "outputs": [
    {
     "name": "stdout",
     "output_type": "stream",
     "text": [
      "+-----------+---------+----------+----------------+-----------+-------------+----------+\n",
      "|month_block|day_block|hour_block|prev_bus_stop_id|bus_stop_id|sum(q3_count)|sum(count)|\n",
      "+-----------+---------+----------+----------------+-----------+-------------+----------+\n",
      "|          1|        2|         1|              64|       8207|         50.0|         4|\n",
      "|          1|        2|         3|            9291|       7391|    1202956.0|      5034|\n",
      "+-----------+---------+----------+----------------+-----------+-------------+----------+\n",
      "only showing top 2 rows\n",
      "\n"
     ]
    }
   ],
   "source": [
    "OD_entry_5_df.show(2)"
   ]
  },
  {
   "cell_type": "code",
   "execution_count": 235,
   "metadata": {
    "collapsed": false
   },
   "outputs": [],
   "source": [
    "OD_entry_6_df = OD_entry_5_df.withColumnRenamed(\"sum(q3_count)\", \"sum_q3_count\") \n",
    "OD_entry_6_df = OD_entry_6_df.withColumnRenamed(\"sum(count)\", \"sum_count\") \n",
    "OD_entry_6_df = OD_entry_6_df.withColumn(\"avg_time_taken\", col(\"sum_q3_count\")/col(\"sum_count\")) "
   ]
  },
  {
   "cell_type": "code",
   "execution_count": 236,
   "metadata": {
    "collapsed": true
   },
   "outputs": [],
   "source": [
    "OD_entry_6_df = OD_entry_6_df.withColumn(\"avg_time_taken\",\n",
    "                                         col(\"avg_time_taken\").cast(IntegerType()))"
   ]
  },
  {
   "cell_type": "code",
   "execution_count": 237,
   "metadata": {
    "collapsed": false
   },
   "outputs": [
    {
     "name": "stdout",
     "output_type": "stream",
     "text": [
      "+-----------+---------+----------+----------------+-----------+------------+---------+--------------+\n",
      "|month_block|day_block|hour_block|prev_bus_stop_id|bus_stop_id|sum_q3_count|sum_count|avg_time_taken|\n",
      "+-----------+---------+----------+----------------+-----------+------------+---------+--------------+\n",
      "|          1|        2|         2|             362|       5561|   1331749.0|    12170|           109|\n",
      "|          1|        1|         3|              28|      10287|    443558.0|     1302|           340|\n",
      "|          1|        1|         4|              57|      10005|     23474.0|      204|           115|\n",
      "|          1|        2|         2|             560|        281|      3372.0|       50|            67|\n",
      "|          1|        1|         3|              45|         38|    207035.0|      848|           244|\n",
      "|          1|        1|         2|             205|       5707|       811.0|        5|           162|\n",
      "|          1|        2|         4|            5365|       7502|   1053153.0|     3490|           301|\n",
      "|          1|        2|         3|            9291|       7391|   1202956.0|     5034|           238|\n",
      "|          1|        1|         1|            1698|        187|     16082.0|      132|           121|\n",
      "|          1|        2|         2|           11378|      11376|        60.0|        4|            15|\n",
      "+-----------+---------+----------+----------------+-----------+------------+---------+--------------+\n",
      "only showing top 10 rows\n",
      "\n"
     ]
    }
   ],
   "source": [
    "OD_entry_6_df.show(10)"
   ]
  },
  {
   "cell_type": "markdown",
   "metadata": {},
   "source": [
    "### Now construct the route_map with the OD_matrix"
   ]
  },
  {
   "cell_type": "code",
   "execution_count": 77,
   "metadata": {
    "collapsed": true
   },
   "outputs": [],
   "source": [
    "### Given that there are multiple google_time_to_travel against the same pair of stops, we average them\n",
    "\n",
    "# route_map_gdf = route_map_df.groupBy(\"prev_bus_stop_id\", \"bus_stop_id\").agg({\"distance\": \"avg\", \n",
    "#                                                                              \"google_time_to_travel\": \"avg\"})\n",
    "# route_map_gdf.show(5)\n",
    "\n",
    "# route_map_1_gdf = route_map_gdf.withColumnRenamed(\"avg(google_time_to_travel)\", \"google_time_to_travel\") \n",
    "# route_map_1_gdf = route_map_1_gdf.withColumnRenamed(\"avg(distance)\", \"distance\") \n",
    "# route_map_1_gdf = route_map_1_gdf.withColumn(\"google_time_to_travel\", col(\"google_time_to_travel\").cast(IntegerType()))\n",
    "# route_map_1_gdf = route_map_1_gdf.withColumn(\"distance\", col(\"distance\").cast(IntegerType()))\n",
    "\n",
    "# OD_entry_7_df = OD_entry_6_df.join(route_map_1_gdf, [\"prev_bus_stop_id\", \"bus_stop_id\"], \"left_outer\")"
   ]
  },
  {
   "cell_type": "code",
   "execution_count": null,
   "metadata": {
    "collapsed": false
   },
   "outputs": [],
   "source": [
    "# Filter the volvo route_id's\n",
    "volvo_route_id_list = OD_entry_4_df.select(\"route_id\").rdd.map(lambda x:x[0]).distinct().collect()\n",
    "len(volvo_route_id_list)"
   ]
  },
  {
   "cell_type": "code",
   "execution_count": 238,
   "metadata": {
    "collapsed": false
   },
   "outputs": [
    {
     "data": {
      "text/plain": [
       "DataFrame[]"
      ]
     },
     "execution_count": 238,
     "metadata": {},
     "output_type": "execute_result"
    }
   ],
   "source": [
    "sqlContext.sql(\"use bmtc\")\n",
    "\n",
    "# Get the route map, not taking the variation in the selected pair of bus stops across different route id\n",
    "# i.e. ignoring the distance and time to travel variation\n",
    "route_map_df = sqlContext.sql(\"select route_id, start_bus_stop_id as prev_bus_stop_id,\\\n",
    "                                      end_bus_stop_id as bus_stop_id, bus_stop_order, distance, \\\n",
    "                                      time_to_travel as google_time_to_travel \\\n",
    "                                from route_map\")"
   ]
  },
  {
   "cell_type": "code",
   "execution_count": 239,
   "metadata": {
    "collapsed": false
   },
   "outputs": [
    {
     "name": "stdout",
     "output_type": "stream",
     "text": [
      "+--------+----------------+-----------+--------------+--------+---------------------+\n",
      "|route_id|prev_bus_stop_id|bus_stop_id|bus_stop_order|distance|google_time_to_travel|\n",
      "+--------+----------------+-----------+--------------+--------+---------------------+\n",
      "|     809|             160|       5841|             1|     140|                   10|\n",
      "|     809|            5841|         33|             2|     200|                   14|\n",
      "+--------+----------------+-----------+--------------+--------+---------------------+\n",
      "only showing top 2 rows\n",
      "\n"
     ]
    },
    {
     "data": {
      "text/plain": [
       "1043894"
      ]
     },
     "execution_count": 239,
     "metadata": {},
     "output_type": "execute_result"
    }
   ],
   "source": [
    "route_map_df.show(2)\n",
    "route_map_df.count()"
   ]
  },
  {
   "cell_type": "code",
   "execution_count": 240,
   "metadata": {
    "collapsed": false
   },
   "outputs": [
    {
     "data": {
      "text/plain": [
       "23033"
      ]
     },
     "execution_count": 240,
     "metadata": {},
     "output_type": "execute_result"
    }
   ],
   "source": [
    "volvo_route_map_df = route_map_df.filter(col(\"route_id\").isin(volvo_route_id_list))\n",
    "volvo_route_map_df.count()"
   ]
  },
  {
   "cell_type": "code",
   "execution_count": 241,
   "metadata": {
    "collapsed": false
   },
   "outputs": [
    {
     "data": {
      "text/plain": [
       "2484"
      ]
     },
     "execution_count": 241,
     "metadata": {},
     "output_type": "execute_result"
    }
   ],
   "source": [
    "volvo_route_map_df.select(\"bus_stop_id\").distinct().count()"
   ]
  },
  {
   "cell_type": "code",
   "execution_count": 242,
   "metadata": {
    "collapsed": false
   },
   "outputs": [
    {
     "name": "stdout",
     "output_type": "stream",
     "text": [
      "+-----------+---------+----------+----------------+-----------+------------+---------+--------------+\n",
      "|month_block|day_block|hour_block|prev_bus_stop_id|bus_stop_id|sum_q3_count|sum_count|avg_time_taken|\n",
      "+-----------+---------+----------+----------------+-----------+------------+---------+--------------+\n",
      "|          1|        2|         2|             362|       5561|   1331749.0|    12170|           109|\n",
      "|          1|        1|         3|              28|      10287|    443558.0|     1302|           340|\n",
      "+-----------+---------+----------+----------------+-----------+------------+---------+--------------+\n",
      "only showing top 2 rows\n",
      "\n"
     ]
    }
   ],
   "source": [
    "OD_entry_6_df.show(2)"
   ]
  },
  {
   "cell_type": "code",
   "execution_count": 251,
   "metadata": {
    "collapsed": false
   },
   "outputs": [
    {
     "data": {
      "text/plain": [
       "154327"
      ]
     },
     "execution_count": 251,
     "metadata": {},
     "output_type": "execute_result"
    }
   ],
   "source": [
    "# Formulate the volvo_route_map_df with the OD matrix.\n",
    "# The route_order and prev_bus_stop_order were eliminated during OD matrix creation.\n",
    "# Now the bus_stop_order represents the prev_bus_stop_id\n",
    "volvo_route_map_joined_df = volvo_route_map_df.join(OD_entry_6_df,['prev_bus_stop_id', 'bus_stop_id'],\"left_outer\")\n",
    "volvo_route_map_joined_df.count() # The rows will increase based upon the selected combination of block"
   ]
  },
  {
   "cell_type": "code",
   "execution_count": 252,
   "metadata": {
    "collapsed": false
   },
   "outputs": [
    {
     "name": "stdout",
     "output_type": "stream",
     "text": [
      "+----------------+-----------+--------+--------------+--------+---------------------+-----------+---------+----------+------------+---------+--------------+\n",
      "|prev_bus_stop_id|bus_stop_id|route_id|bus_stop_order|distance|google_time_to_travel|month_block|day_block|hour_block|sum_q3_count|sum_count|avg_time_taken|\n",
      "+----------------+-----------+--------+--------------+--------+---------------------+-----------+---------+----------+------------+---------+--------------+\n",
      "|             126|        158|   28807|             8|     764|                  215|          1|        2|         3|    573837.0|     1759|           326|\n",
      "|             126|        158|   28807|             8|     764|                  215|          1|        2|         2|    476824.0|     1885|           252|\n",
      "|             126|        158|   28807|             8|     764|                  215|          1|        1|         2|    185339.0|      846|           219|\n",
      "+----------------+-----------+--------+--------------+--------+---------------------+-----------+---------+----------+------------+---------+--------------+\n",
      "only showing top 3 rows\n",
      "\n"
     ]
    }
   ],
   "source": [
    "volvo_route_map_joined_df.show(3)"
   ]
  },
  {
   "cell_type": "code",
   "execution_count": 253,
   "metadata": {
    "collapsed": false
   },
   "outputs": [
    {
     "name": "stdout",
     "output_type": "stream",
     "text": [
      "+----------------+-----------+--------+--------------+--------+---------------------+-----------+---------+----------+------------+---------+--------------+\n",
      "|prev_bus_stop_id|bus_stop_id|route_id|bus_stop_order|distance|google_time_to_travel|month_block|day_block|hour_block|sum_q3_count|sum_count|avg_time_taken|\n",
      "+----------------+-----------+--------+--------------+--------+---------------------+-----------+---------+----------+------------+---------+--------------+\n",
      "|             160|       5841|   23067|             1|      80|                    5|          1|        1|         2|     51467.0|     1134|            45|\n",
      "|             160|       5841|   23067|             1|      80|                    5|          1|        2|         1|    112214.0|     2786|            40|\n",
      "|             160|       5841|   23067|             1|      80|                    5|          1|        2|         3|    185092.0|     5284|            35|\n",
      "+----------------+-----------+--------+--------------+--------+---------------------+-----------+---------+----------+------------+---------+--------------+\n",
      "only showing top 3 rows\n",
      "\n"
     ]
    }
   ],
   "source": [
    "# Validation for a route\n",
    "volvo_route_map_joined_df.filter(col(\"route_id\") == 23067).orderBy(\"bus_stop_order\").show(3)"
   ]
  },
  {
   "cell_type": "code",
   "execution_count": 254,
   "metadata": {
    "collapsed": false
   },
   "outputs": [],
   "source": [
    "volvo_route_map_joined_df = volvo_route_map_joined_df.drop(\"sum_q3_count\")"
   ]
  },
  {
   "cell_type": "code",
   "execution_count": 261,
   "metadata": {
    "collapsed": true
   },
   "outputs": [],
   "source": [
    "volvo_route_map_null_df = volvo_route_map_joined_df.filter(col(\"avg_time_taken\").isNull())"
   ]
  },
  {
   "cell_type": "code",
   "execution_count": 263,
   "metadata": {
    "collapsed": false
   },
   "outputs": [
    {
     "data": {
      "text/plain": [
       "1455"
      ]
     },
     "execution_count": 263,
     "metadata": {},
     "output_type": "execute_result"
    },
    {
     "name": "stdout",
     "output_type": "stream",
     "text": [
      "+----------------+-----------+--------+--------------+--------+---------------------+-----------+---------+----------+---------+--------------+\n",
      "|prev_bus_stop_id|bus_stop_id|route_id|bus_stop_order|distance|google_time_to_travel|month_block|day_block|hour_block|sum_count|avg_time_taken|\n",
      "+----------------+-----------+--------+--------------+--------+---------------------+-----------+---------+----------+---------+--------------+\n",
      "|             405|       6914|   28767|            35|    1935|                  411|       null|     null|      null|     null|          null|\n",
      "|            1094|       1095|    9244|             3|     249|                   21|       null|     null|      null|     null|          null|\n",
      "|            1094|       1095|    3359|             5|     200|                   20|       null|     null|      null|     null|          null|\n",
      "|            1707|       2713|   22611|            11|     855|                  258|       null|     null|      null|     null|          null|\n",
      "|            2230|       2870|   18168|            25|     639|                  101|       null|     null|      null|     null|          null|\n",
      "+----------------+-----------+--------+--------------+--------+---------------------+-----------+---------+----------+---------+--------------+\n",
      "only showing top 5 rows\n",
      "\n"
     ]
    }
   ],
   "source": [
    "# Just for exploration\n",
    "volvo_route_map_null_df.count()\n",
    "volvo_route_map_null_df.show(5)"
   ]
  },
  {
   "cell_type": "code",
   "execution_count": 256,
   "metadata": {
    "collapsed": false
   },
   "outputs": [
    {
     "data": {
      "text/html": [
       "<div>\n",
       "<table border=\"1\" class=\"dataframe\">\n",
       "  <thead>\n",
       "    <tr style=\"text-align: right;\">\n",
       "      <th></th>\n",
       "      <th>prev_bus_stop_id</th>\n",
       "      <th>bus_stop_id</th>\n",
       "      <th>route_id</th>\n",
       "      <th>bus_stop_order</th>\n",
       "      <th>distance</th>\n",
       "      <th>google_time_to_travel</th>\n",
       "      <th>month_block</th>\n",
       "      <th>day_block</th>\n",
       "      <th>hour_block</th>\n",
       "      <th>sum_count</th>\n",
       "      <th>avg_time_taken</th>\n",
       "    </tr>\n",
       "  </thead>\n",
       "  <tbody>\n",
       "    <tr>\n",
       "      <th>0</th>\n",
       "      <td>126</td>\n",
       "      <td>158</td>\n",
       "      <td>20187</td>\n",
       "      <td>8</td>\n",
       "      <td>764</td>\n",
       "      <td>209</td>\n",
       "      <td>1</td>\n",
       "      <td>1</td>\n",
       "      <td>1</td>\n",
       "      <td>1015.0</td>\n",
       "      <td>169.0</td>\n",
       "    </tr>\n",
       "    <tr>\n",
       "      <th>1</th>\n",
       "      <td>126</td>\n",
       "      <td>158</td>\n",
       "      <td>20187</td>\n",
       "      <td>8</td>\n",
       "      <td>764</td>\n",
       "      <td>209</td>\n",
       "      <td>1</td>\n",
       "      <td>2</td>\n",
       "      <td>1</td>\n",
       "      <td>2732.0</td>\n",
       "      <td>169.0</td>\n",
       "    </tr>\n",
       "    <tr>\n",
       "      <th>2</th>\n",
       "      <td>126</td>\n",
       "      <td>158</td>\n",
       "      <td>20187</td>\n",
       "      <td>8</td>\n",
       "      <td>764</td>\n",
       "      <td>209</td>\n",
       "      <td>1</td>\n",
       "      <td>1</td>\n",
       "      <td>3</td>\n",
       "      <td>1257.0</td>\n",
       "      <td>275.0</td>\n",
       "    </tr>\n",
       "    <tr>\n",
       "      <th>3</th>\n",
       "      <td>126</td>\n",
       "      <td>158</td>\n",
       "      <td>20187</td>\n",
       "      <td>8</td>\n",
       "      <td>764</td>\n",
       "      <td>209</td>\n",
       "      <td>1</td>\n",
       "      <td>1</td>\n",
       "      <td>2</td>\n",
       "      <td>846.0</td>\n",
       "      <td>219.0</td>\n",
       "    </tr>\n",
       "    <tr>\n",
       "      <th>4</th>\n",
       "      <td>126</td>\n",
       "      <td>158</td>\n",
       "      <td>20187</td>\n",
       "      <td>8</td>\n",
       "      <td>764</td>\n",
       "      <td>209</td>\n",
       "      <td>1</td>\n",
       "      <td>2</td>\n",
       "      <td>4</td>\n",
       "      <td>1297.0</td>\n",
       "      <td>309.0</td>\n",
       "    </tr>\n",
       "    <tr>\n",
       "      <th>5</th>\n",
       "      <td>126</td>\n",
       "      <td>158</td>\n",
       "      <td>20187</td>\n",
       "      <td>8</td>\n",
       "      <td>764</td>\n",
       "      <td>209</td>\n",
       "      <td>1</td>\n",
       "      <td>2</td>\n",
       "      <td>2</td>\n",
       "      <td>1885.0</td>\n",
       "      <td>252.0</td>\n",
       "    </tr>\n",
       "    <tr>\n",
       "      <th>6</th>\n",
       "      <td>126</td>\n",
       "      <td>158</td>\n",
       "      <td>20187</td>\n",
       "      <td>8</td>\n",
       "      <td>764</td>\n",
       "      <td>209</td>\n",
       "      <td>1</td>\n",
       "      <td>2</td>\n",
       "      <td>3</td>\n",
       "      <td>1759.0</td>\n",
       "      <td>326.0</td>\n",
       "    </tr>\n",
       "    <tr>\n",
       "      <th>7</th>\n",
       "      <td>126</td>\n",
       "      <td>158</td>\n",
       "      <td>20187</td>\n",
       "      <td>8</td>\n",
       "      <td>764</td>\n",
       "      <td>209</td>\n",
       "      <td>1</td>\n",
       "      <td>1</td>\n",
       "      <td>4</td>\n",
       "      <td>1060.0</td>\n",
       "      <td>282.0</td>\n",
       "    </tr>\n",
       "    <tr>\n",
       "      <th>8</th>\n",
       "      <td>126</td>\n",
       "      <td>158</td>\n",
       "      <td>23067</td>\n",
       "      <td>8</td>\n",
       "      <td>764</td>\n",
       "      <td>209</td>\n",
       "      <td>1</td>\n",
       "      <td>1</td>\n",
       "      <td>1</td>\n",
       "      <td>1015.0</td>\n",
       "      <td>169.0</td>\n",
       "    </tr>\n",
       "    <tr>\n",
       "      <th>9</th>\n",
       "      <td>126</td>\n",
       "      <td>158</td>\n",
       "      <td>23067</td>\n",
       "      <td>8</td>\n",
       "      <td>764</td>\n",
       "      <td>209</td>\n",
       "      <td>1</td>\n",
       "      <td>2</td>\n",
       "      <td>1</td>\n",
       "      <td>2732.0</td>\n",
       "      <td>169.0</td>\n",
       "    </tr>\n",
       "  </tbody>\n",
       "</table>\n",
       "</div>"
      ],
      "text/plain": [
       "   prev_bus_stop_id  bus_stop_id  route_id  bus_stop_order  distance  \\\n",
       "0               126          158     20187               8       764   \n",
       "1               126          158     20187               8       764   \n",
       "2               126          158     20187               8       764   \n",
       "3               126          158     20187               8       764   \n",
       "4               126          158     20187               8       764   \n",
       "5               126          158     20187               8       764   \n",
       "6               126          158     20187               8       764   \n",
       "7               126          158     20187               8       764   \n",
       "8               126          158     23067               8       764   \n",
       "9               126          158     23067               8       764   \n",
       "\n",
       "   google_time_to_travel month_block day_block hour_block  sum_count  \\\n",
       "0                    209           1         1          1     1015.0   \n",
       "1                    209           1         2          1     2732.0   \n",
       "2                    209           1         1          3     1257.0   \n",
       "3                    209           1         1          2      846.0   \n",
       "4                    209           1         2          4     1297.0   \n",
       "5                    209           1         2          2     1885.0   \n",
       "6                    209           1         2          3     1759.0   \n",
       "7                    209           1         1          4     1060.0   \n",
       "8                    209           1         1          1     1015.0   \n",
       "9                    209           1         2          1     2732.0   \n",
       "\n",
       "   avg_time_taken  \n",
       "0           169.0  \n",
       "1           169.0  \n",
       "2           275.0  \n",
       "3           219.0  \n",
       "4           309.0  \n",
       "5           252.0  \n",
       "6           326.0  \n",
       "7           282.0  \n",
       "8           169.0  \n",
       "9           169.0  "
      ]
     },
     "execution_count": 256,
     "metadata": {},
     "output_type": "execute_result"
    }
   ],
   "source": [
    "volvo_route_map_joined_pdf = volvo_route_map_joined_df.toPandas()\n",
    "volvo_route_map_joined_pdf.head(10)"
   ]
  },
  {
   "cell_type": "code",
   "execution_count": 271,
   "metadata": {
    "collapsed": false
   },
   "outputs": [
    {
     "data": {
      "text/plain": [
       "DataFrame[]"
      ]
     },
     "execution_count": 271,
     "metadata": {},
     "output_type": "execute_result"
    },
    {
     "data": {
      "text/plain": [
       "DataFrame[]"
      ]
     },
     "execution_count": 271,
     "metadata": {},
     "output_type": "execute_result"
    }
   ],
   "source": [
    "sqlContext.sql(\"use bmtc_eta_default\")\n",
    "volvo_route_map_joined_df.createOrReplaceTempView(\"temp_volvo_route_map_joined_df\") \n",
    "sqlContext.sql(\"create table vts_od_matrix as select * from temp_volvo_route_map_joined_df\")"
   ]
  },
  {
   "cell_type": "code",
   "execution_count": 272,
   "metadata": {
    "collapsed": true
   },
   "outputs": [],
   "source": [
    "vts_od_matrix_df = sqlContext.sql(\"select * from vts_od_matrix\")"
   ]
  },
  {
   "cell_type": "code",
   "execution_count": 273,
   "metadata": {
    "collapsed": false
   },
   "outputs": [
    {
     "data": {
      "text/plain": [
       "154327"
      ]
     },
     "execution_count": 273,
     "metadata": {},
     "output_type": "execute_result"
    }
   ],
   "source": [
    "vts_od_matrix_df.count()"
   ]
  },
  {
   "cell_type": "code",
   "execution_count": 260,
   "metadata": {
    "collapsed": false
   },
   "outputs": [
    {
     "data": {
      "text/plain": [
       "0    False\n",
       "1    False\n",
       "2    False\n",
       "Name: avg_time_taken, dtype: bool"
      ]
     },
     "execution_count": 260,
     "metadata": {},
     "output_type": "execute_result"
    }
   ],
   "source": [
    "volvo_route_map_null_pdf = volvo_route_map_joined_pdf[\"avg_time_taken\"].isnull()\n",
    "volvo_route_map_null_pdf.head(3)"
   ]
  },
  {
   "cell_type": "markdown",
   "metadata": {},
   "source": [
    "## Imputation"
   ]
  },
  {
   "cell_type": "code",
   "execution_count": 264,
   "metadata": {
    "collapsed": false
   },
   "outputs": [],
   "source": [
    "#volvo_route_map_joined_pdf['avg_traversal_Q3'].isnull().value_counts()"
   ]
  },
  {
   "cell_type": "code",
   "execution_count": null,
   "metadata": {
    "collapsed": true
   },
   "outputs": [],
   "source": [
    "## Drive speed of travel in kmph\n",
    "# engineered_feature1_pdf[\"speed\"] = engineered_feature1_pdf.apply(\n",
    "#                                         lambda row: 3.6*(row[\"distance\"]/row[\"q3_val\"]) if row[\"q3_val\"] > 0 else None,\n",
    "#                                                                 axis = 1)"
   ]
  },
  {
   "cell_type": "code",
   "execution_count": null,
   "metadata": {
    "collapsed": true
   },
   "outputs": [],
   "source": []
  }
 ],
 "metadata": {
  "kernelspec": {
   "display_name": "Python 2",
   "language": "python",
   "name": "python2"
  },
  "language_info": {
   "codemirror_mode": {
    "name": "ipython",
    "version": 2
   },
   "file_extension": ".py",
   "mimetype": "text/x-python",
   "name": "python",
   "nbconvert_exporter": "python",
   "pygments_lexer": "ipython2",
   "version": "2.7.13"
  }
 },
 "nbformat": 4,
 "nbformat_minor": 2
}
