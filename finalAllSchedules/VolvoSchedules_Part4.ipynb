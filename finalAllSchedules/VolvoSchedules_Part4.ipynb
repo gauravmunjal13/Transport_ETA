{
 "cells": [
  {
   "cell_type": "code",
   "execution_count": 27,
   "metadata": {
    "collapsed": false
   },
   "outputs": [
    {
     "data": {
      "text/plain": [
       "<pyspark.context.SparkContext at 0x7ff682533d90>"
      ]
     },
     "execution_count": 27,
     "metadata": {},
     "output_type": "execute_result"
    }
   ],
   "source": [
    "sc"
   ]
  },
  {
   "cell_type": "code",
   "execution_count": 28,
   "metadata": {
    "collapsed": false
   },
   "outputs": [
    {
     "data": {
      "text/plain": [
       "u'application_1522648856070_1091'"
      ]
     },
     "execution_count": 28,
     "metadata": {},
     "output_type": "execute_result"
    }
   ],
   "source": [
    "sc.applicationId"
   ]
  },
  {
   "cell_type": "code",
   "execution_count": 29,
   "metadata": {
    "collapsed": true
   },
   "outputs": [],
   "source": [
    "import sys\n",
    "sys.path.append(\"/usr/lib/python2.7/site-packages\")\n",
    "\n",
    "import matplotlib.pyplot as plt\n",
    "import numpy as np\n",
    "import pandas as pd\n",
    "import datetime\n",
    "from pyspark.sql.functions import year, month, dayofmonth\n",
    "from pyspark.sql.functions import col, unix_timestamp,abs, log, from_unixtime, avg\n",
    "from pyspark.sql.functions import count, sum, desc, date_format, lit, concat\n",
    "from pyspark.sql import functions as F"
   ]
  },
  {
   "cell_type": "code",
   "execution_count": 30,
   "metadata": {
    "collapsed": true
   },
   "outputs": [],
   "source": [
    "# For displaying multiple outputs\n",
    "from IPython.core.interactiveshell import InteractiveShell\n",
    "InteractiveShell.ast_node_interactivity = \"all\""
   ]
  },
  {
   "cell_type": "code",
   "execution_count": 31,
   "metadata": {
    "collapsed": false
   },
   "outputs": [
    {
     "data": {
      "text/plain": [
       "DataFrame[]"
      ]
     },
     "execution_count": 31,
     "metadata": {},
     "output_type": "execute_result"
    }
   ],
   "source": [
    "sqlContext.sql(\"use bmtc\")\n",
    "\n",
    "# Get the route map\n",
    "route_map_df = sqlContext.sql(\"select route_id,start_bus_stop_id,end_bus_stop_id,\\\n",
    "                                      distance,time_to_travel,bus_stop_order,status \\\n",
    "                               from route_map\")\n",
    "\n",
    "# Get the route_point\n",
    "route_point_df = sqlContext.sql(\"select route_id, route_order, bus_stop_id from route_point\")\n",
    "\n",
    "bus_stop_df = sqlContext.sql(\"select bus_stop_id, bus_stop_name from bus_stop\")\n",
    "\n",
    "# Join the bus stop ID with lat,long\n",
    "route_point_joined_df = route_point_df.join(bus_stop_df,\\\n",
    "                                            [\"bus_stop_id\"],\\\n",
    "                                            \"left_outer\")\n",
    "\n",
    "form_four_df = sqlContext.sql(\"select form_four_id,form_four_name,schedule_number_id,\\\n",
    "                                      schedule_number_name,no_of_trips,start_time,\\\n",
    "                                      route_id,route_number,toll_zone,\\\n",
    "                                      area_limit,total_km,total_dead_km,\\\n",
    "                                      actual_km,total_running_time,total_break_time,\\\n",
    "                                      total_steering_time,spread_over_hours,ot_hours \\\n",
    "                               from form_four\")\n",
    "\n",
    "schedule_df = sqlContext.sql('select * from schedule')\n",
    "\n",
    "schedule_df = schedule_df.select(\"schedule_id\",\"schedule_number\",\"depot_id\",\"route_id\",\"schedule_type\")\n",
    "\n",
    "schedule_details_df = sqlContext.sql('select * from schedule_details')\n",
    "\n",
    "schedule_details_df = schedule_details_df.select(col(\"form_four_id\").alias(\"schedule_no\"),\"schedule_number\",\"trip_number\",\"trip_type\", \"start_time\", \"end_time\",\n",
    "                                                 col(\"route_number_id\").alias(\"route_id\"))"
   ]
  },
  {
   "cell_type": "code",
   "execution_count": 32,
   "metadata": {
    "collapsed": false
   },
   "outputs": [
    {
     "data": {
      "text/plain": [
       "DataFrame[]"
      ]
     },
     "execution_count": 32,
     "metadata": {},
     "output_type": "execute_result"
    }
   ],
   "source": [
    "sqlContext.sql(\"use bmtc_eta_default\")"
   ]
  },
  {
   "cell_type": "code",
   "execution_count": 33,
   "metadata": {
    "collapsed": false
   },
   "outputs": [
    {
     "name": "stdout",
     "output_type": "stream",
     "text": [
      "+---------------------------+-----------+\n",
      "|tableName                  |isTemporary|\n",
      "+---------------------------+-----------+\n",
      "|vts_365r                   |false      |\n",
      "|vts_365r_distance          |false      |\n",
      "|vts_365r_distance_1        |false      |\n",
      "|vts_365r_filtered          |false      |\n",
      "|vts_bus_stop_min_dist_apr17|false      |\n",
      "|vts_bus_stop_min_dist_feb17|false      |\n",
      "|vts_bus_stop_min_dist_jan17|false      |\n",
      "|vts_bus_stop_min_dist_mar17|false      |\n",
      "|vts_jun2017                |false      |\n",
      "|vts_volvo_2017             |false      |\n",
      "|vts_volvo_oct2017          |false      |\n",
      "|vts_waybill_volvo_apr2017  |false      |\n",
      "|vts_waybill_volvo_feb2017  |false      |\n",
      "|vts_waybill_volvo_jan2017  |false      |\n",
      "|vts_waybill_volvo_jun2017  |false      |\n",
      "|vts_waybill_volvo_mar2017  |false      |\n",
      "|vts_waybill_volvo_may2017  |false      |\n",
      "+---------------------------+-----------+\n",
      "\n"
     ]
    }
   ],
   "source": [
    "sqlContext.sql(\"show tables\").show(truncate = False)"
   ]
  },
  {
   "cell_type": "code",
   "execution_count": 89,
   "metadata": {
    "collapsed": false
   },
   "outputs": [
    {
     "data": {
      "text/plain": [
       "DataFrame[]"
      ]
     },
     "execution_count": 89,
     "metadata": {},
     "output_type": "execute_result"
    },
    {
     "data": {
      "text/plain": [
       "1966803"
      ]
     },
     "execution_count": 89,
     "metadata": {},
     "output_type": "execute_result"
    }
   ],
   "source": [
    "sqlContext.sql(\"use bmtc_eta_default\")\n",
    "vts_window_df = sqlContext.sql(\"select * from vts_bus_stop_min_dist_apr17\")\n",
    "vts_window_df = vts_window_df.filter(year(vts_window_df.etm_start_time) == 2017)\n",
    "vts_window_count = vts_window_df.count()\n",
    "vts_window_count"
   ]
  },
  {
   "cell_type": "code",
   "execution_count": 90,
   "metadata": {
    "collapsed": false
   },
   "outputs": [
    {
     "name": "stdout",
     "output_type": "stream",
     "text": [
      "+--------+-----------+-------------+--------------------+---------+---------+----------+----------+-----------+----------------+------------+-----------+----------+--------+--------+--------------------+--------------------+-----------+-----------+--------------+----------------+-----------------+----+--------+----------+\n",
      "|route_id|         id|vts_device_id|            ist_date|      lat|longitude| ist_epoch|   duty_dt|schedule_no|   schedule_name|service_type|trip_number|start_time|end_time|route_no|      etm_start_time|        etm_end_time|bus_stop_id|route_order| bus_stop_name|latitude_current|longitude_current|dist|min_dist|  min_time|\n",
      "+--------+-----------+-------------+--------------------+---------+---------+----------+----------+-----------+----------------+------------+-----------+----------+--------+--------+--------------------+--------------------+-----------+-----------+--------------+----------------+-----------------+----+--------+----------+\n",
      "|   29518|15218702893|    150218005|2017-04-01 20:45:...|12.841213|77.588516|1491059741|2017-04-01|      35652|V-600M/2-Holiday|           3|          5|  19:40:00|21:05:00|   V-365|2017-04-01 20:21:...|2017-04-01 22:43:...|        104|         10|Koli Farm Gate|     12.84100722|      77.58856176|23.0|    23.0|1491059741|\n",
      "+--------+-----------+-------------+--------------------+---------+---------+----------+----------+-----------+----------------+------------+-----------+----------+--------+--------+--------------------+--------------------+-----------+-----------+--------------+----------------+-----------------+----+--------+----------+\n",
      "only showing top 1 row\n",
      "\n"
     ]
    }
   ],
   "source": [
    "vts_window_df.show(1)"
   ]
  },
  {
   "cell_type": "code",
   "execution_count": 91,
   "metadata": {
    "collapsed": false,
    "scrolled": true
   },
   "outputs": [
    {
     "name": "stdout",
     "output_type": "stream",
     "text": [
      "+----------+-------------+-----------+-----------+--------+----------+--------+\n",
      "|   duty_dt|vts_device_id|schedule_no|trip_number|route_id|start_time|end_time|\n",
      "+----------+-------------+-----------+-----------+--------+----------+--------+\n",
      "|2017-04-01|    150220662|      22872|          1|   23478|  05:30:00|07:10:00|\n",
      "|2017-04-03|    150219597|      38291|          5|   32611|  19:10:00|20:40:00|\n",
      "|2017-04-27|    150814426|      21081|          1|   29017|  05:10:00|06:35:00|\n",
      "|2017-04-29|    150221620|      20312|          5|   29742|  08:50:00|10:30:00|\n",
      "|2017-04-29|    150222184|      25468|          4|   34851|  10:25:00|11:55:00|\n",
      "|2017-04-29|    150812093|      24404|          3|   13342|  17:00:00|18:30:00|\n",
      "|2017-04-10|    150220811|      24444|          5|   32612|  11:55:00|13:30:00|\n",
      "|2017-04-10|    150220850|      22947|          3|   34851|  15:10:00|16:40:00|\n",
      "|2017-04-10|    150221286|      12284|          4|   32611|  15:05:00|16:35:00|\n",
      "|2017-04-11|    150218344|      33323|          1|   23786|  05:40:00|06:40:00|\n",
      "+----------+-------------+-----------+-----------+--------+----------+--------+\n",
      "only showing top 10 rows\n",
      "\n"
     ]
    }
   ],
   "source": [
    "vts_frame_df = vts_window_df.select(\"duty_dt\", \"vts_device_id\", \"schedule_no\", \"trip_number\", \n",
    "                                    \"route_id\",\"start_time\", \"end_time\").distinct()\n",
    "vts_frame_df.show(10)"
   ]
  },
  {
   "cell_type": "code",
   "execution_count": 92,
   "metadata": {
    "collapsed": false
   },
   "outputs": [
    {
     "data": {
      "text/plain": [
       "70129"
      ]
     },
     "execution_count": 92,
     "metadata": {},
     "output_type": "execute_result"
    }
   ],
   "source": [
    "# No of trips made by Volvo buses for the month\n",
    "vts_frame_count = vts_frame_df.count()\n",
    "vts_frame_count"
   ]
  },
  {
   "cell_type": "code",
   "execution_count": 93,
   "metadata": {
    "collapsed": false
   },
   "outputs": [
    {
     "data": {
      "text/plain": [
       "2966298"
      ]
     },
     "execution_count": 93,
     "metadata": {},
     "output_type": "execute_result"
    }
   ],
   "source": [
    "vts_frame_all_stops_df = vts_frame_df.join(route_point_joined_df, \n",
    "                                           [\"route_id\"],\n",
    "                                           \"inner\")\n",
    "\n",
    "vts_frame_all_stops_count = vts_frame_all_stops_df.count()\n",
    "vts_frame_all_stops_count"
   ]
  },
  {
   "cell_type": "code",
   "execution_count": 94,
   "metadata": {
    "collapsed": false,
    "scrolled": true
   },
   "outputs": [
    {
     "name": "stdout",
     "output_type": "stream",
     "text": [
      "+--------+----------+-------------+-----------+-----------+----------+--------+-----------+-----------+--------------------+\n",
      "|route_id|   duty_dt|vts_device_id|schedule_no|trip_number|start_time|end_time|bus_stop_id|route_order|       bus_stop_name|\n",
      "+--------+----------+-------------+-----------+-----------+----------+--------+-----------+-----------+--------------------+\n",
      "|   13289|2017-04-19|    150220325|      22863|          3|  07:50:00|09:00:00|        372|          1|         Bommasandra|\n",
      "|   13289|2017-04-19|    150220325|      22863|          3|  07:50:00|09:00:00|        788|          2|           Hebbagodi|\n",
      "|   13289|2017-04-19|    150220325|      22863|          3|  07:50:00|09:00:00|       1318|          3|         Huskur Gate|\n",
      "|   13289|2017-04-19|    150220325|      22863|          3|  07:50:00|09:00:00|        370|          4|         Veerasandra|\n",
      "|   13289|2017-04-19|    150220325|      22863|          3|  07:50:00|09:00:00|       6723|          5|     Electronic City|\n",
      "|   13289|2017-04-19|    150220325|      22863|          3|  07:50:00|09:00:00|         43|          6|  Konappana Agarhara|\n",
      "|   13289|2017-04-19|    150220325|      22863|          3|  07:50:00|09:00:00|       4034|          7|       PESIT College|\n",
      "|   13289|2017-04-19|    150220325|      22863|          3|  07:50:00|09:00:00|       3651|          8|           Hosa Road|\n",
      "|   13289|2017-04-19|    150220325|      22863|          3|  07:50:00|09:00:00|         45|          9|         Singasandra|\n",
      "|   13289|2017-04-19|    150220325|      22863|          3|  07:50:00|09:00:00|         38|         10|          Kudlu Gate|\n",
      "|   13289|2017-04-19|    150220325|      22863|          3|  07:50:00|09:00:00|         37|         11|     Garvebhavipalya|\n",
      "|   13289|2017-04-19|    150220325|      22863|          3|  07:50:00|09:00:00|         47|         12|        Bommanahalli|\n",
      "|   13289|2017-04-19|    150220325|      22863|          3|  07:50:00|09:00:00|         48|         13|     Rupena Agrahara|\n",
      "|   13289|2017-04-19|    150220325|      22863|          3|  07:50:00|09:00:00|         49|         14|  Central Silk Board|\n",
      "|   13289|2017-04-19|    150220325|      22863|          3|  07:50:00|09:00:00|       7515|         15|          Silk Board|\n",
      "|   13289|2017-04-19|    150220325|      22863|          3|  07:50:00|09:00:00|      10287|         16|  Central Silk Board|\n",
      "|   13289|2017-04-19|    150220325|      22863|          3|  07:50:00|09:00:00|        161|         17|SI Apartment HSR ...|\n",
      "|   13289|2017-04-19|    150220325|      22863|          3|  07:50:00|09:00:00|        162|         18|14th Main HSR Layout|\n",
      "|   13289|2017-04-19|    150220325|      22863|          3|  07:50:00|09:00:00|        163|         19| Depot-25 HSR Layout|\n",
      "|   13289|2017-04-19|    150220325|      22863|          3|  07:50:00|09:00:00|        769|         20|         Jn of Agara|\n",
      "+--------+----------+-------------+-----------+-----------+----------+--------+-----------+-----------+--------------------+\n",
      "only showing top 20 rows\n",
      "\n"
     ]
    }
   ],
   "source": [
    "vts_frame_all_stops_df.show()"
   ]
  },
  {
   "cell_type": "code",
   "execution_count": 95,
   "metadata": {
    "collapsed": false
   },
   "outputs": [
    {
     "data": {
      "text/plain": [
       "2972514"
      ]
     },
     "execution_count": 95,
     "metadata": {},
     "output_type": "execute_result"
    }
   ],
   "source": [
    "vts_frame_all_stops_join_df = vts_frame_all_stops_df.join(vts_window_df, \n",
    "                                           [\"duty_dt\",\"vts_device_id\",\"schedule_no\",\"route_id\",\n",
    "                                            \"trip_number\",\"start_time\",\"end_time\", \"route_order\",\n",
    "                                            \"bus_stop_id\", \"bus_stop_name\"],\n",
    "                                           \"left_outer\")\n",
    "\n",
    "vts_frame_all_stops_join_count = vts_frame_all_stops_join_df.count()\n",
    "vts_frame_all_stops_join_count"
   ]
  },
  {
   "cell_type": "code",
   "execution_count": 96,
   "metadata": {
    "collapsed": false
   },
   "outputs": [
    {
     "name": "stdout",
     "output_type": "stream",
     "text": [
      "+----------+-------------+-----------+--------+-----------+----------+--------+-----------+-----------+-------------+-----------+--------------------+---------+---------+----------+----------------+------------+--------+--------------------+--------------------+----------------+-----------------+----+--------+----------+\n",
      "|   duty_dt|vts_device_id|schedule_no|route_id|trip_number|start_time|end_time|route_order|bus_stop_id|bus_stop_name|         id|            ist_date|      lat|longitude| ist_epoch|   schedule_name|service_type|route_no|      etm_start_time|        etm_end_time|latitude_current|longitude_current|dist|min_dist|  min_time|\n",
      "+----------+-------------+-----------+--------+-----------+----------+--------+-----------+-----------+-------------+-----------+--------------------+---------+---------+----------+----------------+------------+--------+--------------------+--------------------+----------------+-----------------+----+--------+----------+\n",
      "|2017-04-01|    150218005|      35652|   23067|          3|  10:35:00|12:05:00|         11|        353|      KH Road|15235305853|2017-04-02 11:27:...|12.957908|77.593025|1491112630|V-600M/2-Holiday|           3|   V-365|2017-04-02 10:51:...|2017-04-02 12:22:...|     12.95772479|       77.5931178|23.0|    23.0|1491112630|\n",
      "+----------+-------------+-----------+--------+-----------+----------+--------+-----------+-----------+-------------+-----------+--------------------+---------+---------+----------+----------------+------------+--------+--------------------+--------------------+----------------+-----------------+----+--------+----------+\n",
      "only showing top 1 row\n",
      "\n"
     ]
    }
   ],
   "source": [
    "vts_frame_all_stops_join_df.show(1)"
   ]
  },
  {
   "cell_type": "code",
   "execution_count": 97,
   "metadata": {
    "collapsed": false
   },
   "outputs": [],
   "source": [
    "# vts_window_select_df.groupBy(\"duty_dt\",\"vts_device_id\",\"schedule_no\",\"route_id\",\n",
    "#                                             \"trip_number\",\"start_time\",\"end_time\",\"bus_stop_id\",\n",
    "#                                             \"route_order\",\"bus_stop_name\").count().\\\n",
    "#                      orderBy(\"count\", ascending=False).show(3)"
   ]
  },
  {
   "cell_type": "code",
   "execution_count": 98,
   "metadata": {
    "collapsed": true
   },
   "outputs": [],
   "source": [
    "from pyspark.sql.functions import lag, col\n",
    "from pyspark.sql.window import Window"
   ]
  },
  {
   "cell_type": "code",
   "execution_count": 99,
   "metadata": {
    "collapsed": false
   },
   "outputs": [
    {
     "data": {
      "text/plain": [
       "2972514"
      ]
     },
     "execution_count": 99,
     "metadata": {},
     "output_type": "execute_result"
    }
   ],
   "source": [
    "window = Window().partitionBy(\"duty_dt\",\"vts_device_id\",\"schedule_no\",\"route_id\",\n",
    "                                            \"trip_number\",\"start_time\",\"end_time\").orderBy(col(\"route_order\"))\n",
    "vts_frame_all_stops_lagged_df = vts_frame_all_stops_join_df.select(\"*\", lag(\"ist_epoch\").over(window).alias(\"lagged_epoch\"))\n",
    "vts_frame_all_stops_join_count = vts_frame_all_stops_join_df.count()\n",
    "vts_frame_all_stops_join_count"
   ]
  },
  {
   "cell_type": "code",
   "execution_count": 100,
   "metadata": {
    "collapsed": false
   },
   "outputs": [
    {
     "name": "stdout",
     "output_type": "stream",
     "text": [
      "+----------+-------------+-----------+--------+-----------+----------+--------+-----------+-----------+------------------+-----------+--------------------+---------+---------+----------+------------------+------------+--------+--------------------+--------------------+----------------+-----------------+----+--------+----------+------------+\n",
      "|   duty_dt|vts_device_id|schedule_no|route_id|trip_number|start_time|end_time|route_order|bus_stop_id|     bus_stop_name|         id|            ist_date|      lat|longitude| ist_epoch|     schedule_name|service_type|route_no|      etm_start_time|        etm_end_time|latitude_current|longitude_current|dist|min_dist|  min_time|lagged_epoch|\n",
      "+----------+-------------+-----------+--------+-----------+----------+--------+-----------+-----------+------------------+-----------+--------------------+---------+---------+----------+------------------+------------+--------+--------------------+--------------------+----------------+-----------------+----+--------+----------+------------+\n",
      "|2017-04-01|    150222596|      23841|   30485|          3|  09:05:00|10:35:00|          1|      10287|Central Silk Board|15197396782|2017-04-01 08:56:...|12.917595|77.623444|1491017183|V-500A/13-All Days|           3|  V-500D|2017-04-01 09:00:...|2017-04-01 11:38:...|     12.91752687|       77.6235909|18.0|    18.0|1491017183|        null|\n",
      "+----------+-------------+-----------+--------+-----------+----------+--------+-----------+-----------+------------------+-----------+--------------------+---------+---------+----------+------------------+------------+--------+--------------------+--------------------+----------------+-----------------+----+--------+----------+------------+\n",
      "only showing top 1 row\n",
      "\n"
     ]
    }
   ],
   "source": [
    "vts_frame_all_stops_lagged_df.filter(col('trip_number') == 3).show(1)"
   ]
  },
  {
   "cell_type": "code",
   "execution_count": 101,
   "metadata": {
    "collapsed": false
   },
   "outputs": [
    {
     "name": "stdout",
     "output_type": "stream",
     "text": [
      "+----------+-------------+-----------+--------+-----------+----------+--------+-----------+--------------------+----------+------------+\n",
      "|   duty_dt|vts_device_id|schedule_no|route_id|trip_number|start_time|end_time|route_order|       bus_stop_name| ist_epoch|lagged_epoch|\n",
      "+----------+-------------+-----------+--------+-----------+----------+--------+-----------+--------------------+----------+------------+\n",
      "|2017-04-01|    150222596|      23841|   30485|          3|  09:05:00|10:35:00|          1|  Central Silk Board|1491017183|        null|\n",
      "|2017-04-01|    150222596|      23841|   30485|          3|  09:05:00|10:35:00|          2|SI Apartment HSR ...|1491018557|  1491017183|\n",
      "|2017-04-01|    150222596|      23841|   30485|          3|  09:05:00|10:35:00|          3|14th Main HSR Layout|1491018607|  1491018557|\n",
      "|2017-04-01|    150222596|      23841|   30485|          3|  09:05:00|10:35:00|          4| Depot-25 HSR Layout|1491018688|  1491018607|\n",
      "|2017-04-01|    150222596|      23841|   30485|          3|  09:05:00|10:35:00|          5|         Jn of Agara|1491018777|  1491018688|\n",
      "|2017-04-01|    150222596|      23841|   30485|          3|  09:05:00|10:35:00|          6|              Ibblur|1491019015|  1491018777|\n",
      "|2017-04-01|    150222596|      23841|   30485|          3|  09:05:00|10:35:00|          7|Jn of Sarjapura R...|1491019076|  1491019015|\n",
      "|2017-04-01|    150222596|      23841|   30485|          3|  09:05:00|10:35:00|          8|Petrol Bunk Bella...|      null|  1491019076|\n",
      "|2017-04-01|    150222596|      23841|   30485|          3|  09:05:00|10:35:00|          9|          Bellanduru|1491019156|        null|\n",
      "|2017-04-01|    150222596|      23841|   30485|          3|  09:05:00|10:35:00|         10|           Eco Space|1491019205|  1491019156|\n",
      "|2017-04-01|    150222596|      23841|   30485|          3|  09:05:00|10:35:00|         11|   Devarabisanahalli|      null|  1491019205|\n",
      "|2017-04-01|    150222596|      23841|   30485|          3|  09:05:00|10:35:00|         12| New Horizon College|1491019305|        null|\n",
      "|2017-04-01|    150222596|      23841|   30485|          3|  09:05:00|10:35:00|         13|     Kadabisanahalli|      null|  1491019305|\n",
      "|2017-04-01|    150222596|      23841|   30485|          3|  09:05:00|10:35:00|         14|Multiplex Maratha...|1491019464|        null|\n",
      "|2017-04-01|    150222596|      23841|   30485|          3|  09:05:00|10:35:00|         15| Marathahalli Bridge|1491019515|  1491019464|\n",
      "|2017-04-01|    150222596|      23841|   30485|          3|  09:05:00|10:35:00|         16| Marathahalli Bridge|1491019564|  1491019515|\n",
      "|2017-04-01|    150222596|      23841|   30485|          3|  09:05:00|10:35:00|         17|      Karthik Nagara|1491019674|  1491019564|\n",
      "|2017-04-01|    150222596|      23841|   30485|          3|  09:05:00|10:35:00|         18|      Dodda Nekkundi|1491019833|  1491019674|\n",
      "|2017-04-01|    150222596|      23841|   30485|          3|  09:05:00|10:35:00|         19|                EMC2|1491019873|  1491019833|\n",
      "|2017-04-01|    150222596|      23841|   30485|          3|  09:05:00|10:35:00|         20|Mahadevapura Ring...|1491020032|  1491019873|\n",
      "|2017-04-01|    150222596|      23841|   30485|          3|  09:05:00|10:35:00|         21|B Narayanapura Ri...|1491020092|  1491020032|\n",
      "|2017-04-01|    150222596|      23841|   30485|          3|  09:05:00|10:35:00|         22|Railway Station K...|1491020201|  1491020092|\n",
      "|2017-04-01|    150222596|      23841|   30485|          3|  09:05:00|10:35:00|         23|         Tin Factory|1491020311|  1491020201|\n",
      "|2017-04-01|    150222596|      23841|   30485|          3|  09:05:00|10:35:00|         24|Kasthuri Nagara R...|1491020570|  1491020311|\n",
      "|2017-04-01|    150222596|      23841|   30485|          3|  09:05:00|10:35:00|         25|Ramamurthy Nagara...|1491020649|  1491020570|\n",
      "|2017-04-01|    150222596|      23841|   30485|          3|  09:05:00|10:35:00|         26|Vijaya Bank Colon...|1491020730|  1491020649|\n",
      "|2017-04-01|    150222596|      23841|   30485|          3|  09:05:00|10:35:00|         27|Horamavu Petrol Bunk|      null|  1491020730|\n",
      "|2017-04-01|    150222596|      23841|   30485|          3|  09:05:00|10:35:00|         28|        Babusabpalya|1491020851|        null|\n",
      "|2017-04-01|    150222596|      23841|   30485|          3|  09:05:00|10:35:00|         29|       Kalyananagara|1491020980|  1491020851|\n",
      "|2017-04-01|    150222596|      23841|   30485|          3|  09:05:00|10:35:00|         30|        Hennur Cross|1491021060|  1491020980|\n",
      "|2017-04-01|    150222596|      23841|   30485|          3|  09:05:00|10:35:00|         31|          HBR Layout|1491021119|  1491021060|\n",
      "|2017-04-01|    150222596|      23841|   30485|          3|  09:05:00|10:35:00|         32|      Jn of Nagawara|1491021239|  1491021119|\n",
      "|2017-04-01|    150222596|      23841|   30485|          3|  09:05:00|10:35:00|         33|Manyata Embassy B...|1491021289|  1491021239|\n",
      "|2017-04-01|    150222596|      23841|   30485|          3|  09:05:00|10:35:00|         34|        Veeranapalya|1491021408|  1491021289|\n",
      "|2017-04-01|    150222596|      23841|   30485|          3|  09:05:00|10:35:00|         35|           Kempapura|1491021547|  1491021408|\n",
      "|2017-04-01|    150222596|      23841|   30485|          3|  09:05:00|10:35:00|         36|      Hebbala Bridge|1491021658|  1491021547|\n",
      "+----------+-------------+-----------+--------+-----------+----------+--------+-----------+--------------------+----------+------------+\n",
      "\n"
     ]
    }
   ],
   "source": [
    "vts_frame_all_stops_lagged_df.filter((col(\"duty_dt\") == \"2017-04-01\") &\n",
    "                                    (col(\"vts_device_id\") == 150222596) &\n",
    "                                     (col(\"schedule_no\") == 23841) &\n",
    "                                     (col(\"route_id\") == 30485) &\n",
    "                                     (col(\"trip_number\") == 3) &\n",
    "                                     (col(\"start_time\") == \"09:05:00\") &\n",
    "                                     (col(\"end_time\") == \"10:35:00\")).\\\n",
    "                                select(\"duty_dt\",\"vts_device_id\",\"schedule_no\",\"route_id\",\n",
    "                                            \"trip_number\",\"start_time\",\"end_time\", \"route_order\", \"bus_stop_name\",\n",
    "                                       \"ist_epoch\", \"lagged_epoch\").show(50)"
   ]
  },
  {
   "cell_type": "code",
   "execution_count": 102,
   "metadata": {
    "collapsed": false
   },
   "outputs": [
    {
     "data": {
      "text/plain": [
       "DataFrame[]"
      ]
     },
     "execution_count": 102,
     "metadata": {},
     "output_type": "execute_result"
    }
   ],
   "source": [
    "# Instead of creating a persistent table using saveAsTable, make temp table and dump it as a hive table\n",
    "vts_frame_all_stops_lagged_df.createOrReplaceTempView(\"temp_vts_frame_all_stops_lagged_df\") \n",
    "sqlContext.sql(\"create table vts_full_bus_stops_apr17 as select * from temp_vts_frame_all_stops_lagged_df\")\n",
    "# sqlContext.sql(\"insert into vts_bus_stop_min_dist_apr17 select * from temp_VW_window_3_df\")"
   ]
  },
  {
   "cell_type": "code",
   "execution_count": 103,
   "metadata": {
    "collapsed": false
   },
   "outputs": [
    {
     "name": "stdout",
     "output_type": "stream",
     "text": [
      "+---------------------------+-----------+\n",
      "|tableName                  |isTemporary|\n",
      "+---------------------------+-----------+\n",
      "|vts_365r                   |false      |\n",
      "|vts_365r_distance          |false      |\n",
      "|vts_365r_distance_1        |false      |\n",
      "|vts_365r_filtered          |false      |\n",
      "|vts_bus_stop_min_dist_apr17|false      |\n",
      "|vts_bus_stop_min_dist_feb17|false      |\n",
      "|vts_bus_stop_min_dist_jan17|false      |\n",
      "|vts_bus_stop_min_dist_mar17|false      |\n",
      "|vts_full_bus_stops_apr17   |false      |\n",
      "|vts_full_bus_stops_feb17   |false      |\n",
      "|vts_full_bus_stops_jan17   |false      |\n",
      "|vts_full_bus_stops_mar17   |false      |\n",
      "|vts_jun2017                |false      |\n",
      "|vts_volvo_2017             |false      |\n",
      "|vts_volvo_oct2017          |false      |\n",
      "|vts_waybill_volvo_apr2017  |false      |\n",
      "|vts_waybill_volvo_feb2017  |false      |\n",
      "|vts_waybill_volvo_jan2017  |false      |\n",
      "|vts_waybill_volvo_jun2017  |false      |\n",
      "|vts_waybill_volvo_mar2017  |false      |\n",
      "+---------------------------+-----------+\n",
      "only showing top 20 rows\n",
      "\n"
     ]
    }
   ],
   "source": [
    "sqlContext.sql(\"show tables\").show(truncate=False)"
   ]
  },
  {
   "cell_type": "code",
   "execution_count": 104,
   "metadata": {
    "collapsed": false
   },
   "outputs": [
    {
     "data": {
      "text/plain": [
       "2972514"
      ]
     },
     "execution_count": 104,
     "metadata": {},
     "output_type": "execute_result"
    }
   ],
   "source": [
    "vts_full_bus_stops_one_month_df = sqlContext.sql(\"select * from vts_full_bus_stops_apr17\")\n",
    "vts_full_bus_stops_one_month_count = vts_full_bus_stops_one_month_df.count()\n",
    "vts_full_bus_stops_one_month_count"
   ]
  },
  {
   "cell_type": "code",
   "execution_count": 105,
   "metadata": {
    "collapsed": false
   },
   "outputs": [
    {
     "name": "stdout",
     "output_type": "stream",
     "text": [
      "+----------+------+\n",
      "|   duty_dt| count|\n",
      "+----------+------+\n",
      "|2017-04-01| 80902|\n",
      "|2017-04-02|101347|\n",
      "|2017-04-03|117461|\n",
      "|2017-04-04|111977|\n",
      "|2017-04-05|101389|\n",
      "|2017-04-06|108203|\n",
      "|2017-04-07|101598|\n",
      "|2017-04-08| 56678|\n",
      "|2017-04-09| 99366|\n",
      "|2017-04-10|113869|\n",
      "|2017-04-11|112616|\n",
      "|2017-04-12|115928|\n",
      "|2017-04-13|110750|\n",
      "|2017-04-14|111433|\n",
      "|2017-04-15| 70354|\n",
      "|2017-04-16| 91455|\n",
      "|2017-04-17|110440|\n",
      "|2017-04-18|109459|\n",
      "|2017-04-19|103662|\n",
      "|2017-04-20|107101|\n",
      "|2017-04-21|119129|\n",
      "|2017-04-22| 74183|\n",
      "|2017-04-23| 94480|\n",
      "|2017-04-24|113709|\n",
      "|2017-04-25|118863|\n",
      "|2017-04-26|109062|\n",
      "|2017-04-27| 99037|\n",
      "|2017-04-28| 90916|\n",
      "|2017-04-29| 67115|\n",
      "|2017-04-30| 50032|\n",
      "+----------+------+\n",
      "\n"
     ]
    }
   ],
   "source": [
    "vts_full_bus_stops_one_month_df.orderBy(\"duty_dt\").groupBy(\"duty_dt\").count().show(31)"
   ]
  },
  {
   "cell_type": "code",
   "execution_count": null,
   "metadata": {
    "collapsed": true
   },
   "outputs": [],
   "source": []
  }
 ],
 "metadata": {
  "kernelspec": {
   "display_name": "Python 2",
   "language": "python",
   "name": "python2"
  },
  "language_info": {
   "codemirror_mode": {
    "name": "ipython",
    "version": 2
   },
   "file_extension": ".py",
   "mimetype": "text/x-python",
   "name": "python",
   "nbconvert_exporter": "python",
   "pygments_lexer": "ipython2",
   "version": "2.7.13"
  }
 },
 "nbformat": 4,
 "nbformat_minor": 2
}
